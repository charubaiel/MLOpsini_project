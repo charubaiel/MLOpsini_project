{
 "cells": [
  {
   "cell_type": "code",
   "execution_count": 12,
   "metadata": {},
   "outputs": [],
   "source": [
    "import pandas as pd\n",
    "from bs4 import BeautifulSoup"
   ]
  },
  {
   "cell_type": "code",
   "execution_count": null,
   "metadata": {},
   "outputs": [],
   "source": [
    "self.id = self.url.split('/')[-2]\n",
    "self.raw_adress = self.html_data.find('div',{'data-name':'Geo'}).findAll('span')[0]['content']\n",
    "self.metro_list = [step.text for step in self.html_data.find('div',{'data-name':'Geo'}).findAll('a')[5:]]\n",
    "self.m2 = re.search('(\\d{2,})',self.html_data.find('div',{'data-name':'OfferTitle'}).text).group()\n",
    "self.rooms = self.html_data.find('div',{'data-name':'OfferTitle'}).text[0]\n",
    "self.floor = re.search('(\\d{,2})(?! из)',self.html_data.find('div',{'data-name':'ObjectSummaryDescription'}).text).group()\n",
    "self.build_year = re.search('(\\d{4})',self.html_data.find('div',{'data-name':'ObjectSummaryDescription'}).text).group()\n",
    "self.description = self.html_data.find('p',{'itemprop':'description'}).text\n",
    "self.adress_items = dict(zip(('Город','Округ','Район','Улица','Дом'),[step.text for step in self.html_data.find('div',{'data-name':'Geo'}).findAll('a')[:5]]))\n",
    "self.home_items = {item.findAll('div')[0].text : item.findAll('div')[1].text for item in self.html_data.find('div',{'data-name':'BtiHouseData'}).findAll('div',{'data-name':'Item'})}\n",
    "self.img_list = [img['src'] for img in self.html_data.find('div',{'data-name':'GalleryInnerComponent'}).findAll('img') if img['src'].endswith('.jpg')]\n"
   ]
  },
  {
   "cell_type": "code",
   "execution_count": 13,
   "metadata": {},
   "outputs": [],
   "source": [
    "with open('cian.html') as b:\n",
    "    html_ = BeautifulSoup(b.read())"
   ]
  },
  {
   "cell_type": "code",
   "execution_count": null,
   "metadata": {},
   "outputs": [],
   "source": [
    "for item in html_data"
   ]
  },
  {
   "cell_type": "code",
   "execution_count": null,
   "metadata": {},
   "outputs": [],
   "source": [
    "@asset(name = 'avito_dataframe',\n",
    "       description='Выделение только новых объявлений',\n",
    "       group_name='Extract')\n",
    "def convert_html_2_df_cian(context,cian_page_list:list) -> pd.DataFrame:\n",
    "\n",
    "    result_list = []\n",
    "    for page in cian_page_list:\n",
    "        \n",
    "        items = BeautifulSoup(page, features='lxml').findAll('div',{'data-testid':'offer-card'})\n",
    "\n",
    "        tmp_result = [get_cian_item_info(item=item) for item in items]\n",
    "        result_list.extend(tmp_result)\n",
    "        \n",
    "    result = pd.DataFrame(result_list)\n",
    "\n",
    "    return result\n"
   ]
  },
  {
   "cell_type": "code",
   "execution_count": 129,
   "metadata": {},
   "outputs": [],
   "source": [
    "\n",
    "def get_cian_item_info(item:BeautifulSoup):\n",
    "    item_desc = {}\n",
    "    item_desc['datetime'] = pd.to_datetime('now',utc=True).timestamp()\n",
    "    item_desc['title'] = item.find('span',{'data-mark':'OfferTitle'}).text\n",
    "    item_desc['price'] = item.find('span',{'data-mark':'MainPrice'}).text.replace('\\xa0₽','').replace(' ','')\n",
    "    item_desc['publish_delta'] = item.find('div',{'class':'_93444fe79c--relative--IYgur'}).text.replace('\\n','').replace('  ',' ')\n",
    "    item_desc['url'] = item.find('div',{'data-name':'LinkArea'}).a['href']\n",
    "    item_desc['id'] = item_desc['url'].split('/')[-2]\n",
    "    item_desc['text'] = item.find('div',{'data-name':'Description'}).text\n",
    "    item_desc.update(dict(zip(('Город','Округ','Метро','Район','Улица','Дом'),[step.text for step in item.findAll('a',{'data-name':'GeoLabel'})])))\n",
    "    item_desc['metro_branch'] = item.find('div',{'data-name':'UndergroundIconWrapper'})['style'].replace('color: rgb','').replace(';','')\n",
    "    item_desc['metro_name'] = [i for i in item.find('div',{'data-name':'SpecialGeo'}).text.split('\\n') if i !=''][0]\n",
    "    item_desc['metro_dist'] = [i for i in item.find('div',{'data-name':'SpecialGeo'}).text.split('\\n') if i !=''][1]\n",
    "    item_desc['img_list'] = [img['src'] for img in item.find('div',{'data-name':'Gallery'}).findAll('img') if img['src'].endswith('.jpg')]\n",
    "\n",
    "    return item_desc"
   ]
  },
  {
   "cell_type": "code",
   "execution_count": 123,
   "metadata": {},
   "outputs": [],
   "source": [
    "item_ = html_.findAll('div',{'data-testid':'offer-card'})[0]"
   ]
  },
  {
   "cell_type": "code",
   "execution_count": null,
   "metadata": {},
   "outputs": [],
   "source": []
  },
  {
   "cell_type": "code",
   "execution_count": null,
   "metadata": {},
   "outputs": [],
   "source": []
  },
  {
   "cell_type": "code",
   "execution_count": null,
   "metadata": {},
   "outputs": [],
   "source": []
  },
  {
   "cell_type": "code",
   "execution_count": null,
   "metadata": {},
   "outputs": [],
   "source": [
    "@asset(name = 'featurized_data',\n",
    "       description='Дополнение данных простыми фичами',\n",
    "       group_name='Featurize')\n",
    "def featuring_cian_data(cian_dataframe:pd.DataFrame)->pd.DataFrame:\n",
    "\n",
    "    cian_dataframe['price'] = cian_dataframe['price'].astype(float)\n",
    "    cian_dataframe[['rooms','m2','floor']] = cian_dataframe['title'].str.split(',',expand=True)\n",
    "    cian_dataframe['m2'] = cian_dataframe['m2'].str.extract(', (\\d+).*м²').astype(float)\n",
    "    cian_dataframe[['floor','max_floor']] = cian_dataframe['floor'].str.extract('(\\d+/\\d+).*эт')[0].str.split('/',expand=True).astype(int)\n",
    "\n",
    "    cian_dataframe['text'] = cian_dataframe['text'].str.replace('\\n','')\n",
    "    cian_dataframe['rubm2'] = cian_dataframe['price'] / cian_dataframe['m2']\n",
    "    cian_dataframe.drop(['title'],axis=1,inplace=True)\n",
    "\n",
    "    return cian_dataframe"
   ]
  },
  {
   "cell_type": "code",
   "execution_count": 135,
   "metadata": {},
   "outputs": [],
   "source": [
    "dd = pd.DataFrame([get_cian_item_info(item=item_)])"
   ]
  },
  {
   "cell_type": "code",
   "execution_count": 144,
   "metadata": {},
   "outputs": [
    {
     "data": {
      "text/html": [
       "<div>\n",
       "<style scoped>\n",
       "    .dataframe tbody tr th:only-of-type {\n",
       "        vertical-align: middle;\n",
       "    }\n",
       "\n",
       "    .dataframe tbody tr th {\n",
       "        vertical-align: top;\n",
       "    }\n",
       "\n",
       "    .dataframe thead th {\n",
       "        text-align: right;\n",
       "    }\n",
       "</style>\n",
       "<table border=\"1\" class=\"dataframe\">\n",
       "  <thead>\n",
       "    <tr style=\"text-align: right;\">\n",
       "      <th></th>\n",
       "      <th>0</th>\n",
       "      <th>1</th>\n",
       "    </tr>\n",
       "  </thead>\n",
       "  <tbody>\n",
       "    <tr>\n",
       "      <th>0</th>\n",
       "      <td>12.0</td>\n",
       "      <td>15.0</td>\n",
       "    </tr>\n",
       "  </tbody>\n",
       "</table>\n",
       "</div>"
      ],
      "text/plain": [
       "      0     1\n",
       "0  12.0  15.0"
      ]
     },
     "execution_count": 144,
     "metadata": {},
     "output_type": "execute_result"
    }
   ],
   "source": [
    "dd['title'].str.split(',',expand=True)[2].str.extract('(\\d+/\\d+).*эт')[0].str.split('/',expand=True).astype(float)"
   ]
  },
  {
   "cell_type": "code",
   "execution_count": 118,
   "metadata": {},
   "outputs": [
    {
     "data": {
      "text/plain": [
       "['https://cdn-p.cian.site/images/08/841/461/kvartira-moskovskiy-tatyanin-park-ulica-1641488041-4.jpg',\n",
       " 'https://cdn-p.cian.site/images/67/841/461/kvartira-moskovskiy-tatyanin-park-ulica-1641487615-4.jpg',\n",
       " 'https://cdn-p.cian.site/images/19/841/461/kvartira-moskovskiy-tatyanin-park-ulica-1641489139-4.jpg',\n",
       " 'https://cdn-p.cian.site/images/99/841/461/kvartira-moskovskiy-tatyanin-park-ulica-1641489940-4.jpg',\n",
       " 'https://cdn-p.cian.site/images/10/941/461/kvartira-moskovskiy-tatyanin-park-ulica-1641490155-4.jpg',\n",
       " 'https://cdn-p.cian.site/images/60/941/461/kvartira-moskovskiy-tatyanin-park-ulica-1641490634-4.jpg',\n",
       " 'https://cdn-p.cian.site/images/88/461/461/kvartira-moskovskiy-tatyanin-park-ulica-1641648842-4.jpg',\n",
       " 'https://cdn-p.cian.site/images/12/941/461/kvartira-moskovskiy-tatyanin-park-ulica-1641492110-4.jpg',\n",
       " 'https://cdn-p.cian.site/images/62/941/461/kvartira-moskovskiy-tatyanin-park-ulica-1641492636-4.jpg',\n",
       " 'https://cdn-p.cian.site/images/82/941/461/kvartira-moskovskiy-tatyanin-park-ulica-1641492879-4.jpg',\n",
       " 'https://cdn-p.cian.site/images/23/941/461/kvartira-moskovskiy-tatyanin-park-ulica-1641493235-4.jpg',\n",
       " 'https://cdn-p.cian.site/images/63/941/461/kvartira-moskovskiy-tatyanin-park-ulica-1641493693-4.jpg',\n",
       " 'https://cdn-p.cian.site/images/83/941/461/kvartira-moskovskiy-tatyanin-park-ulica-1641493851-4.jpg',\n",
       " 'https://cdn-p.cian.site/images/64/651/461/kvartira-moskovskiy-tatyanin-park-ulica-1641564662-4.jpg',\n",
       " 'https://cdn-p.cian.site/images/64/941/461/kvartira-moskovskiy-tatyanin-park-ulica-1641494624-4.jpg',\n",
       " 'https://cdn-p.cian.site/images/96/941/461/kvartira-moskovskiy-tatyanin-park-ulica-1641496988-4.jpg',\n",
       " 'https://cdn-p.cian.site/images/17/941/461/kvartira-moskovskiy-tatyanin-park-ulica-1641497191-4.jpg',\n",
       " 'https://cdn-p.cian.site/images/84/941/461/kvartira-moskovskiy-tatyanin-park-ulica-1641494826-4.jpg',\n",
       " 'https://cdn-p.cian.site/images/08/941/461/kvartira-moskovskiy-tatyanin-park-ulica-1641498043-4.jpg',\n",
       " 'https://cdn-p.cian.site/images/78/941/461/kvartira-moskovskiy-tatyanin-park-ulica-1641498750-4.jpg',\n",
       " 'https://cdn-p.cian.site/images/79/451/461/kvartira-moskovskiy-tatyanin-park-ulica-1641549792-4.jpg']"
      ]
     },
     "execution_count": 118,
     "metadata": {},
     "output_type": "execute_result"
    }
   ],
   "source": [
    "[img['src'] for img in item_.find('div',{'data-name':'Gallery'}).findAll('img') if img['src'].endswith('.jpg')]"
   ]
  },
  {
   "cell_type": "code",
   "execution_count": null,
   "metadata": {},
   "outputs": [],
   "source": []
  },
  {
   "cell_type": "code",
   "execution_count": null,
   "metadata": {},
   "outputs": [],
   "source": []
  }
 ],
 "metadata": {
  "kernelspec": {
   "display_name": "Python 3",
   "language": "python",
   "name": "python3"
  },
  "language_info": {
   "codemirror_mode": {
    "name": "ipython",
    "version": 3
   },
   "file_extension": ".py",
   "mimetype": "text/x-python",
   "name": "python",
   "nbconvert_exporter": "python",
   "pygments_lexer": "ipython3",
   "version": "3.8.10"
  },
  "orig_nbformat": 4
 },
 "nbformat": 4,
 "nbformat_minor": 2
}
