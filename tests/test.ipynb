{
 "cells": [
  {
   "cell_type": "code",
   "execution_count": 1,
   "metadata": {},
   "outputs": [],
   "source": [
    "import pandas as pd\n",
    "from bs4 import BeautifulSoup\n",
    "import httpx as hx\n",
    "import json"
   ]
  },
  {
   "cell_type": "code",
   "execution_count": 2,
   "metadata": {},
   "outputs": [],
   "source": [
    "with open('sample_html.html','r') as b:\n",
    "    sample_ = b.read()"
   ]
  },
  {
   "cell_type": "code",
   "execution_count": 14,
   "metadata": {},
   "outputs": [],
   "source": [
    "\n",
    "def checksum_items(page:str,name:str):\n",
    "\n",
    "    with open('../data/dumps/id_history.json','r') as buffer:\n",
    "        parsed_ids = json.load(buffer)\n",
    "    \n",
    "    bs_data = BeautifulSoup(page, features='lxml')\n",
    "    result = bs_data.find('div', {'class': 'items-items-kAJAg'}).findAll('div', {'data-marker': 'item'})\n",
    "\n",
    "    new_items = [item['data-item-id'] for item in result if item['data-item-id'] not in parsed_ids[name]]\n",
    "    \n",
    "    parsed_ids[name] = parsed_ids[name] + new_items\n",
    "\n",
    "    with open('../data/dumps/id_history.json','w') as buffer:\n",
    "        json.dump(parsed_ids,buffer,indent=4)\n",
    "\n",
    "    return new_items\n",
    "    "
   ]
  },
  {
   "cell_type": "code",
   "execution_count": 15,
   "metadata": {},
   "outputs": [
    {
     "data": {
      "text/plain": [
       "[]"
      ]
     },
     "execution_count": 15,
     "metadata": {},
     "output_type": "execute_result"
    }
   ],
   "source": [
    "checksum_items(sample_,'avito')"
   ]
  },
  {
   "cell_type": "code",
   "execution_count": 1,
   "metadata": {},
   "outputs": [],
   "source": [
    "import yaml"
   ]
  },
  {
   "cell_type": "code",
   "execution_count": 2,
   "metadata": {},
   "outputs": [],
   "source": [
    "with open('../pipelines/config.yml') as buffer:\n",
    "    zz = yaml.safe_load(buffer)"
   ]
  },
  {
   "cell_type": "code",
   "execution_count": 3,
   "metadata": {},
   "outputs": [
    {
     "data": {
      "text/plain": [
       "{'ops': {'fetch_avito': {'config': {'fetch_pages': 10,\n",
       "    'start_url': 'https://www.avito.ru/moskva/kvartiry/prodam/vtorichka-ASgBAQICAUSSA8YQAUDmBxSMUg?cd=1&f=ASgBAQICAkSSA8YQwMENuv03BEDmBxSMUsoIJIRZglmO3g4UApDeDhQC&s=104'}}}}"
      ]
     },
     "execution_count": 3,
     "metadata": {},
     "output_type": "execute_result"
    }
   ],
   "source": [
    "zz"
   ]
  }
 ],
 "metadata": {
  "kernelspec": {
   "display_name": "Python 3",
   "language": "python",
   "name": "python3"
  },
  "language_info": {
   "codemirror_mode": {
    "name": "ipython",
    "version": 3
   },
   "file_extension": ".py",
   "mimetype": "text/x-python",
   "name": "python",
   "nbconvert_exporter": "python",
   "pygments_lexer": "ipython3",
   "version": "3.8.10"
  },
  "orig_nbformat": 4
 },
 "nbformat": 4,
 "nbformat_minor": 2
}
