{
 "cells": [
  {
   "cell_type": "code",
   "execution_count": 161,
   "metadata": {},
   "outputs": [],
   "source": [
    "import pandas as pd\n",
    "from bs4 import BeautifulSoup"
   ]
  },
  {
   "cell_type": "code",
   "execution_count": 163,
   "metadata": {},
   "outputs": [],
   "source": [
    "dd = pd.read_pickle('/home/charubaiel/workflow/MLOpsini_project/tmp5cpvthqc/storage/cian_dataframe')"
   ]
  },
  {
   "cell_type": "code",
   "execution_count": 174,
   "metadata": {},
   "outputs": [
    {
     "data": {
      "text/html": [
       "<div>\n",
       "<style scoped>\n",
       "    .dataframe tbody tr th:only-of-type {\n",
       "        vertical-align: middle;\n",
       "    }\n",
       "\n",
       "    .dataframe tbody tr th {\n",
       "        vertical-align: top;\n",
       "    }\n",
       "\n",
       "    .dataframe thead th {\n",
       "        text-align: right;\n",
       "    }\n",
       "</style>\n",
       "<table border=\"1\" class=\"dataframe\">\n",
       "  <thead>\n",
       "    <tr style=\"text-align: right;\">\n",
       "      <th></th>\n",
       "      <th>0</th>\n",
       "      <th>1</th>\n",
       "      <th>2</th>\n",
       "      <th>3</th>\n",
       "    </tr>\n",
       "  </thead>\n",
       "  <tbody>\n",
       "    <tr>\n",
       "      <th>0</th>\n",
       "      <td>2-комн. кв.</td>\n",
       "      <td>65</td>\n",
       "      <td>4 м²</td>\n",
       "      <td>15/24 этаж</td>\n",
       "    </tr>\n",
       "    <tr>\n",
       "      <th>1</th>\n",
       "      <td>2-комн. кв.</td>\n",
       "      <td>44</td>\n",
       "      <td>5 м²</td>\n",
       "      <td>2/2 этаж</td>\n",
       "    </tr>\n",
       "    <tr>\n",
       "      <th>2</th>\n",
       "      <td>2-комн. кв.</td>\n",
       "      <td>48 м²</td>\n",
       "      <td>4/23 этаж</td>\n",
       "      <td>None</td>\n",
       "    </tr>\n",
       "    <tr>\n",
       "      <th>3</th>\n",
       "      <td>2-комн. кв.</td>\n",
       "      <td>47</td>\n",
       "      <td>6 м²</td>\n",
       "      <td>3/16 этаж</td>\n",
       "    </tr>\n",
       "    <tr>\n",
       "      <th>4</th>\n",
       "      <td>3-комн. кв.</td>\n",
       "      <td>99 м²</td>\n",
       "      <td>19/22 этаж</td>\n",
       "      <td>None</td>\n",
       "    </tr>\n",
       "  </tbody>\n",
       "</table>\n",
       "</div>"
      ],
      "text/plain": [
       "             0       1            2            3\n",
       "0  2-комн. кв.      65         4 м²   15/24 этаж\n",
       "1  2-комн. кв.      44         5 м²     2/2 этаж\n",
       "2  2-комн. кв.   48 м²    4/23 этаж         None\n",
       "3  2-комн. кв.      47         6 м²    3/16 этаж\n",
       "4  3-комн. кв.   99 м²   19/22 этаж         None"
      ]
     },
     "execution_count": 174,
     "metadata": {},
     "output_type": "execute_result"
    }
   ],
   "source": [
    "dd['title'].str.split(',',expand=True,n=3).head()"
   ]
  },
  {
   "cell_type": "code",
   "execution_count": 183,
   "metadata": {},
   "outputs": [
    {
     "name": "stderr",
     "output_type": "stream",
     "text": [
      "/tmp/ipykernel_21848/3191180561.py:1: FutureWarning: The default value of regex will change from True to False in a future version.\n",
      "  dd['title'].str.replace(',(?=\\d)','.').str.split(',',expand=True).head()\n"
     ]
    },
    {
     "data": {
      "text/html": [
       "<div>\n",
       "<style scoped>\n",
       "    .dataframe tbody tr th:only-of-type {\n",
       "        vertical-align: middle;\n",
       "    }\n",
       "\n",
       "    .dataframe tbody tr th {\n",
       "        vertical-align: top;\n",
       "    }\n",
       "\n",
       "    .dataframe thead th {\n",
       "        text-align: right;\n",
       "    }\n",
       "</style>\n",
       "<table border=\"1\" class=\"dataframe\">\n",
       "  <thead>\n",
       "    <tr style=\"text-align: right;\">\n",
       "      <th></th>\n",
       "      <th>0</th>\n",
       "      <th>1</th>\n",
       "      <th>2</th>\n",
       "    </tr>\n",
       "  </thead>\n",
       "  <tbody>\n",
       "    <tr>\n",
       "      <th>0</th>\n",
       "      <td>2-комн. кв.</td>\n",
       "      <td>65.4 м²</td>\n",
       "      <td>15/24 этаж</td>\n",
       "    </tr>\n",
       "    <tr>\n",
       "      <th>1</th>\n",
       "      <td>2-комн. кв.</td>\n",
       "      <td>44.5 м²</td>\n",
       "      <td>2/2 этаж</td>\n",
       "    </tr>\n",
       "    <tr>\n",
       "      <th>2</th>\n",
       "      <td>2-комн. кв.</td>\n",
       "      <td>48 м²</td>\n",
       "      <td>4/23 этаж</td>\n",
       "    </tr>\n",
       "    <tr>\n",
       "      <th>3</th>\n",
       "      <td>2-комн. кв.</td>\n",
       "      <td>47.6 м²</td>\n",
       "      <td>3/16 этаж</td>\n",
       "    </tr>\n",
       "    <tr>\n",
       "      <th>4</th>\n",
       "      <td>3-комн. кв.</td>\n",
       "      <td>99 м²</td>\n",
       "      <td>19/22 этаж</td>\n",
       "    </tr>\n",
       "  </tbody>\n",
       "</table>\n",
       "</div>"
      ],
      "text/plain": [
       "             0         1            2\n",
       "0  2-комн. кв.   65.4 м²   15/24 этаж\n",
       "1  2-комн. кв.   44.5 м²     2/2 этаж\n",
       "2  2-комн. кв.     48 м²    4/23 этаж\n",
       "3  2-комн. кв.   47.6 м²    3/16 этаж\n",
       "4  3-комн. кв.     99 м²   19/22 этаж"
      ]
     },
     "execution_count": 183,
     "metadata": {},
     "output_type": "execute_result"
    }
   ],
   "source": [
    "dd['title'].str.replace(',(?=\\d)','.').str.split(',',expand=True).head()"
   ]
  },
  {
   "cell_type": "code",
   "execution_count": null,
   "metadata": {},
   "outputs": [],
   "source": []
  },
  {
   "cell_type": "code",
   "execution_count": 13,
   "metadata": {},
   "outputs": [],
   "source": [
    "with open('cian.html') as b:\n",
    "    html_ = BeautifulSoup(b.read())"
   ]
  },
  {
   "cell_type": "code",
   "execution_count": null,
   "metadata": {},
   "outputs": [],
   "source": [
    "for item in html_data"
   ]
  },
  {
   "cell_type": "code",
   "execution_count": null,
   "metadata": {},
   "outputs": [],
   "source": [
    "@asset(name = 'avito_dataframe',\n",
    "       description='Выделение только новых объявлений',\n",
    "       group_name='Extract')\n",
    "def convert_html_2_df_cian(context,cian_page_list:list) -> pd.DataFrame:\n",
    "\n",
    "    result_list = []\n",
    "    for page in cian_page_list:\n",
    "        \n",
    "        items = BeautifulSoup(page, features='lxml').findAll('div',{'data-testid':'offer-card'})\n",
    "\n",
    "        tmp_result = [get_cian_item_info(item=item) for item in items]\n",
    "        result_list.extend(tmp_result)\n",
    "        \n",
    "    result = pd.DataFrame(result_list)\n",
    "\n",
    "    return result\n"
   ]
  },
  {
   "cell_type": "code",
   "execution_count": 129,
   "metadata": {},
   "outputs": [],
   "source": [
    "\n",
    "def get_cian_item_info(item:BeautifulSoup):\n",
    "    item_desc = {}\n",
    "    item_desc['datetime'] = pd.to_datetime('now',utc=True).timestamp()\n",
    "    item_desc['title'] = item.find('span',{'data-mark':'OfferTitle'}).text\n",
    "    item_desc['price'] = item.find('span',{'data-mark':'MainPrice'}).text.replace('\\xa0₽','').replace(' ','')\n",
    "    item_desc['publish_delta'] = item.find('div',{'class':'_93444fe79c--relative--IYgur'}).text.replace('\\n','').replace('  ',' ')\n",
    "    item_desc['url'] = item.find('div',{'data-name':'LinkArea'}).a['href']\n",
    "    item_desc['id'] = item_desc['url'].split('/')[-2]\n",
    "    item_desc['text'] = item.find('div',{'data-name':'Description'}).text\n",
    "    item_desc.update(dict(zip(('Город','Округ','Метро','Район','Улица','Дом'),[step.text for step in item.findAll('a',{'data-name':'GeoLabel'})])))\n",
    "    item_desc['metro_branch'] = item.find('div',{'data-name':'UndergroundIconWrapper'})['style'].replace('color: rgb','').replace(';','')\n",
    "    item_desc['metro_name'] = [i for i in item.find('div',{'data-name':'SpecialGeo'}).text.split('\\n') if i !=''][0]\n",
    "    item_desc['metro_dist'] = [i for i in item.find('div',{'data-name':'SpecialGeo'}).text.split('\\n') if i !=''][1]\n",
    "    item_desc['img_list'] = [img['src'] for img in item.find('div',{'data-name':'Gallery'}).findAll('img') if img['src'].endswith('.jpg')]\n",
    "\n",
    "    return item_desc"
   ]
  },
  {
   "cell_type": "code",
   "execution_count": 123,
   "metadata": {},
   "outputs": [],
   "source": [
    "item_ = html_.findAll('div',{'data-testid':'offer-card'})[0]"
   ]
  },
  {
   "cell_type": "code",
   "execution_count": null,
   "metadata": {},
   "outputs": [],
   "source": []
  },
  {
   "cell_type": "code",
   "execution_count": null,
   "metadata": {},
   "outputs": [],
   "source": []
  },
  {
   "cell_type": "code",
   "execution_count": null,
   "metadata": {},
   "outputs": [],
   "source": []
  },
  {
   "cell_type": "code",
   "execution_count": 148,
   "metadata": {},
   "outputs": [],
   "source": [
    "from dagster import asset"
   ]
  },
  {
   "cell_type": "code",
   "execution_count": 157,
   "metadata": {},
   "outputs": [],
   "source": [
    "@asset(name = 'featurized_cian_data',\n",
    "       description='Дополнение данных простыми фичами',\n",
    "       group_name='Featurize')\n",
    "def featuring_cian_data(cian_dataframe:pd.DataFrame)->pd.DataFrame:\n",
    "\n",
    "    cian_dataframe['price'] = cian_dataframe['price'].astype(float)\n",
    "    cian_dataframe[['rooms','m2','floor']] = cian_dataframe['title'].str.split(',',expand=True)\n",
    "    cian_dataframe['m2'] = cian_dataframe['m2'].str.extract('(\\d+).*м²').astype(float)\n",
    "    cian_dataframe[['floor','max_floor']] = cian_dataframe['floor'].str.extract('(\\d+/\\d+).*эт')[0].str.split('/',expand=True).astype(int)\n",
    "    cian_dataframe['text'] = cian_dataframe['text'].str.replace('\\n+','').str.replace(' +',' ')\n",
    "    cian_dataframe['rubm2'] = cian_dataframe['price'] / cian_dataframe['m2']\n",
    "    cian_dataframe.drop(['title'],axis=1,inplace=True)\n",
    "\n",
    "    return cian_dataframe"
   ]
  },
  {
   "cell_type": "code",
   "execution_count": 158,
   "metadata": {},
   "outputs": [],
   "source": [
    "dd = pd.DataFrame([get_cian_item_info(item=item_)])"
   ]
  },
  {
   "cell_type": "code",
   "execution_count": 159,
   "metadata": {},
   "outputs": [
    {
     "name": "stderr",
     "output_type": "stream",
     "text": [
      "/tmp/ipykernel_21848/2407911243.py:10: FutureWarning: The default value of regex will change from True to False in a future version.\n",
      "  cian_dataframe['text'] = cian_dataframe['text'].str.replace('\\n+','').str.replace(' +',' ')\n"
     ]
    }
   ],
   "source": [
    "new_dd = featuring_cian_data(dd)"
   ]
  },
  {
   "cell_type": "code",
   "execution_count": 160,
   "metadata": {},
   "outputs": [
    {
     "data": {
      "text/html": [
       "<div>\n",
       "<style scoped>\n",
       "    .dataframe tbody tr th:only-of-type {\n",
       "        vertical-align: middle;\n",
       "    }\n",
       "\n",
       "    .dataframe tbody tr th {\n",
       "        vertical-align: top;\n",
       "    }\n",
       "\n",
       "    .dataframe thead th {\n",
       "        text-align: right;\n",
       "    }\n",
       "</style>\n",
       "<table border=\"1\" class=\"dataframe\">\n",
       "  <thead>\n",
       "    <tr style=\"text-align: right;\">\n",
       "      <th></th>\n",
       "      <th>0</th>\n",
       "    </tr>\n",
       "  </thead>\n",
       "  <tbody>\n",
       "    <tr>\n",
       "      <th>datetime</th>\n",
       "      <td>1680638353.991387</td>\n",
       "    </tr>\n",
       "    <tr>\n",
       "      <th>price</th>\n",
       "      <td>21500000.0</td>\n",
       "    </tr>\n",
       "    <tr>\n",
       "      <th>publish_delta</th>\n",
       "      <td>45                        минут назад</td>\n",
       "    </tr>\n",
       "    <tr>\n",
       "      <th>url</th>\n",
       "      <td>https://www.cian.ru/sale/flat/285761548/</td>\n",
       "    </tr>\n",
       "    <tr>\n",
       "      <th>id</th>\n",
       "      <td>285761548</td>\n",
       "    </tr>\n",
       "    <tr>\n",
       "      <th>text</th>\n",
       "      <td>Предлагается к продаже прекрасная видовая дву...</td>\n",
       "    </tr>\n",
       "    <tr>\n",
       "      <th>Город</th>\n",
       "      <td>Москва</td>\n",
       "    </tr>\n",
       "    <tr>\n",
       "      <th>Округ</th>\n",
       "      <td>НАО (Новомосковский)</td>\n",
       "    </tr>\n",
       "    <tr>\n",
       "      <th>Метро</th>\n",
       "      <td>м. Говорово</td>\n",
       "    </tr>\n",
       "    <tr>\n",
       "      <th>Район</th>\n",
       "      <td>Московский поселение</td>\n",
       "    </tr>\n",
       "    <tr>\n",
       "      <th>Улица</th>\n",
       "      <td>улица Татьянин Парк</td>\n",
       "    </tr>\n",
       "    <tr>\n",
       "      <th>Дом</th>\n",
       "      <td>16к1</td>\n",
       "    </tr>\n",
       "    <tr>\n",
       "      <th>metro_branch</th>\n",
       "      <td>(255, 223, 0)</td>\n",
       "    </tr>\n",
       "    <tr>\n",
       "      <th>metro_name</th>\n",
       "      <td>Говорово</td>\n",
       "    </tr>\n",
       "    <tr>\n",
       "      <th>metro_dist</th>\n",
       "      <td>10 минут пешком</td>\n",
       "    </tr>\n",
       "    <tr>\n",
       "      <th>img_list</th>\n",
       "      <td>[https://cdn-p.cian.site/images/08/841/461/kva...</td>\n",
       "    </tr>\n",
       "    <tr>\n",
       "      <th>rooms</th>\n",
       "      <td>2-комн. кв.</td>\n",
       "    </tr>\n",
       "    <tr>\n",
       "      <th>m2</th>\n",
       "      <td>72.0</td>\n",
       "    </tr>\n",
       "    <tr>\n",
       "      <th>floor</th>\n",
       "      <td>12</td>\n",
       "    </tr>\n",
       "    <tr>\n",
       "      <th>max_floor</th>\n",
       "      <td>15</td>\n",
       "    </tr>\n",
       "    <tr>\n",
       "      <th>rubm2</th>\n",
       "      <td>298611.111111</td>\n",
       "    </tr>\n",
       "  </tbody>\n",
       "</table>\n",
       "</div>"
      ],
      "text/plain": [
       "                                                               0\n",
       "datetime                                       1680638353.991387\n",
       "price                                                 21500000.0\n",
       "publish_delta              45                        минут назад\n",
       "url                     https://www.cian.ru/sale/flat/285761548/\n",
       "id                                                     285761548\n",
       "text            Предлагается к продаже прекрасная видовая дву...\n",
       "Город                                                     Москва\n",
       "Округ                                       НАО (Новомосковский)\n",
       "Метро                                                м. Говорово\n",
       "Район                                       Московский поселение\n",
       "Улица                                        улица Татьянин Парк\n",
       "Дом                                                         16к1\n",
       "metro_branch                                       (255, 223, 0)\n",
       "metro_name                                              Говорово\n",
       "metro_dist                                       10 минут пешком\n",
       "img_list       [https://cdn-p.cian.site/images/08/841/461/kva...\n",
       "rooms                                                2-комн. кв.\n",
       "m2                                                          72.0\n",
       "floor                                                         12\n",
       "max_floor                                                     15\n",
       "rubm2                                              298611.111111"
      ]
     },
     "execution_count": 160,
     "metadata": {},
     "output_type": "execute_result"
    }
   ],
   "source": [
    "new_dd.T"
   ]
  }
 ],
 "metadata": {
  "kernelspec": {
   "display_name": "Python 3",
   "language": "python",
   "name": "python3"
  },
  "language_info": {
   "codemirror_mode": {
    "name": "ipython",
    "version": 3
   },
   "file_extension": ".py",
   "mimetype": "text/x-python",
   "name": "python",
   "nbconvert_exporter": "python",
   "pygments_lexer": "ipython3",
   "version": "3.8.10"
  },
  "orig_nbformat": 4
 },
 "nbformat": 4,
 "nbformat_minor": 2
}
