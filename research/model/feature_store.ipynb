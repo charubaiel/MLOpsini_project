{
 "cells": [
  {
   "cell_type": "code",
   "execution_count": 1,
   "metadata": {},
   "outputs": [],
   "source": [
    "import pandas as pd\n",
    "from sklearn import metrics,model_selection,pipeline"
   ]
  },
  {
   "cell_type": "code",
   "execution_count": 2,
   "metadata": {},
   "outputs": [],
   "source": [
    "import matplotlib.pyplot as plt\n",
    "plt.style.use('ggplot')"
   ]
  },
  {
   "cell_type": "code",
   "execution_count": 3,
   "metadata": {},
   "outputs": [],
   "source": [
    "df = pd.read_parquet('../../data/sample_data.parquet').dropna(subset='rubm2')\n",
    "df = df.drop(['datetime','publish_delta','url','id','text','Город','title','img_list','metro_branch','metro_name','metro_dist'],axis=1)"
   ]
  },
  {
   "cell_type": "code",
   "execution_count": 110,
   "metadata": {},
   "outputs": [],
   "source": [
    "def general_prepare(df):\n",
    "    data = df.copy()\n",
    "    data['rooms'] = data['rooms'].where(lambda x: x.isin(data['rooms'].value_counts().iloc[:6].index),'Other')\n",
    "    \n",
    "    data['postcode'] = data['postcode'].explode().astype(float).groupby(level=0).mean() // 100\n",
    "    data['is_apart'] = data['rooms'].str.contains('апарт')\n",
    "    data['n_rooms'] = data['rooms'].str.extract('(\\d)').fillna(0).astype(float)\n",
    "    return data"
   ]
  },
  {
   "cell_type": "code",
   "execution_count": 111,
   "metadata": {},
   "outputs": [],
   "source": [
    "def get_meta_features(data):\n",
    "    \n",
    "    data = df.copy()\n",
    "    data['area_obj_cnt'] = data.groupby('Округ')['rubm2'].transform('count')\n",
    "    data['metro_obj_cnt'] = data.groupby('Метро')['rubm2'].transform('count')\n",
    "    data['district_obj_cnt'] = data.groupby('Район')['rubm2'].transform('count')\n",
    "    data['Округ'] = data.groupby('Округ')['rubm2'].transform('mean')\n",
    "    data['Метро'] = data.groupby('Метро')['rubm2'].transform('mean')\n",
    "    data['Район'] = data.groupby('Район')['rubm2'].transform('mean')\n",
    "\n",
    "    return data[['area_obj_cnt','metro_obj_cnt','district_obj_cnt','Округ','Метро','Район']]"
   ]
  },
  {
   "cell_type": "code",
   "execution_count": 117,
   "metadata": {},
   "outputs": [],
   "source": [
    "def adv_home_prepare(df):\n",
    "\n",
    "    feature_dict = df.apply(lambda x: pd.DataFrame(x).set_index('key')['value'].to_dict()).rename('advacned_info')\n",
    "    result_dict = {}\n",
    "    result_dict['year_of_build'] = feature_dict.apply(lambda x: x.get('Год_ввода_в_эксплуатацию'))\n",
    "    result_dict['rent_counts'] = feature_dict.apply(lambda x: x.get('Количество_квартир'))\n",
    "    result_dict['n_enterss'] = feature_dict.apply(lambda x: x.get('Количество_подъездов'))\n",
    "    result_dict['m2_house'] = feature_dict.apply(lambda x: x.get('Площадь_многоквартирного_дома,_кв.м'))\n",
    "\n",
    "    return pd.DataFrame(result_dict)"
   ]
  },
  {
   "cell_type": "code",
   "execution_count": 118,
   "metadata": {},
   "outputs": [],
   "source": [
    "def data_filter(df):\n",
    "    data = df.copy()\n",
    "\n",
    "    return data.select_dtypes(execlude='O').pipe(lambda x: x.fillna(x.mean()))"
   ]
  },
  {
   "cell_type": "code",
   "execution_count": 129,
   "metadata": {},
   "outputs": [],
   "source": [
    "def data_pipeline(df):\n",
    "    data = general_prepare(df)\n",
    "    home_data = adv_home_prepare(data['advanced_home_info'])\n",
    "    meta_data = get_meta_features(data[['Округ','Метро','Район']])\n",
    "    concated = data.drop(['Округ','Метро','Район'],axis=1).join(home_data).join(meta_data)\n",
    "    result = concated\n",
    "    \n",
    "    return result"
   ]
  },
  {
   "cell_type": "code",
   "execution_count": 126,
   "metadata": {},
   "outputs": [],
   "source": [
    "from catboost import CatBoostRegressor"
   ]
  },
  {
   "cell_type": "code",
   "execution_count": null,
   "metadata": {},
   "outputs": [],
   "source": [
    "def fit_model(data,target):\n",
    "    df = data_pipeline(data)\n",
    "    X = df.drop(target,axis=1)\n",
    "    Y = df[target]\n",
    "\n",
    "    x,xv,y,yv = model_selection.train_test_split(X,Y,train_size=.85)\n",
    "\n",
    "    model = CatBoostRegressor(iterations=2000,verbose=500)\n",
    "    model.fit(x,y,verbose=5000,eval_set=(xv,yv))\n",
    "    \n",
    "    return model"
   ]
  }
 ],
 "metadata": {
  "kernelspec": {
   "display_name": "mlopsini-xAkA-eId-py3.8",
   "language": "python",
   "name": "python3"
  },
  "language_info": {
   "codemirror_mode": {
    "name": "ipython",
    "version": 3
   },
   "file_extension": ".py",
   "mimetype": "text/x-python",
   "name": "python",
   "nbconvert_exporter": "python",
   "pygments_lexer": "ipython3",
   "version": "3.8.10"
  },
  "orig_nbformat": 4
 },
 "nbformat": 4,
 "nbformat_minor": 2
}
