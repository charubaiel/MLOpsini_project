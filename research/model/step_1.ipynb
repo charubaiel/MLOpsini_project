{
 "cells": [
  {
   "cell_type": "code",
   "execution_count": 1,
   "metadata": {},
   "outputs": [],
   "source": [
    "import pandas as pd\n",
    "from sklearn import metrics,model_selection\n",
    "from catboost import CatBoostRegressor\n",
    "from tqdm import tqdm\n",
    "from lightgbm import LGBMRegressor"
   ]
  },
  {
   "cell_type": "code",
   "execution_count": 2,
   "metadata": {},
   "outputs": [],
   "source": [
    "import warnings\n",
    "import matplotlib.pyplot as plt\n",
    "plt.style.use('ggplot')\n",
    "\n",
    "warnings.simplefilter('ignore')"
   ]
  },
  {
   "cell_type": "code",
   "execution_count": 3,
   "metadata": {},
   "outputs": [],
   "source": [
    "df = pd.read_parquet('../../data/sample_data.parquet').dropna(subset='rubm2')\n",
    "df = df.drop(['datetime','publish_delta','url','id','text','Город','title','price','img_list','metro_branch','metro_name','metro_dist'],axis=1)"
   ]
  },
  {
   "cell_type": "code",
   "execution_count": 4,
   "metadata": {},
   "outputs": [
    {
     "data": {
      "text/plain": [
       "286274.50980392157"
      ]
     },
     "execution_count": 4,
     "metadata": {},
     "output_type": "execute_result"
    }
   ],
   "source": [
    "df['rubm2'].median()"
   ]
  },
  {
   "cell_type": "code",
   "execution_count": 5,
   "metadata": {},
   "outputs": [],
   "source": [
    "\n",
    "df['postcode'] = df['postcode'].explode().astype(float).groupby(level=0).mean()"
   ]
  },
  {
   "cell_type": "code",
   "execution_count": 6,
   "metadata": {},
   "outputs": [],
   "source": [
    "df['is_apart'] = df['rooms'].str.contains('апарт')"
   ]
  },
  {
   "cell_type": "code",
   "execution_count": 7,
   "metadata": {},
   "outputs": [],
   "source": [
    "df['rooms'] = df['rooms'].str.extract('(\\d+)').iloc[:,0]"
   ]
  },
  {
   "cell_type": "code",
   "execution_count": 8,
   "metadata": {},
   "outputs": [],
   "source": [
    "def check_model_prefomance(dataset:pd.DataFrame,model):\n",
    "\n",
    "    \n",
    "    folds = model_selection.ShuffleSplit(n_splits= 10,train_size=.75,random_state=11)\n",
    "\n",
    "    X = dataset.drop('rubm2',axis=1)\n",
    "    Y = dataset['rubm2']\n",
    "\n",
    "    result = []\n",
    "\n",
    "    for train_idx,test_idx in tqdm(folds.split(dataset),total=10):\n",
    "\n",
    "        _metrics = {}\n",
    "\n",
    "        x,y = X.iloc[train_idx] , Y.iloc[train_idx]\n",
    "        xv,yv = X.iloc[test_idx] , Y.iloc[test_idx]\n",
    "\n",
    "        model.fit(x,y)\n",
    "        yhat = model.predict(xv)\n",
    "\n",
    "        _metrics.update({'mape': metrics.mean_absolute_percentage_error(yv, yhat)\n",
    "        })\n",
    "\n",
    "        _metrics.update({'rmse': metrics.mean_squared_error(yv, yhat)**.5})\n",
    "        \n",
    "        _metrics.update({'mae': metrics.mean_absolute_error(yv, yhat)})\n",
    "\n",
    "        result.append(_metrics)\n",
    "        \n",
    "    return pd.DataFrame(result).agg(['mean','std'])\n",
    "\n"
   ]
  },
  {
   "cell_type": "code",
   "execution_count": 9,
   "metadata": {},
   "outputs": [
    {
     "name": "stderr",
     "output_type": "stream",
     "text": [
      "100%|██████████| 10/10 [00:44<00:00,  4.48s/it]\n"
     ]
    }
   ],
   "source": [
    "baza = check_model_prefomance(df.select_dtypes(exclude='O'),LGBMRegressor(n_estimators=1000))"
   ]
  },
  {
   "cell_type": "code",
   "execution_count": 10,
   "metadata": {},
   "outputs": [
    {
     "data": {
      "text/html": [
       "<div>\n",
       "<style scoped>\n",
       "    .dataframe tbody tr th:only-of-type {\n",
       "        vertical-align: middle;\n",
       "    }\n",
       "\n",
       "    .dataframe tbody tr th {\n",
       "        vertical-align: top;\n",
       "    }\n",
       "\n",
       "    .dataframe thead th {\n",
       "        text-align: right;\n",
       "    }\n",
       "</style>\n",
       "<table border=\"1\" class=\"dataframe\">\n",
       "  <thead>\n",
       "    <tr style=\"text-align: right;\">\n",
       "      <th></th>\n",
       "      <th>mape</th>\n",
       "      <th>rmse</th>\n",
       "      <th>mae</th>\n",
       "    </tr>\n",
       "  </thead>\n",
       "  <tbody>\n",
       "    <tr>\n",
       "      <th>mean</th>\n",
       "      <td>0.189001</td>\n",
       "      <td>104111.288453</td>\n",
       "      <td>58586.097746</td>\n",
       "    </tr>\n",
       "    <tr>\n",
       "      <th>std</th>\n",
       "      <td>0.011903</td>\n",
       "      <td>7024.625883</td>\n",
       "      <td>1732.819644</td>\n",
       "    </tr>\n",
       "  </tbody>\n",
       "</table>\n",
       "</div>"
      ],
      "text/plain": [
       "          mape           rmse           mae\n",
       "mean  0.189001  104111.288453  58586.097746\n",
       "std   0.011903    7024.625883   1732.819644"
      ]
     },
     "execution_count": 10,
     "metadata": {},
     "output_type": "execute_result"
    }
   ],
   "source": [
    "baza"
   ]
  },
  {
   "attachments": {},
   "cell_type": "markdown",
   "metadata": {},
   "source": [
    "# baseline v1"
   ]
  },
  {
   "cell_type": "code",
   "execution_count": 11,
   "metadata": {},
   "outputs": [],
   "source": [
    "base_data = df.copy()"
   ]
  },
  {
   "cell_type": "code",
   "execution_count": 12,
   "metadata": {},
   "outputs": [],
   "source": [
    "advace_data = pd.json_normalize(base_data['advanced_home_info'].apply(lambda x: pd.DataFrame(x).set_index('key')['value'].to_dict()))"
   ]
  },
  {
   "cell_type": "code",
   "execution_count": 13,
   "metadata": {},
   "outputs": [],
   "source": [
    "advanced_data = advace_data.dropna(thresh=advace_data.shape[0]*.5,axis=1)"
   ]
  },
  {
   "cell_type": "code",
   "execution_count": 14,
   "metadata": {},
   "outputs": [
    {
     "name": "stderr",
     "output_type": "stream",
     "text": [
      "/tmp/ipykernel_16196/2414153728.py:1: SettingWithCopyWarning: \n",
      "A value is trying to be set on a copy of a slice from a DataFrame.\n",
      "Try using .loc[row_indexer,col_indexer] = value instead\n",
      "\n",
      "See the caveats in the documentation: https://pandas.pydata.org/pandas-docs/stable/user_guide/indexing.html#returning-a-view-versus-a-copy\n",
      "  advanced_data['age'] = (advanced_data['Год_ввода_в_эксплуатацию'].astype(float) - 2023).abs().where(lambda x: x<100)\n"
     ]
    }
   ],
   "source": [
    "advanced_data['age'] = (advanced_data['Год_ввода_в_эксплуатацию'].astype(float) - 2023).abs().where(lambda x: x<100)"
   ]
  },
  {
   "cell_type": "code",
   "execution_count": 15,
   "metadata": {},
   "outputs": [],
   "source": [
    "clean_advanced_data = advanced_data.apply(pd.to_numeric,errors='ignore',downcast='unsigned')"
   ]
  },
  {
   "cell_type": "code",
   "execution_count": 16,
   "metadata": {},
   "outputs": [],
   "source": [
    "data_v2 = base_data.drop('advanced_home_info',axis=1).reset_index(drop=True)\\\n",
    "                    .join(clean_advanced_data).rename(columns= lambda x: x.replace(',','_'))\\\n",
    "                        .drop('jkh_url',axis=1)"
   ]
  },
  {
   "cell_type": "code",
   "execution_count": 17,
   "metadata": {},
   "outputs": [
    {
     "name": "stderr",
     "output_type": "stream",
     "text": [
      "100%|██████████| 10/10 [00:45<00:00,  4.56s/it]\n"
     ]
    }
   ],
   "source": [
    "v1 = check_model_prefomance(data_v2.select_dtypes(exclude='O'),LGBMRegressor(n_estimators=1000))"
   ]
  },
  {
   "cell_type": "code",
   "execution_count": 18,
   "metadata": {},
   "outputs": [
    {
     "data": {
      "text/html": [
       "<div>\n",
       "<style scoped>\n",
       "    .dataframe tbody tr th:only-of-type {\n",
       "        vertical-align: middle;\n",
       "    }\n",
       "\n",
       "    .dataframe tbody tr th {\n",
       "        vertical-align: top;\n",
       "    }\n",
       "\n",
       "    .dataframe thead th {\n",
       "        text-align: right;\n",
       "    }\n",
       "</style>\n",
       "<table border=\"1\" class=\"dataframe\">\n",
       "  <thead>\n",
       "    <tr style=\"text-align: right;\">\n",
       "      <th></th>\n",
       "      <th>mape</th>\n",
       "      <th>rmse</th>\n",
       "      <th>mae</th>\n",
       "    </tr>\n",
       "  </thead>\n",
       "  <tbody>\n",
       "    <tr>\n",
       "      <th>mean</th>\n",
       "      <td>0.026040</td>\n",
       "      <td>7868.871887</td>\n",
       "      <td>7265.199568</td>\n",
       "    </tr>\n",
       "    <tr>\n",
       "      <th>std</th>\n",
       "      <td>0.003582</td>\n",
       "      <td>347.955421</td>\n",
       "      <td>204.781318</td>\n",
       "    </tr>\n",
       "  </tbody>\n",
       "</table>\n",
       "</div>"
      ],
      "text/plain": [
       "          mape         rmse          mae\n",
       "mean  0.026040  7868.871887  7265.199568\n",
       "std   0.003582   347.955421   204.781318"
      ]
     },
     "execution_count": 18,
     "metadata": {},
     "output_type": "execute_result"
    }
   ],
   "source": [
    "baza - v1"
   ]
  },
  {
   "attachments": {},
   "cell_type": "markdown",
   "metadata": {},
   "source": [
    "# target_encoding"
   ]
  },
  {
   "cell_type": "code",
   "execution_count": 19,
   "metadata": {},
   "outputs": [],
   "source": [
    "data_v3 = data_v2.copy()"
   ]
  },
  {
   "cell_type": "code",
   "execution_count": 20,
   "metadata": {},
   "outputs": [
    {
     "name": "stderr",
     "output_type": "stream",
     "text": [
      "/tmp/ipykernel_16196/181838561.py:2: DeprecationWarning: In a future version, `df.iloc[:, i] = newvals` will attempt to set the values inplace instead of always setting a new array. To retain the old behavior, use either `df[df.columns[i]] = newvals` or, if columns are non-unique, `df.isetitem(i, newvals)`\n",
      "  data_v3.loc[:,col] = data_v3.groupby(col)['rubm2'].transform('mean')\n",
      "/tmp/ipykernel_16196/181838561.py:2: DeprecationWarning: In a future version, `df.iloc[:, i] = newvals` will attempt to set the values inplace instead of always setting a new array. To retain the old behavior, use either `df[df.columns[i]] = newvals` or, if columns are non-unique, `df.isetitem(i, newvals)`\n",
      "  data_v3.loc[:,col] = data_v3.groupby(col)['rubm2'].transform('mean')\n",
      "/tmp/ipykernel_16196/181838561.py:2: DeprecationWarning: In a future version, `df.iloc[:, i] = newvals` will attempt to set the values inplace instead of always setting a new array. To retain the old behavior, use either `df[df.columns[i]] = newvals` or, if columns are non-unique, `df.isetitem(i, newvals)`\n",
      "  data_v3.loc[:,col] = data_v3.groupby(col)['rubm2'].transform('mean')\n",
      "/tmp/ipykernel_16196/181838561.py:2: DeprecationWarning: In a future version, `df.iloc[:, i] = newvals` will attempt to set the values inplace instead of always setting a new array. To retain the old behavior, use either `df[df.columns[i]] = newvals` or, if columns are non-unique, `df.isetitem(i, newvals)`\n",
      "  data_v3.loc[:,col] = data_v3.groupby(col)['rubm2'].transform('mean')\n",
      "/tmp/ipykernel_16196/181838561.py:2: DeprecationWarning: In a future version, `df.iloc[:, i] = newvals` will attempt to set the values inplace instead of always setting a new array. To retain the old behavior, use either `df[df.columns[i]] = newvals` or, if columns are non-unique, `df.isetitem(i, newvals)`\n",
      "  data_v3.loc[:,col] = data_v3.groupby(col)['rubm2'].transform('mean')\n",
      "/tmp/ipykernel_16196/181838561.py:2: DeprecationWarning: In a future version, `df.iloc[:, i] = newvals` will attempt to set the values inplace instead of always setting a new array. To retain the old behavior, use either `df[df.columns[i]] = newvals` or, if columns are non-unique, `df.isetitem(i, newvals)`\n",
      "  data_v3.loc[:,col] = data_v3.groupby(col)['rubm2'].transform('mean')\n",
      "/tmp/ipykernel_16196/181838561.py:2: DeprecationWarning: In a future version, `df.iloc[:, i] = newvals` will attempt to set the values inplace instead of always setting a new array. To retain the old behavior, use either `df[df.columns[i]] = newvals` or, if columns are non-unique, `df.isetitem(i, newvals)`\n",
      "  data_v3.loc[:,col] = data_v3.groupby(col)['rubm2'].transform('mean')\n",
      "/tmp/ipykernel_16196/181838561.py:2: DeprecationWarning: In a future version, `df.iloc[:, i] = newvals` will attempt to set the values inplace instead of always setting a new array. To retain the old behavior, use either `df[df.columns[i]] = newvals` or, if columns are non-unique, `df.isetitem(i, newvals)`\n",
      "  data_v3.loc[:,col] = data_v3.groupby(col)['rubm2'].transform('mean')\n",
      "/tmp/ipykernel_16196/181838561.py:2: DeprecationWarning: In a future version, `df.iloc[:, i] = newvals` will attempt to set the values inplace instead of always setting a new array. To retain the old behavior, use either `df[df.columns[i]] = newvals` or, if columns are non-unique, `df.isetitem(i, newvals)`\n",
      "  data_v3.loc[:,col] = data_v3.groupby(col)['rubm2'].transform('mean')\n",
      "/tmp/ipykernel_16196/181838561.py:2: DeprecationWarning: In a future version, `df.iloc[:, i] = newvals` will attempt to set the values inplace instead of always setting a new array. To retain the old behavior, use either `df[df.columns[i]] = newvals` or, if columns are non-unique, `df.isetitem(i, newvals)`\n",
      "  data_v3.loc[:,col] = data_v3.groupby(col)['rubm2'].transform('mean')\n",
      "/tmp/ipykernel_16196/181838561.py:2: DeprecationWarning: In a future version, `df.iloc[:, i] = newvals` will attempt to set the values inplace instead of always setting a new array. To retain the old behavior, use either `df[df.columns[i]] = newvals` or, if columns are non-unique, `df.isetitem(i, newvals)`\n",
      "  data_v3.loc[:,col] = data_v3.groupby(col)['rubm2'].transform('mean')\n",
      "/tmp/ipykernel_16196/181838561.py:2: DeprecationWarning: In a future version, `df.iloc[:, i] = newvals` will attempt to set the values inplace instead of always setting a new array. To retain the old behavior, use either `df[df.columns[i]] = newvals` or, if columns are non-unique, `df.isetitem(i, newvals)`\n",
      "  data_v3.loc[:,col] = data_v3.groupby(col)['rubm2'].transform('mean')\n",
      "/tmp/ipykernel_16196/181838561.py:2: DeprecationWarning: In a future version, `df.iloc[:, i] = newvals` will attempt to set the values inplace instead of always setting a new array. To retain the old behavior, use either `df[df.columns[i]] = newvals` or, if columns are non-unique, `df.isetitem(i, newvals)`\n",
      "  data_v3.loc[:,col] = data_v3.groupby(col)['rubm2'].transform('mean')\n",
      "/tmp/ipykernel_16196/181838561.py:2: DeprecationWarning: In a future version, `df.iloc[:, i] = newvals` will attempt to set the values inplace instead of always setting a new array. To retain the old behavior, use either `df[df.columns[i]] = newvals` or, if columns are non-unique, `df.isetitem(i, newvals)`\n",
      "  data_v3.loc[:,col] = data_v3.groupby(col)['rubm2'].transform('mean')\n",
      "/tmp/ipykernel_16196/181838561.py:2: DeprecationWarning: In a future version, `df.iloc[:, i] = newvals` will attempt to set the values inplace instead of always setting a new array. To retain the old behavior, use either `df[df.columns[i]] = newvals` or, if columns are non-unique, `df.isetitem(i, newvals)`\n",
      "  data_v3.loc[:,col] = data_v3.groupby(col)['rubm2'].transform('mean')\n",
      "/tmp/ipykernel_16196/181838561.py:2: DeprecationWarning: In a future version, `df.iloc[:, i] = newvals` will attempt to set the values inplace instead of always setting a new array. To retain the old behavior, use either `df[df.columns[i]] = newvals` or, if columns are non-unique, `df.isetitem(i, newvals)`\n",
      "  data_v3.loc[:,col] = data_v3.groupby(col)['rubm2'].transform('mean')\n",
      "/tmp/ipykernel_16196/181838561.py:2: DeprecationWarning: In a future version, `df.iloc[:, i] = newvals` will attempt to set the values inplace instead of always setting a new array. To retain the old behavior, use either `df[df.columns[i]] = newvals` or, if columns are non-unique, `df.isetitem(i, newvals)`\n",
      "  data_v3.loc[:,col] = data_v3.groupby(col)['rubm2'].transform('mean')\n",
      "/tmp/ipykernel_16196/181838561.py:2: DeprecationWarning: In a future version, `df.iloc[:, i] = newvals` will attempt to set the values inplace instead of always setting a new array. To retain the old behavior, use either `df[df.columns[i]] = newvals` or, if columns are non-unique, `df.isetitem(i, newvals)`\n",
      "  data_v3.loc[:,col] = data_v3.groupby(col)['rubm2'].transform('mean')\n",
      "/tmp/ipykernel_16196/181838561.py:2: DeprecationWarning: In a future version, `df.iloc[:, i] = newvals` will attempt to set the values inplace instead of always setting a new array. To retain the old behavior, use either `df[df.columns[i]] = newvals` or, if columns are non-unique, `df.isetitem(i, newvals)`\n",
      "  data_v3.loc[:,col] = data_v3.groupby(col)['rubm2'].transform('mean')\n",
      "/tmp/ipykernel_16196/181838561.py:2: DeprecationWarning: In a future version, `df.iloc[:, i] = newvals` will attempt to set the values inplace instead of always setting a new array. To retain the old behavior, use either `df[df.columns[i]] = newvals` or, if columns are non-unique, `df.isetitem(i, newvals)`\n",
      "  data_v3.loc[:,col] = data_v3.groupby(col)['rubm2'].transform('mean')\n",
      "/tmp/ipykernel_16196/181838561.py:2: DeprecationWarning: In a future version, `df.iloc[:, i] = newvals` will attempt to set the values inplace instead of always setting a new array. To retain the old behavior, use either `df[df.columns[i]] = newvals` or, if columns are non-unique, `df.isetitem(i, newvals)`\n",
      "  data_v3.loc[:,col] = data_v3.groupby(col)['rubm2'].transform('mean')\n",
      "/tmp/ipykernel_16196/181838561.py:2: DeprecationWarning: In a future version, `df.iloc[:, i] = newvals` will attempt to set the values inplace instead of always setting a new array. To retain the old behavior, use either `df[df.columns[i]] = newvals` or, if columns are non-unique, `df.isetitem(i, newvals)`\n",
      "  data_v3.loc[:,col] = data_v3.groupby(col)['rubm2'].transform('mean')\n",
      "/tmp/ipykernel_16196/181838561.py:2: DeprecationWarning: In a future version, `df.iloc[:, i] = newvals` will attempt to set the values inplace instead of always setting a new array. To retain the old behavior, use either `df[df.columns[i]] = newvals` or, if columns are non-unique, `df.isetitem(i, newvals)`\n",
      "  data_v3.loc[:,col] = data_v3.groupby(col)['rubm2'].transform('mean')\n",
      "/tmp/ipykernel_16196/181838561.py:2: DeprecationWarning: In a future version, `df.iloc[:, i] = newvals` will attempt to set the values inplace instead of always setting a new array. To retain the old behavior, use either `df[df.columns[i]] = newvals` or, if columns are non-unique, `df.isetitem(i, newvals)`\n",
      "  data_v3.loc[:,col] = data_v3.groupby(col)['rubm2'].transform('mean')\n",
      "/tmp/ipykernel_16196/181838561.py:2: DeprecationWarning: In a future version, `df.iloc[:, i] = newvals` will attempt to set the values inplace instead of always setting a new array. To retain the old behavior, use either `df[df.columns[i]] = newvals` or, if columns are non-unique, `df.isetitem(i, newvals)`\n",
      "  data_v3.loc[:,col] = data_v3.groupby(col)['rubm2'].transform('mean')\n",
      "/tmp/ipykernel_16196/181838561.py:2: DeprecationWarning: In a future version, `df.iloc[:, i] = newvals` will attempt to set the values inplace instead of always setting a new array. To retain the old behavior, use either `df[df.columns[i]] = newvals` or, if columns are non-unique, `df.isetitem(i, newvals)`\n",
      "  data_v3.loc[:,col] = data_v3.groupby(col)['rubm2'].transform('mean')\n",
      "/tmp/ipykernel_16196/181838561.py:2: DeprecationWarning: In a future version, `df.iloc[:, i] = newvals` will attempt to set the values inplace instead of always setting a new array. To retain the old behavior, use either `df[df.columns[i]] = newvals` or, if columns are non-unique, `df.isetitem(i, newvals)`\n",
      "  data_v3.loc[:,col] = data_v3.groupby(col)['rubm2'].transform('mean')\n",
      "/tmp/ipykernel_16196/181838561.py:2: DeprecationWarning: In a future version, `df.iloc[:, i] = newvals` will attempt to set the values inplace instead of always setting a new array. To retain the old behavior, use either `df[df.columns[i]] = newvals` or, if columns are non-unique, `df.isetitem(i, newvals)`\n",
      "  data_v3.loc[:,col] = data_v3.groupby(col)['rubm2'].transform('mean')\n",
      "/tmp/ipykernel_16196/181838561.py:2: DeprecationWarning: In a future version, `df.iloc[:, i] = newvals` will attempt to set the values inplace instead of always setting a new array. To retain the old behavior, use either `df[df.columns[i]] = newvals` or, if columns are non-unique, `df.isetitem(i, newvals)`\n",
      "  data_v3.loc[:,col] = data_v3.groupby(col)['rubm2'].transform('mean')\n",
      "/tmp/ipykernel_16196/181838561.py:2: DeprecationWarning: In a future version, `df.iloc[:, i] = newvals` will attempt to set the values inplace instead of always setting a new array. To retain the old behavior, use either `df[df.columns[i]] = newvals` or, if columns are non-unique, `df.isetitem(i, newvals)`\n",
      "  data_v3.loc[:,col] = data_v3.groupby(col)['rubm2'].transform('mean')\n",
      "/tmp/ipykernel_16196/181838561.py:2: DeprecationWarning: In a future version, `df.iloc[:, i] = newvals` will attempt to set the values inplace instead of always setting a new array. To retain the old behavior, use either `df[df.columns[i]] = newvals` or, if columns are non-unique, `df.isetitem(i, newvals)`\n",
      "  data_v3.loc[:,col] = data_v3.groupby(col)['rubm2'].transform('mean')\n",
      "/tmp/ipykernel_16196/181838561.py:2: DeprecationWarning: In a future version, `df.iloc[:, i] = newvals` will attempt to set the values inplace instead of always setting a new array. To retain the old behavior, use either `df[df.columns[i]] = newvals` or, if columns are non-unique, `df.isetitem(i, newvals)`\n",
      "  data_v3.loc[:,col] = data_v3.groupby(col)['rubm2'].transform('mean')\n",
      "/tmp/ipykernel_16196/181838561.py:2: DeprecationWarning: In a future version, `df.iloc[:, i] = newvals` will attempt to set the values inplace instead of always setting a new array. To retain the old behavior, use either `df[df.columns[i]] = newvals` or, if columns are non-unique, `df.isetitem(i, newvals)`\n",
      "  data_v3.loc[:,col] = data_v3.groupby(col)['rubm2'].transform('mean')\n",
      "/tmp/ipykernel_16196/181838561.py:2: DeprecationWarning: In a future version, `df.iloc[:, i] = newvals` will attempt to set the values inplace instead of always setting a new array. To retain the old behavior, use either `df[df.columns[i]] = newvals` or, if columns are non-unique, `df.isetitem(i, newvals)`\n",
      "  data_v3.loc[:,col] = data_v3.groupby(col)['rubm2'].transform('mean')\n",
      "/tmp/ipykernel_16196/181838561.py:2: DeprecationWarning: In a future version, `df.iloc[:, i] = newvals` will attempt to set the values inplace instead of always setting a new array. To retain the old behavior, use either `df[df.columns[i]] = newvals` or, if columns are non-unique, `df.isetitem(i, newvals)`\n",
      "  data_v3.loc[:,col] = data_v3.groupby(col)['rubm2'].transform('mean')\n",
      "/tmp/ipykernel_16196/181838561.py:2: DeprecationWarning: In a future version, `df.iloc[:, i] = newvals` will attempt to set the values inplace instead of always setting a new array. To retain the old behavior, use either `df[df.columns[i]] = newvals` or, if columns are non-unique, `df.isetitem(i, newvals)`\n",
      "  data_v3.loc[:,col] = data_v3.groupby(col)['rubm2'].transform('mean')\n",
      "/tmp/ipykernel_16196/181838561.py:2: DeprecationWarning: In a future version, `df.iloc[:, i] = newvals` will attempt to set the values inplace instead of always setting a new array. To retain the old behavior, use either `df[df.columns[i]] = newvals` or, if columns are non-unique, `df.isetitem(i, newvals)`\n",
      "  data_v3.loc[:,col] = data_v3.groupby(col)['rubm2'].transform('mean')\n",
      "/tmp/ipykernel_16196/181838561.py:2: DeprecationWarning: In a future version, `df.iloc[:, i] = newvals` will attempt to set the values inplace instead of always setting a new array. To retain the old behavior, use either `df[df.columns[i]] = newvals` or, if columns are non-unique, `df.isetitem(i, newvals)`\n",
      "  data_v3.loc[:,col] = data_v3.groupby(col)['rubm2'].transform('mean')\n",
      "/tmp/ipykernel_16196/181838561.py:2: DeprecationWarning: In a future version, `df.iloc[:, i] = newvals` will attempt to set the values inplace instead of always setting a new array. To retain the old behavior, use either `df[df.columns[i]] = newvals` or, if columns are non-unique, `df.isetitem(i, newvals)`\n",
      "  data_v3.loc[:,col] = data_v3.groupby(col)['rubm2'].transform('mean')\n",
      "/tmp/ipykernel_16196/181838561.py:2: DeprecationWarning: In a future version, `df.iloc[:, i] = newvals` will attempt to set the values inplace instead of always setting a new array. To retain the old behavior, use either `df[df.columns[i]] = newvals` or, if columns are non-unique, `df.isetitem(i, newvals)`\n",
      "  data_v3.loc[:,col] = data_v3.groupby(col)['rubm2'].transform('mean')\n",
      "/tmp/ipykernel_16196/181838561.py:2: DeprecationWarning: In a future version, `df.iloc[:, i] = newvals` will attempt to set the values inplace instead of always setting a new array. To retain the old behavior, use either `df[df.columns[i]] = newvals` or, if columns are non-unique, `df.isetitem(i, newvals)`\n",
      "  data_v3.loc[:,col] = data_v3.groupby(col)['rubm2'].transform('mean')\n",
      "/tmp/ipykernel_16196/181838561.py:2: DeprecationWarning: In a future version, `df.iloc[:, i] = newvals` will attempt to set the values inplace instead of always setting a new array. To retain the old behavior, use either `df[df.columns[i]] = newvals` or, if columns are non-unique, `df.isetitem(i, newvals)`\n",
      "  data_v3.loc[:,col] = data_v3.groupby(col)['rubm2'].transform('mean')\n",
      "/tmp/ipykernel_16196/181838561.py:2: DeprecationWarning: In a future version, `df.iloc[:, i] = newvals` will attempt to set the values inplace instead of always setting a new array. To retain the old behavior, use either `df[df.columns[i]] = newvals` or, if columns are non-unique, `df.isetitem(i, newvals)`\n",
      "  data_v3.loc[:,col] = data_v3.groupby(col)['rubm2'].transform('mean')\n",
      "/tmp/ipykernel_16196/181838561.py:2: DeprecationWarning: In a future version, `df.iloc[:, i] = newvals` will attempt to set the values inplace instead of always setting a new array. To retain the old behavior, use either `df[df.columns[i]] = newvals` or, if columns are non-unique, `df.isetitem(i, newvals)`\n",
      "  data_v3.loc[:,col] = data_v3.groupby(col)['rubm2'].transform('mean')\n",
      "/tmp/ipykernel_16196/181838561.py:2: DeprecationWarning: In a future version, `df.iloc[:, i] = newvals` will attempt to set the values inplace instead of always setting a new array. To retain the old behavior, use either `df[df.columns[i]] = newvals` or, if columns are non-unique, `df.isetitem(i, newvals)`\n",
      "  data_v3.loc[:,col] = data_v3.groupby(col)['rubm2'].transform('mean')\n",
      "/tmp/ipykernel_16196/181838561.py:2: DeprecationWarning: In a future version, `df.iloc[:, i] = newvals` will attempt to set the values inplace instead of always setting a new array. To retain the old behavior, use either `df[df.columns[i]] = newvals` or, if columns are non-unique, `df.isetitem(i, newvals)`\n",
      "  data_v3.loc[:,col] = data_v3.groupby(col)['rubm2'].transform('mean')\n",
      "/tmp/ipykernel_16196/181838561.py:2: DeprecationWarning: In a future version, `df.iloc[:, i] = newvals` will attempt to set the values inplace instead of always setting a new array. To retain the old behavior, use either `df[df.columns[i]] = newvals` or, if columns are non-unique, `df.isetitem(i, newvals)`\n",
      "  data_v3.loc[:,col] = data_v3.groupby(col)['rubm2'].transform('mean')\n",
      "/tmp/ipykernel_16196/181838561.py:2: DeprecationWarning: In a future version, `df.iloc[:, i] = newvals` will attempt to set the values inplace instead of always setting a new array. To retain the old behavior, use either `df[df.columns[i]] = newvals` or, if columns are non-unique, `df.isetitem(i, newvals)`\n",
      "  data_v3.loc[:,col] = data_v3.groupby(col)['rubm2'].transform('mean')\n",
      "/tmp/ipykernel_16196/181838561.py:2: DeprecationWarning: In a future version, `df.iloc[:, i] = newvals` will attempt to set the values inplace instead of always setting a new array. To retain the old behavior, use either `df[df.columns[i]] = newvals` or, if columns are non-unique, `df.isetitem(i, newvals)`\n",
      "  data_v3.loc[:,col] = data_v3.groupby(col)['rubm2'].transform('mean')\n",
      "/tmp/ipykernel_16196/181838561.py:2: DeprecationWarning: In a future version, `df.iloc[:, i] = newvals` will attempt to set the values inplace instead of always setting a new array. To retain the old behavior, use either `df[df.columns[i]] = newvals` or, if columns are non-unique, `df.isetitem(i, newvals)`\n",
      "  data_v3.loc[:,col] = data_v3.groupby(col)['rubm2'].transform('mean')\n",
      "/tmp/ipykernel_16196/181838561.py:2: DeprecationWarning: In a future version, `df.iloc[:, i] = newvals` will attempt to set the values inplace instead of always setting a new array. To retain the old behavior, use either `df[df.columns[i]] = newvals` or, if columns are non-unique, `df.isetitem(i, newvals)`\n",
      "  data_v3.loc[:,col] = data_v3.groupby(col)['rubm2'].transform('mean')\n",
      "/tmp/ipykernel_16196/181838561.py:2: DeprecationWarning: In a future version, `df.iloc[:, i] = newvals` will attempt to set the values inplace instead of always setting a new array. To retain the old behavior, use either `df[df.columns[i]] = newvals` or, if columns are non-unique, `df.isetitem(i, newvals)`\n",
      "  data_v3.loc[:,col] = data_v3.groupby(col)['rubm2'].transform('mean')\n",
      "/tmp/ipykernel_16196/181838561.py:2: DeprecationWarning: In a future version, `df.iloc[:, i] = newvals` will attempt to set the values inplace instead of always setting a new array. To retain the old behavior, use either `df[df.columns[i]] = newvals` or, if columns are non-unique, `df.isetitem(i, newvals)`\n",
      "  data_v3.loc[:,col] = data_v3.groupby(col)['rubm2'].transform('mean')\n",
      "/tmp/ipykernel_16196/181838561.py:2: DeprecationWarning: In a future version, `df.iloc[:, i] = newvals` will attempt to set the values inplace instead of always setting a new array. To retain the old behavior, use either `df[df.columns[i]] = newvals` or, if columns are non-unique, `df.isetitem(i, newvals)`\n",
      "  data_v3.loc[:,col] = data_v3.groupby(col)['rubm2'].transform('mean')\n"
     ]
    }
   ],
   "source": [
    "for col in data_v2.select_dtypes('O').columns:\n",
    "    data_v3.loc[:,col] = data_v3.groupby(col)['rubm2'].transform('mean')"
   ]
  },
  {
   "cell_type": "code",
   "execution_count": null,
   "metadata": {},
   "outputs": [],
   "source": []
  },
  {
   "cell_type": "code",
   "execution_count": 21,
   "metadata": {},
   "outputs": [
    {
     "name": "stderr",
     "output_type": "stream",
     "text": [
      "100%|██████████| 10/10 [01:13<00:00,  7.39s/it]\n"
     ]
    }
   ],
   "source": [
    "v2 = check_model_prefomance(data_v3.select_dtypes(exclude='O'),LGBMRegressor(n_estimators=1000))"
   ]
  },
  {
   "cell_type": "code",
   "execution_count": 22,
   "metadata": {},
   "outputs": [
    {
     "data": {
      "text/html": [
       "<div>\n",
       "<style scoped>\n",
       "    .dataframe tbody tr th:only-of-type {\n",
       "        vertical-align: middle;\n",
       "    }\n",
       "\n",
       "    .dataframe tbody tr th {\n",
       "        vertical-align: top;\n",
       "    }\n",
       "\n",
       "    .dataframe thead th {\n",
       "        text-align: right;\n",
       "    }\n",
       "</style>\n",
       "<table border=\"1\" class=\"dataframe\">\n",
       "  <thead>\n",
       "    <tr style=\"text-align: right;\">\n",
       "      <th></th>\n",
       "      <th>mape</th>\n",
       "      <th>rmse</th>\n",
       "      <th>mae</th>\n",
       "    </tr>\n",
       "  </thead>\n",
       "  <tbody>\n",
       "    <tr>\n",
       "      <th>mean</th>\n",
       "      <td>0.076433</td>\n",
       "      <td>38193.481654</td>\n",
       "      <td>22248.301000</td>\n",
       "    </tr>\n",
       "    <tr>\n",
       "      <th>std</th>\n",
       "      <td>0.005540</td>\n",
       "      <td>3083.233260</td>\n",
       "      <td>492.667254</td>\n",
       "    </tr>\n",
       "  </tbody>\n",
       "</table>\n",
       "</div>"
      ],
      "text/plain": [
       "          mape          rmse           mae\n",
       "mean  0.076433  38193.481654  22248.301000\n",
       "std   0.005540   3083.233260    492.667254"
      ]
     },
     "execution_count": 22,
     "metadata": {},
     "output_type": "execute_result"
    }
   ],
   "source": [
    "baza - v2"
   ]
  },
  {
   "cell_type": "code",
   "execution_count": 23,
   "metadata": {},
   "outputs": [
    {
     "data": {
      "text/html": [
       "<div>\n",
       "<style scoped>\n",
       "    .dataframe tbody tr th:only-of-type {\n",
       "        vertical-align: middle;\n",
       "    }\n",
       "\n",
       "    .dataframe tbody tr th {\n",
       "        vertical-align: top;\n",
       "    }\n",
       "\n",
       "    .dataframe thead th {\n",
       "        text-align: right;\n",
       "    }\n",
       "</style>\n",
       "<table border=\"1\" class=\"dataframe\">\n",
       "  <thead>\n",
       "    <tr style=\"text-align: right;\">\n",
       "      <th></th>\n",
       "      <th>mape</th>\n",
       "      <th>rmse</th>\n",
       "      <th>mae</th>\n",
       "    </tr>\n",
       "  </thead>\n",
       "  <tbody>\n",
       "    <tr>\n",
       "      <th>mean</th>\n",
       "      <td>0.050393</td>\n",
       "      <td>30324.609766</td>\n",
       "      <td>14983.101432</td>\n",
       "    </tr>\n",
       "    <tr>\n",
       "      <th>std</th>\n",
       "      <td>0.001958</td>\n",
       "      <td>2735.277838</td>\n",
       "      <td>287.885936</td>\n",
       "    </tr>\n",
       "  </tbody>\n",
       "</table>\n",
       "</div>"
      ],
      "text/plain": [
       "          mape          rmse           mae\n",
       "mean  0.050393  30324.609766  14983.101432\n",
       "std   0.001958   2735.277838    287.885936"
      ]
     },
     "execution_count": 23,
     "metadata": {},
     "output_type": "execute_result"
    }
   ],
   "source": [
    "v1 - v2"
   ]
  },
  {
   "cell_type": "code",
   "execution_count": 24,
   "metadata": {},
   "outputs": [
    {
     "data": {
      "text/html": [
       "<div>\n",
       "<style scoped>\n",
       "    .dataframe tbody tr th:only-of-type {\n",
       "        vertical-align: middle;\n",
       "    }\n",
       "\n",
       "    .dataframe tbody tr th {\n",
       "        vertical-align: top;\n",
       "    }\n",
       "\n",
       "    .dataframe thead th {\n",
       "        text-align: right;\n",
       "    }\n",
       "</style>\n",
       "<table border=\"1\" class=\"dataframe\">\n",
       "  <thead>\n",
       "    <tr style=\"text-align: right;\">\n",
       "      <th></th>\n",
       "      <th>mape</th>\n",
       "      <th>rmse</th>\n",
       "      <th>mae</th>\n",
       "    </tr>\n",
       "  </thead>\n",
       "  <tbody>\n",
       "    <tr>\n",
       "      <th>mean</th>\n",
       "      <td>0.112568</td>\n",
       "      <td>65917.806799</td>\n",
       "      <td>36337.796745</td>\n",
       "    </tr>\n",
       "    <tr>\n",
       "      <th>std</th>\n",
       "      <td>0.006363</td>\n",
       "      <td>3941.392623</td>\n",
       "      <td>1240.152390</td>\n",
       "    </tr>\n",
       "  </tbody>\n",
       "</table>\n",
       "</div>"
      ],
      "text/plain": [
       "          mape          rmse           mae\n",
       "mean  0.112568  65917.806799  36337.796745\n",
       "std   0.006363   3941.392623   1240.152390"
      ]
     },
     "execution_count": 24,
     "metadata": {},
     "output_type": "execute_result"
    }
   ],
   "source": [
    "v2"
   ]
  },
  {
   "cell_type": "code",
   "execution_count": 25,
   "metadata": {},
   "outputs": [],
   "source": [
    "x,xv,y,yv = model_selection.train_test_split(data_v3.drop('rubm2',axis=1),data_v3['rubm2'],train_size=.75)"
   ]
  },
  {
   "cell_type": "code",
   "execution_count": 26,
   "metadata": {},
   "outputs": [],
   "source": [
    "model_v2 = CatBoostRegressor(5000)"
   ]
  },
  {
   "cell_type": "code",
   "execution_count": 27,
   "metadata": {},
   "outputs": [
    {
     "name": "stdout",
     "output_type": "stream",
     "text": [
      "Learning rate set to 0.014474\n",
      "0:\tlearn: 159184.1151782\ttotal: 59ms\tremaining: 4m 55s\n",
      "500:\tlearn: 54437.9168175\ttotal: 2.79s\tremaining: 25.1s\n",
      "1000:\tlearn: 46946.1745160\ttotal: 5.24s\tremaining: 20.9s\n",
      "1500:\tlearn: 41858.7436979\ttotal: 7.75s\tremaining: 18.1s\n",
      "2000:\tlearn: 38177.7432341\ttotal: 10.2s\tremaining: 15.3s\n",
      "2500:\tlearn: 35209.1106562\ttotal: 12.6s\tremaining: 12.6s\n",
      "3000:\tlearn: 32821.0095281\ttotal: 15.2s\tremaining: 10.1s\n",
      "3500:\tlearn: 30675.7259104\ttotal: 17.6s\tremaining: 7.51s\n",
      "4000:\tlearn: 28801.6959059\ttotal: 19.9s\tremaining: 4.97s\n",
      "4500:\tlearn: 27246.6210716\ttotal: 22.2s\tremaining: 2.46s\n",
      "4999:\tlearn: 25761.8774395\ttotal: 24.6s\tremaining: 0us\n"
     ]
    },
    {
     "data": {
      "text/plain": [
       "<catboost.core.CatBoostRegressor at 0x7ff3762ae730>"
      ]
     },
     "execution_count": 27,
     "metadata": {},
     "output_type": "execute_result"
    }
   ],
   "source": [
    "model_v2.fit(x,y,verbose=500)"
   ]
  },
  {
   "cell_type": "code",
   "execution_count": 28,
   "metadata": {},
   "outputs": [
    {
     "data": {
      "text/plain": [
       "0.10738368360320025"
      ]
     },
     "execution_count": 28,
     "metadata": {},
     "output_type": "execute_result"
    }
   ],
   "source": [
    "best_score = metrics.mean_absolute_percentage_error(yv,model_v2.predict(xv))\n",
    "best_score"
   ]
  },
  {
   "cell_type": "code",
   "execution_count": 29,
   "metadata": {},
   "outputs": [
    {
     "data": {
      "text/plain": [
       "Материал_теплоизоляции_сети      0.032185\n",
       "Количество_вводов_в_дом__ед.     0.048411\n",
       "Водоотведение                    0.050055\n",
       "Форма_крыши                      0.056704\n",
       "Тип_системы_газоснабжения        0.057339\n",
       "                                  ...    \n",
       "Метро                            3.011278\n",
       "m2                               6.798541\n",
       "Район                            6.883233\n",
       "Дом                              7.623599\n",
       "Улица                           46.945816\n",
       "Length: 85, dtype: float64"
      ]
     },
     "execution_count": 29,
     "metadata": {},
     "output_type": "execute_result"
    }
   ],
   "source": [
    "pd.Series(model_v2.feature_importances_,model_v2.feature_names_).sort_values()"
   ]
  },
  {
   "attachments": {},
   "cell_type": "markdown",
   "metadata": {},
   "source": [
    "# v3 normalize"
   ]
  },
  {
   "cell_type": "code",
   "execution_count": 30,
   "metadata": {},
   "outputs": [],
   "source": [
    "from sklearn import preprocessing\n",
    "\n",
    "ss = preprocessing.StandardScaler()"
   ]
  },
  {
   "cell_type": "code",
   "execution_count": 31,
   "metadata": {},
   "outputs": [],
   "source": [
    "data_v4 = data_v3.apply(lambda x: ss.fit_transform(x.to_frame()).ravel() if ((x.nunique()>2 ) & (x.name != 'rubm2')) else x).copy()"
   ]
  },
  {
   "cell_type": "code",
   "execution_count": 32,
   "metadata": {},
   "outputs": [
    {
     "name": "stderr",
     "output_type": "stream",
     "text": [
      "100%|██████████| 10/10 [00:57<00:00,  5.73s/it]\n"
     ]
    }
   ],
   "source": [
    "v2_normalize = check_model_prefomance(data_v4,LGBMRegressor(n_estimators=1000))"
   ]
  },
  {
   "cell_type": "code",
   "execution_count": 33,
   "metadata": {},
   "outputs": [
    {
     "data": {
      "text/html": [
       "<div>\n",
       "<style scoped>\n",
       "    .dataframe tbody tr th:only-of-type {\n",
       "        vertical-align: middle;\n",
       "    }\n",
       "\n",
       "    .dataframe tbody tr th {\n",
       "        vertical-align: top;\n",
       "    }\n",
       "\n",
       "    .dataframe thead th {\n",
       "        text-align: right;\n",
       "    }\n",
       "</style>\n",
       "<table border=\"1\" class=\"dataframe\">\n",
       "  <thead>\n",
       "    <tr style=\"text-align: right;\">\n",
       "      <th></th>\n",
       "      <th>mape</th>\n",
       "      <th>rmse</th>\n",
       "      <th>mae</th>\n",
       "    </tr>\n",
       "  </thead>\n",
       "  <tbody>\n",
       "    <tr>\n",
       "      <th>mean</th>\n",
       "      <td>-0.001002</td>\n",
       "      <td>-1085.47269</td>\n",
       "      <td>-332.280790</td>\n",
       "    </tr>\n",
       "    <tr>\n",
       "      <th>std</th>\n",
       "      <td>0.000108</td>\n",
       "      <td>-50.38243</td>\n",
       "      <td>-19.770045</td>\n",
       "    </tr>\n",
       "  </tbody>\n",
       "</table>\n",
       "</div>"
      ],
      "text/plain": [
       "          mape        rmse         mae\n",
       "mean -0.001002 -1085.47269 -332.280790\n",
       "std   0.000108   -50.38243  -19.770045"
      ]
     },
     "execution_count": 33,
     "metadata": {},
     "output_type": "execute_result"
    }
   ],
   "source": [
    "v2 - v2_normalize"
   ]
  },
  {
   "cell_type": "code",
   "execution_count": null,
   "metadata": {},
   "outputs": [],
   "source": []
  },
  {
   "attachments": {},
   "cell_type": "markdown",
   "metadata": {},
   "source": [
    "# target_transform"
   ]
  },
  {
   "cell_type": "code",
   "execution_count": 34,
   "metadata": {},
   "outputs": [],
   "source": [
    "data_v5 = data_v3.copy().query('rubm2 < rubm2.quantile(.9)')"
   ]
  },
  {
   "cell_type": "code",
   "execution_count": 35,
   "metadata": {},
   "outputs": [
    {
     "name": "stderr",
     "output_type": "stream",
     "text": [
      "100%|██████████| 10/10 [01:00<00:00,  6.00s/it]\n"
     ]
    }
   ],
   "source": [
    "v3_normalize = check_model_prefomance(data_v5,LGBMRegressor(n_estimators=1000))"
   ]
  },
  {
   "cell_type": "code",
   "execution_count": 36,
   "metadata": {},
   "outputs": [
    {
     "data": {
      "text/html": [
       "<div>\n",
       "<style scoped>\n",
       "    .dataframe tbody tr th:only-of-type {\n",
       "        vertical-align: middle;\n",
       "    }\n",
       "\n",
       "    .dataframe tbody tr th {\n",
       "        vertical-align: top;\n",
       "    }\n",
       "\n",
       "    .dataframe thead th {\n",
       "        text-align: right;\n",
       "    }\n",
       "</style>\n",
       "<table border=\"1\" class=\"dataframe\">\n",
       "  <thead>\n",
       "    <tr style=\"text-align: right;\">\n",
       "      <th></th>\n",
       "      <th>mape</th>\n",
       "      <th>rmse</th>\n",
       "      <th>mae</th>\n",
       "    </tr>\n",
       "  </thead>\n",
       "  <tbody>\n",
       "    <tr>\n",
       "      <th>mean</th>\n",
       "      <td>0.017446</td>\n",
       "      <td>29352.733794</td>\n",
       "      <td>10741.106347</td>\n",
       "    </tr>\n",
       "    <tr>\n",
       "      <th>std</th>\n",
       "      <td>0.000083</td>\n",
       "      <td>2864.753873</td>\n",
       "      <td>779.344349</td>\n",
       "    </tr>\n",
       "  </tbody>\n",
       "</table>\n",
       "</div>"
      ],
      "text/plain": [
       "          mape          rmse           mae\n",
       "mean  0.017446  29352.733794  10741.106347\n",
       "std   0.000083   2864.753873    779.344349"
      ]
     },
     "execution_count": 36,
     "metadata": {},
     "output_type": "execute_result"
    }
   ],
   "source": [
    "v2 - v3_normalize"
   ]
  },
  {
   "cell_type": "code",
   "execution_count": 37,
   "metadata": {},
   "outputs": [
    {
     "data": {
      "text/html": [
       "<div>\n",
       "<style scoped>\n",
       "    .dataframe tbody tr th:only-of-type {\n",
       "        vertical-align: middle;\n",
       "    }\n",
       "\n",
       "    .dataframe tbody tr th {\n",
       "        vertical-align: top;\n",
       "    }\n",
       "\n",
       "    .dataframe thead th {\n",
       "        text-align: right;\n",
       "    }\n",
       "</style>\n",
       "<table border=\"1\" class=\"dataframe\">\n",
       "  <thead>\n",
       "    <tr style=\"text-align: right;\">\n",
       "      <th></th>\n",
       "      <th>mape</th>\n",
       "      <th>rmse</th>\n",
       "      <th>mae</th>\n",
       "    </tr>\n",
       "  </thead>\n",
       "  <tbody>\n",
       "    <tr>\n",
       "      <th>mean</th>\n",
       "      <td>0.095123</td>\n",
       "      <td>36565.073005</td>\n",
       "      <td>25596.690398</td>\n",
       "    </tr>\n",
       "    <tr>\n",
       "      <th>std</th>\n",
       "      <td>0.006280</td>\n",
       "      <td>1076.638751</td>\n",
       "      <td>460.808041</td>\n",
       "    </tr>\n",
       "  </tbody>\n",
       "</table>\n",
       "</div>"
      ],
      "text/plain": [
       "          mape          rmse           mae\n",
       "mean  0.095123  36565.073005  25596.690398\n",
       "std   0.006280   1076.638751    460.808041"
      ]
     },
     "execution_count": 37,
     "metadata": {},
     "output_type": "execute_result"
    }
   ],
   "source": [
    "v3_normalize"
   ]
  },
  {
   "cell_type": "code",
   "execution_count": null,
   "metadata": {},
   "outputs": [],
   "source": []
  },
  {
   "cell_type": "code",
   "execution_count": null,
   "metadata": {},
   "outputs": [],
   "source": []
  },
  {
   "attachments": {},
   "cell_type": "markdown",
   "metadata": {},
   "source": [
    "# Result"
   ]
  },
  {
   "cell_type": "code",
   "execution_count": 41,
   "metadata": {},
   "outputs": [],
   "source": [
    "x,xv,y,yv = model_selection.train_test_split(data_v5.drop('rubm2',axis=1),data_v5['rubm2'],train_size=.75,random_state=1434)"
   ]
  },
  {
   "cell_type": "code",
   "execution_count": 42,
   "metadata": {},
   "outputs": [
    {
     "name": "stdout",
     "output_type": "stream",
     "text": [
      "0:\tlearn: 0.2021153\ttest: 0.1979533\tbest: 0.1979533 (0)\ttotal: 7.46ms\tremaining: 37.3s\n",
      "500:\tlearn: 0.0805644\ttest: 0.0960668\tbest: 0.0960668 (500)\ttotal: 3.19s\tremaining: 28.6s\n",
      "1000:\tlearn: 0.0689388\ttest: 0.0941160\tbest: 0.0941160 (1000)\ttotal: 6.13s\tremaining: 24.5s\n",
      "1500:\tlearn: 0.0625385\ttest: 0.0932339\tbest: 0.0932339 (1500)\ttotal: 9.06s\tremaining: 21.1s\n",
      "2000:\tlearn: 0.0580216\ttest: 0.0927138\tbest: 0.0927063 (1995)\ttotal: 11.7s\tremaining: 17.5s\n",
      "2500:\tlearn: 0.0546436\ttest: 0.0923325\tbest: 0.0923286 (2475)\ttotal: 14.2s\tremaining: 14.2s\n",
      "3000:\tlearn: 0.0523334\ttest: 0.0919895\tbest: 0.0919845 (2996)\ttotal: 16.7s\tremaining: 11.1s\n",
      "3500:\tlearn: 0.0502760\ttest: 0.0918380\tbest: 0.0918323 (3489)\ttotal: 19.3s\tremaining: 8.28s\n",
      "4000:\tlearn: 0.0483800\ttest: 0.0915783\tbest: 0.0915737 (3989)\ttotal: 22s\tremaining: 5.48s\n",
      "4500:\tlearn: 0.0467907\ttest: 0.0914258\tbest: 0.0914184 (4486)\ttotal: 24.6s\tremaining: 2.73s\n",
      "4999:\tlearn: 0.0456554\ttest: 0.0912651\tbest: 0.0912646 (4998)\ttotal: 27.1s\tremaining: 0us\n",
      "\n",
      "bestTest = 0.09126455939\n",
      "bestIteration = 4998\n",
      "\n",
      "Shrink model to first 4999 iterations.\n"
     ]
    },
    {
     "data": {
      "text/plain": [
       "0.09126456033710632"
      ]
     },
     "execution_count": 42,
     "metadata": {},
     "output_type": "execute_result"
    }
   ],
   "source": [
    "\n",
    "model_cat = CatBoostRegressor(5000,loss_function='MAE',eval_metric='MAPE',early_stopping_rounds=500,use_best_model=True)\n",
    "model_cat.fit(x,y,verbose=500,eval_set=(xv,yv))\n",
    "best_score = metrics.mean_absolute_percentage_error(yv,model_cat.predict(xv))\n",
    "best_score"
   ]
  },
  {
   "cell_type": "code",
   "execution_count": 44,
   "metadata": {},
   "outputs": [
    {
     "name": "stderr",
     "output_type": "stream",
     "text": [
      "/home/charubaiel/.cache/pypoetry/virtualenvs/mlopsini-xAkA-eId-py3.8/lib/python3.8/site-packages/lightgbm/sklearn.py:736: UserWarning: 'verbose' argument is deprecated and will be removed in a future release of LightGBM. Pass 'log_evaluation()' callback via 'callbacks' argument instead.\n",
      "  _log_warning(\"'verbose' argument is deprecated and will be removed in a future release of LightGBM. \"\n"
     ]
    },
    {
     "name": "stdout",
     "output_type": "stream",
     "text": [
      "[200]\tvalid_0's mape: 0.0989001\tvalid_0's l1: 29220.7\n",
      "[400]\tvalid_0's mape: 0.0921559\tvalid_0's l1: 26311.4\n",
      "[600]\tvalid_0's mape: 0.0932985\tvalid_0's l1: 27017.3\n",
      "[800]\tvalid_0's mape: 0.0919214\tvalid_0's l1: 26420.5\n",
      "[1000]\tvalid_0's mape: 0.0914923\tvalid_0's l1: 26175.4\n",
      "[1200]\tvalid_0's mape: 0.0917374\tvalid_0's l1: 26228.2\n",
      "[1400]\tvalid_0's mape: 0.0910025\tvalid_0's l1: 25905.5\n",
      "[1600]\tvalid_0's mape: 0.090703\tvalid_0's l1: 25738\n",
      "[1800]\tvalid_0's mape: 0.0914262\tvalid_0's l1: 26080.5\n",
      "[2000]\tvalid_0's mape: 0.0908896\tvalid_0's l1: 25867.5\n",
      "[2200]\tvalid_0's mape: 0.0905603\tvalid_0's l1: 25651.6\n",
      "[2400]\tvalid_0's mape: 0.0907072\tvalid_0's l1: 25706.8\n",
      "[2600]\tvalid_0's mape: 0.090585\tvalid_0's l1: 25660.7\n",
      "[2800]\tvalid_0's mape: 0.0905743\tvalid_0's l1: 25628.9\n",
      "[3000]\tvalid_0's mape: 0.0904446\tvalid_0's l1: 25536.4\n",
      "[3200]\tvalid_0's mape: 0.0907515\tvalid_0's l1: 25669.1\n",
      "[3400]\tvalid_0's mape: 0.09039\tvalid_0's l1: 25449.7\n",
      "[3600]\tvalid_0's mape: 0.0905007\tvalid_0's l1: 25502.9\n",
      "[3800]\tvalid_0's mape: 0.0905069\tvalid_0's l1: 25443.6\n",
      "[4000]\tvalid_0's mape: 0.0907221\tvalid_0's l1: 25553.1\n",
      "[4200]\tvalid_0's mape: 0.0906735\tvalid_0's l1: 25509.6\n",
      "[4400]\tvalid_0's mape: 0.0906258\tvalid_0's l1: 25502.2\n",
      "[4600]\tvalid_0's mape: 0.0907258\tvalid_0's l1: 25539.4\n",
      "[4800]\tvalid_0's mape: 0.0906042\tvalid_0's l1: 25483.2\n",
      "[5000]\tvalid_0's mape: 0.0905747\tvalid_0's l1: 25418.5\n"
     ]
    },
    {
     "data": {
      "text/plain": [
       "0.09057472111899124"
      ]
     },
     "execution_count": 44,
     "metadata": {},
     "output_type": "execute_result"
    }
   ],
   "source": [
    "\n",
    "model_l = LGBMRegressor(n_estimators=5000,\n",
    "                        learning_rate=.11,\n",
    "                        objective = 'mae',\n",
    "                        boosting_type='dart')\n",
    "\n",
    "model_l.fit(x,y,eval_set =(xv,yv),verbose=200,eval_metric='mape')\n",
    "best_score = metrics.mean_absolute_percentage_error(yv,model_l.predict(xv))\n",
    "best_score"
   ]
  },
  {
   "cell_type": "code",
   "execution_count": null,
   "metadata": {},
   "outputs": [],
   "source": []
  }
 ],
 "metadata": {
  "kernelspec": {
   "display_name": "mlopsini-xAkA-eId-py3.8",
   "language": "python",
   "name": "python3"
  },
  "language_info": {
   "codemirror_mode": {
    "name": "ipython",
    "version": 3
   },
   "file_extension": ".py",
   "mimetype": "text/x-python",
   "name": "python",
   "nbconvert_exporter": "python",
   "pygments_lexer": "ipython3",
   "version": "3.8.10"
  },
  "orig_nbformat": 4
 },
 "nbformat": 4,
 "nbformat_minor": 2
}
