{
 "cells": [
  {
   "cell_type": "code",
   "execution_count": 1,
   "metadata": {},
   "outputs": [],
   "source": [
    "import pandas as pd\n",
    "from sklearn import metrics,model_selection\n",
    "from catboost import CatBoostRegressor\n",
    "from tqdm import tqdm\n",
    "from lightgbm import LGBMRegressor"
   ]
  },
  {
   "cell_type": "code",
   "execution_count": 2,
   "metadata": {},
   "outputs": [],
   "source": [
    "import warnings\n",
    "import matplotlib.pyplot as plt\n",
    "plt.style.use('ggplot')\n",
    "\n",
    "warnings.simplefilter('ignore')"
   ]
  },
  {
   "cell_type": "code",
   "execution_count": 3,
   "metadata": {},
   "outputs": [],
   "source": [
    "df = pd.read_parquet('../../data/sample_data.parquet').dropna(subset='rubm2')\n",
    "df = df.drop(['datetime','publish_delta','url','id','text','Город','title','price','img_list','metro_branch','metro_name','metro_dist'],axis=1)"
   ]
  },
  {
   "cell_type": "code",
   "execution_count": 46,
   "metadata": {},
   "outputs": [
    {
     "data": {
      "text/plain": [
       "(8729, 21)"
      ]
     },
     "execution_count": 46,
     "metadata": {},
     "output_type": "execute_result"
    }
   ],
   "source": [
    "df.shape"
   ]
  },
  {
   "cell_type": "code",
   "execution_count": 4,
   "metadata": {},
   "outputs": [
    {
     "data": {
      "text/plain": [
       "286274.50980392157"
      ]
     },
     "execution_count": 4,
     "metadata": {},
     "output_type": "execute_result"
    }
   ],
   "source": [
    "df['rubm2'].median()"
   ]
  },
  {
   "cell_type": "code",
   "execution_count": 5,
   "metadata": {},
   "outputs": [],
   "source": [
    "\n",
    "df['postcode'] = df['postcode'].explode().astype(float).groupby(level=0).mean()"
   ]
  },
  {
   "cell_type": "code",
   "execution_count": 6,
   "metadata": {},
   "outputs": [],
   "source": [
    "df['is_apart'] = df['rooms'].str.contains('апарт')"
   ]
  },
  {
   "cell_type": "code",
   "execution_count": 7,
   "metadata": {},
   "outputs": [],
   "source": [
    "df['rooms'] = df['rooms'].str.extract('(\\d+)').iloc[:,0]"
   ]
  },
  {
   "cell_type": "code",
   "execution_count": 8,
   "metadata": {},
   "outputs": [],
   "source": [
    "def check_model_prefomance(dataset:pd.DataFrame,model):\n",
    "\n",
    "    \n",
    "    folds = model_selection.ShuffleSplit(n_splits= 10,train_size=.75,random_state=11)\n",
    "\n",
    "    X = dataset.drop('rubm2',axis=1)\n",
    "    Y = dataset['rubm2']\n",
    "\n",
    "    result = []\n",
    "\n",
    "    for train_idx,test_idx in tqdm(folds.split(dataset),total=10):\n",
    "\n",
    "        _metrics = {}\n",
    "\n",
    "        x,y = X.iloc[train_idx] , Y.iloc[train_idx]\n",
    "        xv,yv = X.iloc[test_idx] , Y.iloc[test_idx]\n",
    "\n",
    "        model.fit(x,y)\n",
    "        yhat = model.predict(xv)\n",
    "\n",
    "        _metrics.update({'mape': metrics.mean_absolute_percentage_error(yv, yhat)\n",
    "        })\n",
    "\n",
    "        _metrics.update({'rmse': metrics.mean_squared_error(yv, yhat)**.5})\n",
    "        \n",
    "        _metrics.update({'mae': metrics.mean_absolute_error(yv, yhat)})\n",
    "\n",
    "        result.append(_metrics)\n",
    "        \n",
    "    return pd.DataFrame(result).agg(['mean','std'])\n",
    "\n"
   ]
  },
  {
   "cell_type": "code",
   "execution_count": 9,
   "metadata": {},
   "outputs": [
    {
     "name": "stderr",
     "output_type": "stream",
     "text": [
      "100%|██████████| 10/10 [00:11<00:00,  1.11s/it]\n"
     ]
    }
   ],
   "source": [
    "baza = check_model_prefomance(df.select_dtypes(exclude='O'),LGBMRegressor(n_estimators=1000))"
   ]
  },
  {
   "cell_type": "code",
   "execution_count": 10,
   "metadata": {},
   "outputs": [
    {
     "data": {
      "text/html": [
       "<div>\n",
       "<style scoped>\n",
       "    .dataframe tbody tr th:only-of-type {\n",
       "        vertical-align: middle;\n",
       "    }\n",
       "\n",
       "    .dataframe tbody tr th {\n",
       "        vertical-align: top;\n",
       "    }\n",
       "\n",
       "    .dataframe thead th {\n",
       "        text-align: right;\n",
       "    }\n",
       "</style>\n",
       "<table border=\"1\" class=\"dataframe\">\n",
       "  <thead>\n",
       "    <tr style=\"text-align: right;\">\n",
       "      <th></th>\n",
       "      <th>mape</th>\n",
       "      <th>rmse</th>\n",
       "      <th>mae</th>\n",
       "    </tr>\n",
       "  </thead>\n",
       "  <tbody>\n",
       "    <tr>\n",
       "      <th>mean</th>\n",
       "      <td>0.183506</td>\n",
       "      <td>101195.845931</td>\n",
       "      <td>58240.966773</td>\n",
       "    </tr>\n",
       "    <tr>\n",
       "      <th>std</th>\n",
       "      <td>0.008503</td>\n",
       "      <td>5501.860419</td>\n",
       "      <td>1353.167682</td>\n",
       "    </tr>\n",
       "  </tbody>\n",
       "</table>\n",
       "</div>"
      ],
      "text/plain": [
       "          mape           rmse           mae\n",
       "mean  0.183506  101195.845931  58240.966773\n",
       "std   0.008503    5501.860419   1353.167682"
      ]
     },
     "execution_count": 10,
     "metadata": {},
     "output_type": "execute_result"
    }
   ],
   "source": [
    "baza"
   ]
  },
  {
   "attachments": {},
   "cell_type": "markdown",
   "metadata": {},
   "source": [
    "# baseline v1"
   ]
  },
  {
   "cell_type": "code",
   "execution_count": 11,
   "metadata": {},
   "outputs": [],
   "source": [
    "base_data = df.copy()\n"
   ]
  },
  {
   "cell_type": "code",
   "execution_count": 12,
   "metadata": {},
   "outputs": [
    {
     "data": {
      "text/plain": [
       "326"
      ]
     },
     "execution_count": 12,
     "metadata": {},
     "output_type": "execute_result"
    }
   ],
   "source": [
    "base_data['advanced_home_info'].isna().sum()"
   ]
  },
  {
   "cell_type": "code",
   "execution_count": 13,
   "metadata": {},
   "outputs": [],
   "source": [
    "advace_data = pd.json_normalize(base_data['advanced_home_info'].apply(lambda row: dict(zip(row['key'],row['value'])) if row is not None else {}))"
   ]
  },
  {
   "cell_type": "code",
   "execution_count": 14,
   "metadata": {},
   "outputs": [],
   "source": [
    "advanced_data = advace_data.dropna(thresh=advace_data.shape[0]*.5,axis=1)"
   ]
  },
  {
   "cell_type": "code",
   "execution_count": 15,
   "metadata": {},
   "outputs": [],
   "source": [
    "advanced_data['age'] = (advanced_data['Год_ввода_в_эксплуатацию'].astype(float) - 2023).abs().where(lambda x: x<100)"
   ]
  },
  {
   "cell_type": "code",
   "execution_count": 16,
   "metadata": {},
   "outputs": [],
   "source": [
    "clean_advanced_data = advanced_data.apply(pd.to_numeric,errors='ignore',downcast='unsigned')"
   ]
  },
  {
   "cell_type": "code",
   "execution_count": 17,
   "metadata": {},
   "outputs": [],
   "source": [
    "data_v2 = base_data.drop('advanced_home_info',axis=1).reset_index(drop=True)\\\n",
    "                    .join(clean_advanced_data).rename(columns= lambda x: x.replace(',','_'))\\\n",
    "                        .drop('jkh_url',axis=1)"
   ]
  },
  {
   "cell_type": "code",
   "execution_count": 18,
   "metadata": {},
   "outputs": [
    {
     "name": "stderr",
     "output_type": "stream",
     "text": [
      "100%|██████████| 10/10 [00:18<00:00,  1.87s/it]\n"
     ]
    }
   ],
   "source": [
    "v1 = check_model_prefomance(data_v2.select_dtypes(exclude='O'),LGBMRegressor(n_estimators=1000))"
   ]
  },
  {
   "cell_type": "code",
   "execution_count": 19,
   "metadata": {},
   "outputs": [
    {
     "data": {
      "text/html": [
       "<div>\n",
       "<style scoped>\n",
       "    .dataframe tbody tr th:only-of-type {\n",
       "        vertical-align: middle;\n",
       "    }\n",
       "\n",
       "    .dataframe tbody tr th {\n",
       "        vertical-align: top;\n",
       "    }\n",
       "\n",
       "    .dataframe thead th {\n",
       "        text-align: right;\n",
       "    }\n",
       "</style>\n",
       "<table border=\"1\" class=\"dataframe\">\n",
       "  <thead>\n",
       "    <tr style=\"text-align: right;\">\n",
       "      <th></th>\n",
       "      <th>mape</th>\n",
       "      <th>rmse</th>\n",
       "      <th>mae</th>\n",
       "    </tr>\n",
       "  </thead>\n",
       "  <tbody>\n",
       "    <tr>\n",
       "      <th>mean</th>\n",
       "      <td>0.017638</td>\n",
       "      <td>5743.905991</td>\n",
       "      <td>5451.455029</td>\n",
       "    </tr>\n",
       "    <tr>\n",
       "      <th>std</th>\n",
       "      <td>-0.001060</td>\n",
       "      <td>1073.002248</td>\n",
       "      <td>466.540725</td>\n",
       "    </tr>\n",
       "  </tbody>\n",
       "</table>\n",
       "</div>"
      ],
      "text/plain": [
       "          mape         rmse          mae\n",
       "mean  0.017638  5743.905991  5451.455029\n",
       "std  -0.001060  1073.002248   466.540725"
      ]
     },
     "execution_count": 19,
     "metadata": {},
     "output_type": "execute_result"
    }
   ],
   "source": [
    "baza - v1"
   ]
  },
  {
   "attachments": {},
   "cell_type": "markdown",
   "metadata": {},
   "source": [
    "# target_encoding"
   ]
  },
  {
   "cell_type": "code",
   "execution_count": 20,
   "metadata": {},
   "outputs": [],
   "source": [
    "data_v3 = data_v2.copy()"
   ]
  },
  {
   "cell_type": "code",
   "execution_count": 21,
   "metadata": {},
   "outputs": [],
   "source": [
    "for col in data_v2.select_dtypes('O').columns:\n",
    "    data_v3.loc[:,col] = data_v3.groupby(col)['rubm2'].transform('mean')"
   ]
  },
  {
   "cell_type": "code",
   "execution_count": null,
   "metadata": {},
   "outputs": [],
   "source": []
  },
  {
   "cell_type": "code",
   "execution_count": 22,
   "metadata": {},
   "outputs": [
    {
     "name": "stderr",
     "output_type": "stream",
     "text": [
      "100%|██████████| 10/10 [00:23<00:00,  2.38s/it]\n"
     ]
    }
   ],
   "source": [
    "v2 = check_model_prefomance(data_v3.select_dtypes(exclude='O'),LGBMRegressor(n_estimators=1000))"
   ]
  },
  {
   "cell_type": "code",
   "execution_count": 23,
   "metadata": {},
   "outputs": [
    {
     "data": {
      "text/html": [
       "<div>\n",
       "<style scoped>\n",
       "    .dataframe tbody tr th:only-of-type {\n",
       "        vertical-align: middle;\n",
       "    }\n",
       "\n",
       "    .dataframe tbody tr th {\n",
       "        vertical-align: top;\n",
       "    }\n",
       "\n",
       "    .dataframe thead th {\n",
       "        text-align: right;\n",
       "    }\n",
       "</style>\n",
       "<table border=\"1\" class=\"dataframe\">\n",
       "  <thead>\n",
       "    <tr style=\"text-align: right;\">\n",
       "      <th></th>\n",
       "      <th>mape</th>\n",
       "      <th>rmse</th>\n",
       "      <th>mae</th>\n",
       "    </tr>\n",
       "  </thead>\n",
       "  <tbody>\n",
       "    <tr>\n",
       "      <th>mean</th>\n",
       "      <td>0.073518</td>\n",
       "      <td>37174.366636</td>\n",
       "      <td>22188.700572</td>\n",
       "    </tr>\n",
       "    <tr>\n",
       "      <th>std</th>\n",
       "      <td>0.004141</td>\n",
       "      <td>3836.841698</td>\n",
       "      <td>743.613441</td>\n",
       "    </tr>\n",
       "  </tbody>\n",
       "</table>\n",
       "</div>"
      ],
      "text/plain": [
       "          mape          rmse           mae\n",
       "mean  0.073518  37174.366636  22188.700572\n",
       "std   0.004141   3836.841698    743.613441"
      ]
     },
     "execution_count": 23,
     "metadata": {},
     "output_type": "execute_result"
    }
   ],
   "source": [
    "baza - v2"
   ]
  },
  {
   "cell_type": "code",
   "execution_count": 24,
   "metadata": {},
   "outputs": [
    {
     "data": {
      "text/html": [
       "<div>\n",
       "<style scoped>\n",
       "    .dataframe tbody tr th:only-of-type {\n",
       "        vertical-align: middle;\n",
       "    }\n",
       "\n",
       "    .dataframe tbody tr th {\n",
       "        vertical-align: top;\n",
       "    }\n",
       "\n",
       "    .dataframe thead th {\n",
       "        text-align: right;\n",
       "    }\n",
       "</style>\n",
       "<table border=\"1\" class=\"dataframe\">\n",
       "  <thead>\n",
       "    <tr style=\"text-align: right;\">\n",
       "      <th></th>\n",
       "      <th>mape</th>\n",
       "      <th>rmse</th>\n",
       "      <th>mae</th>\n",
       "    </tr>\n",
       "  </thead>\n",
       "  <tbody>\n",
       "    <tr>\n",
       "      <th>mean</th>\n",
       "      <td>0.055881</td>\n",
       "      <td>31430.460646</td>\n",
       "      <td>16737.245543</td>\n",
       "    </tr>\n",
       "    <tr>\n",
       "      <th>std</th>\n",
       "      <td>0.005201</td>\n",
       "      <td>2763.839450</td>\n",
       "      <td>277.072715</td>\n",
       "    </tr>\n",
       "  </tbody>\n",
       "</table>\n",
       "</div>"
      ],
      "text/plain": [
       "          mape          rmse           mae\n",
       "mean  0.055881  31430.460646  16737.245543\n",
       "std   0.005201   2763.839450    277.072715"
      ]
     },
     "execution_count": 24,
     "metadata": {},
     "output_type": "execute_result"
    }
   ],
   "source": [
    "v1 - v2"
   ]
  },
  {
   "cell_type": "code",
   "execution_count": 25,
   "metadata": {},
   "outputs": [
    {
     "data": {
      "text/html": [
       "<div>\n",
       "<style scoped>\n",
       "    .dataframe tbody tr th:only-of-type {\n",
       "        vertical-align: middle;\n",
       "    }\n",
       "\n",
       "    .dataframe tbody tr th {\n",
       "        vertical-align: top;\n",
       "    }\n",
       "\n",
       "    .dataframe thead th {\n",
       "        text-align: right;\n",
       "    }\n",
       "</style>\n",
       "<table border=\"1\" class=\"dataframe\">\n",
       "  <thead>\n",
       "    <tr style=\"text-align: right;\">\n",
       "      <th></th>\n",
       "      <th>mape</th>\n",
       "      <th>rmse</th>\n",
       "      <th>mae</th>\n",
       "    </tr>\n",
       "  </thead>\n",
       "  <tbody>\n",
       "    <tr>\n",
       "      <th>mean</th>\n",
       "      <td>0.109988</td>\n",
       "      <td>64021.479294</td>\n",
       "      <td>36052.266201</td>\n",
       "    </tr>\n",
       "    <tr>\n",
       "      <th>std</th>\n",
       "      <td>0.004362</td>\n",
       "      <td>1665.018721</td>\n",
       "      <td>609.554241</td>\n",
       "    </tr>\n",
       "  </tbody>\n",
       "</table>\n",
       "</div>"
      ],
      "text/plain": [
       "          mape          rmse           mae\n",
       "mean  0.109988  64021.479294  36052.266201\n",
       "std   0.004362   1665.018721    609.554241"
      ]
     },
     "execution_count": 25,
     "metadata": {},
     "output_type": "execute_result"
    }
   ],
   "source": [
    "v2"
   ]
  },
  {
   "cell_type": "code",
   "execution_count": 26,
   "metadata": {},
   "outputs": [],
   "source": [
    "x,xv,y,yv = model_selection.train_test_split(data_v3.drop('rubm2',axis=1),data_v3['rubm2'],train_size=.75)"
   ]
  },
  {
   "cell_type": "code",
   "execution_count": 27,
   "metadata": {},
   "outputs": [],
   "source": [
    "model_v2 = CatBoostRegressor(5000)"
   ]
  },
  {
   "cell_type": "code",
   "execution_count": 28,
   "metadata": {},
   "outputs": [
    {
     "name": "stdout",
     "output_type": "stream",
     "text": [
      "Learning rate set to 0.014888\n",
      "0:\tlearn: 160259.6315282\ttotal: 53.9ms\tremaining: 4m 29s\n",
      "500:\tlearn: 57639.6864678\ttotal: 1.03s\tremaining: 9.25s\n",
      "1000:\tlearn: 50529.5965972\ttotal: 2.01s\tremaining: 8.04s\n",
      "1500:\tlearn: 45936.8764215\ttotal: 2.94s\tremaining: 6.84s\n",
      "2000:\tlearn: 42084.1926073\ttotal: 3.85s\tremaining: 5.77s\n",
      "2500:\tlearn: 39292.5721386\ttotal: 4.81s\tremaining: 4.81s\n",
      "3000:\tlearn: 36910.8612430\ttotal: 5.74s\tremaining: 3.82s\n",
      "3500:\tlearn: 34750.0994630\ttotal: 6.66s\tremaining: 2.85s\n",
      "4000:\tlearn: 32910.1570361\ttotal: 7.59s\tremaining: 1.9s\n",
      "4500:\tlearn: 31197.0638471\ttotal: 8.56s\tremaining: 950ms\n",
      "4999:\tlearn: 29706.2134125\ttotal: 9.58s\tremaining: 0us\n"
     ]
    },
    {
     "data": {
      "text/plain": [
       "<catboost.core.CatBoostRegressor at 0x7fe8b7148460>"
      ]
     },
     "execution_count": 28,
     "metadata": {},
     "output_type": "execute_result"
    }
   ],
   "source": [
    "model_v2.fit(x,y,verbose=500)"
   ]
  },
  {
   "cell_type": "code",
   "execution_count": 29,
   "metadata": {},
   "outputs": [
    {
     "data": {
      "text/plain": [
       "0.10212955142984914"
      ]
     },
     "execution_count": 29,
     "metadata": {},
     "output_type": "execute_result"
    }
   ],
   "source": [
    "best_score = metrics.mean_absolute_percentage_error(yv,model_v2.predict(xv))\n",
    "best_score"
   ]
  },
  {
   "cell_type": "code",
   "execution_count": 30,
   "metadata": {},
   "outputs": [
    {
     "data": {
      "text/plain": [
       "Электроснабжение                                              0.020161\n",
       "Тип_поквартирной_разводки_внутридомовой_системы_отопления     0.026068\n",
       "Водоотведение                                                 0.034870\n",
       "Состояние_дома                                                0.040441\n",
       "Тип_системы_водоотведения                                     0.043234\n",
       "                                                               ...    \n",
       "Метро                                                         3.317067\n",
       "m2                                                            5.899749\n",
       "Район                                                         8.251873\n",
       "Дом                                                           8.519775\n",
       "Улица                                                        45.283886\n",
       "Length: 84, dtype: float64"
      ]
     },
     "execution_count": 30,
     "metadata": {},
     "output_type": "execute_result"
    }
   ],
   "source": [
    "pd.Series(model_v2.feature_importances_,model_v2.feature_names_).sort_values()"
   ]
  },
  {
   "attachments": {},
   "cell_type": "markdown",
   "metadata": {},
   "source": [
    "# v3 normalize"
   ]
  },
  {
   "cell_type": "code",
   "execution_count": 31,
   "metadata": {},
   "outputs": [],
   "source": [
    "from sklearn import preprocessing\n",
    "\n",
    "ss = preprocessing.StandardScaler()"
   ]
  },
  {
   "cell_type": "code",
   "execution_count": 32,
   "metadata": {},
   "outputs": [],
   "source": [
    "data_v4 = data_v3.apply(lambda x: ss.fit_transform(x.to_frame()).ravel() if ((x.nunique()>2 ) & (x.name != 'rubm2')) else x).copy()"
   ]
  },
  {
   "cell_type": "code",
   "execution_count": 33,
   "metadata": {},
   "outputs": [
    {
     "name": "stderr",
     "output_type": "stream",
     "text": [
      "100%|██████████| 10/10 [00:25<00:00,  2.50s/it]\n"
     ]
    }
   ],
   "source": [
    "v2_normalize = check_model_prefomance(data_v4,LGBMRegressor(n_estimators=1000))"
   ]
  },
  {
   "cell_type": "code",
   "execution_count": 34,
   "metadata": {},
   "outputs": [
    {
     "data": {
      "text/html": [
       "<div>\n",
       "<style scoped>\n",
       "    .dataframe tbody tr th:only-of-type {\n",
       "        vertical-align: middle;\n",
       "    }\n",
       "\n",
       "    .dataframe tbody tr th {\n",
       "        vertical-align: top;\n",
       "    }\n",
       "\n",
       "    .dataframe thead th {\n",
       "        text-align: right;\n",
       "    }\n",
       "</style>\n",
       "<table border=\"1\" class=\"dataframe\">\n",
       "  <thead>\n",
       "    <tr style=\"text-align: right;\">\n",
       "      <th></th>\n",
       "      <th>mape</th>\n",
       "      <th>rmse</th>\n",
       "      <th>mae</th>\n",
       "    </tr>\n",
       "  </thead>\n",
       "  <tbody>\n",
       "    <tr>\n",
       "      <th>mean</th>\n",
       "      <td>0.000242</td>\n",
       "      <td>-891.213703</td>\n",
       "      <td>56.086316</td>\n",
       "    </tr>\n",
       "    <tr>\n",
       "      <th>std</th>\n",
       "      <td>-0.000459</td>\n",
       "      <td>-113.598543</td>\n",
       "      <td>71.179734</td>\n",
       "    </tr>\n",
       "  </tbody>\n",
       "</table>\n",
       "</div>"
      ],
      "text/plain": [
       "          mape        rmse        mae\n",
       "mean  0.000242 -891.213703  56.086316\n",
       "std  -0.000459 -113.598543  71.179734"
      ]
     },
     "execution_count": 34,
     "metadata": {},
     "output_type": "execute_result"
    }
   ],
   "source": [
    "v2 - v2_normalize"
   ]
  },
  {
   "cell_type": "code",
   "execution_count": null,
   "metadata": {},
   "outputs": [],
   "source": []
  },
  {
   "attachments": {},
   "cell_type": "markdown",
   "metadata": {},
   "source": [
    "# target_transform"
   ]
  },
  {
   "cell_type": "code",
   "execution_count": 35,
   "metadata": {},
   "outputs": [],
   "source": [
    "data_v5 = data_v3.copy().query('rubm2 < rubm2.quantile(.9)')"
   ]
  },
  {
   "cell_type": "code",
   "execution_count": null,
   "metadata": {},
   "outputs": [],
   "source": []
  },
  {
   "cell_type": "code",
   "execution_count": 36,
   "metadata": {},
   "outputs": [
    {
     "name": "stderr",
     "output_type": "stream",
     "text": [
      "100%|██████████| 10/10 [00:17<00:00,  1.74s/it]\n"
     ]
    }
   ],
   "source": [
    "v3_normalize = check_model_prefomance(data_v5,LGBMRegressor(n_estimators=1000))"
   ]
  },
  {
   "cell_type": "code",
   "execution_count": 37,
   "metadata": {},
   "outputs": [
    {
     "data": {
      "text/html": [
       "<div>\n",
       "<style scoped>\n",
       "    .dataframe tbody tr th:only-of-type {\n",
       "        vertical-align: middle;\n",
       "    }\n",
       "\n",
       "    .dataframe tbody tr th {\n",
       "        vertical-align: top;\n",
       "    }\n",
       "\n",
       "    .dataframe thead th {\n",
       "        text-align: right;\n",
       "    }\n",
       "</style>\n",
       "<table border=\"1\" class=\"dataframe\">\n",
       "  <thead>\n",
       "    <tr style=\"text-align: right;\">\n",
       "      <th></th>\n",
       "      <th>mape</th>\n",
       "      <th>rmse</th>\n",
       "      <th>mae</th>\n",
       "    </tr>\n",
       "  </thead>\n",
       "  <tbody>\n",
       "    <tr>\n",
       "      <th>mean</th>\n",
       "      <td>0.013700</td>\n",
       "      <td>27570.442589</td>\n",
       "      <td>10370.343454</td>\n",
       "    </tr>\n",
       "    <tr>\n",
       "      <th>std</th>\n",
       "      <td>-0.001744</td>\n",
       "      <td>420.272865</td>\n",
       "      <td>62.156338</td>\n",
       "    </tr>\n",
       "  </tbody>\n",
       "</table>\n",
       "</div>"
      ],
      "text/plain": [
       "          mape          rmse           mae\n",
       "mean  0.013700  27570.442589  10370.343454\n",
       "std  -0.001744    420.272865     62.156338"
      ]
     },
     "execution_count": 37,
     "metadata": {},
     "output_type": "execute_result"
    }
   ],
   "source": [
    "v2 - v3_normalize"
   ]
  },
  {
   "cell_type": "code",
   "execution_count": 38,
   "metadata": {},
   "outputs": [
    {
     "data": {
      "text/html": [
       "<div>\n",
       "<style scoped>\n",
       "    .dataframe tbody tr th:only-of-type {\n",
       "        vertical-align: middle;\n",
       "    }\n",
       "\n",
       "    .dataframe tbody tr th {\n",
       "        vertical-align: top;\n",
       "    }\n",
       "\n",
       "    .dataframe thead th {\n",
       "        text-align: right;\n",
       "    }\n",
       "</style>\n",
       "<table border=\"1\" class=\"dataframe\">\n",
       "  <thead>\n",
       "    <tr style=\"text-align: right;\">\n",
       "      <th></th>\n",
       "      <th>mape</th>\n",
       "      <th>rmse</th>\n",
       "      <th>mae</th>\n",
       "    </tr>\n",
       "  </thead>\n",
       "  <tbody>\n",
       "    <tr>\n",
       "      <th>mean</th>\n",
       "      <td>0.096287</td>\n",
       "      <td>36451.036705</td>\n",
       "      <td>25681.922747</td>\n",
       "    </tr>\n",
       "    <tr>\n",
       "      <th>std</th>\n",
       "      <td>0.006106</td>\n",
       "      <td>1244.745856</td>\n",
       "      <td>547.397903</td>\n",
       "    </tr>\n",
       "  </tbody>\n",
       "</table>\n",
       "</div>"
      ],
      "text/plain": [
       "          mape          rmse           mae\n",
       "mean  0.096287  36451.036705  25681.922747\n",
       "std   0.006106   1244.745856    547.397903"
      ]
     },
     "execution_count": 38,
     "metadata": {},
     "output_type": "execute_result"
    }
   ],
   "source": [
    "v3_normalize"
   ]
  },
  {
   "attachments": {},
   "cell_type": "markdown",
   "metadata": {},
   "source": [
    "# drop street"
   ]
  },
  {
   "cell_type": "code",
   "execution_count": 43,
   "metadata": {},
   "outputs": [],
   "source": [
    "data_v5_2 = data_v3.copy().query('rubm2 < rubm2.quantile(.9)').drop(['Улица'],axis=1)"
   ]
  },
  {
   "cell_type": "code",
   "execution_count": 44,
   "metadata": {},
   "outputs": [
    {
     "name": "stderr",
     "output_type": "stream",
     "text": [
      "100%|██████████| 10/10 [00:22<00:00,  2.22s/it]\n"
     ]
    }
   ],
   "source": [
    "v4_normalize = check_model_prefomance(data_v5_2,LGBMRegressor(n_estimators=1000))"
   ]
  },
  {
   "cell_type": "code",
   "execution_count": 45,
   "metadata": {},
   "outputs": [
    {
     "data": {
      "text/html": [
       "<div>\n",
       "<style scoped>\n",
       "    .dataframe tbody tr th:only-of-type {\n",
       "        vertical-align: middle;\n",
       "    }\n",
       "\n",
       "    .dataframe tbody tr th {\n",
       "        vertical-align: top;\n",
       "    }\n",
       "\n",
       "    .dataframe thead th {\n",
       "        text-align: right;\n",
       "    }\n",
       "</style>\n",
       "<table border=\"1\" class=\"dataframe\">\n",
       "  <thead>\n",
       "    <tr style=\"text-align: right;\">\n",
       "      <th></th>\n",
       "      <th>mape</th>\n",
       "      <th>rmse</th>\n",
       "      <th>mae</th>\n",
       "    </tr>\n",
       "  </thead>\n",
       "  <tbody>\n",
       "    <tr>\n",
       "      <th>mean</th>\n",
       "      <td>0.101337</td>\n",
       "      <td>37965.509980</td>\n",
       "      <td>27011.771522</td>\n",
       "    </tr>\n",
       "    <tr>\n",
       "      <th>std</th>\n",
       "      <td>0.006682</td>\n",
       "      <td>1466.030445</td>\n",
       "      <td>738.072221</td>\n",
       "    </tr>\n",
       "  </tbody>\n",
       "</table>\n",
       "</div>"
      ],
      "text/plain": [
       "          mape          rmse           mae\n",
       "mean  0.101337  37965.509980  27011.771522\n",
       "std   0.006682   1466.030445    738.072221"
      ]
     },
     "execution_count": 45,
     "metadata": {},
     "output_type": "execute_result"
    }
   ],
   "source": [
    "v4_normalize"
   ]
  },
  {
   "attachments": {},
   "cell_type": "markdown",
   "metadata": {},
   "source": [
    "# Result"
   ]
  },
  {
   "cell_type": "code",
   "execution_count": 39,
   "metadata": {},
   "outputs": [],
   "source": [
    "x,xv,y,yv = model_selection.train_test_split(data_v5.drop('rubm2',axis=1),data_v5['rubm2'],train_size=.75,random_state=1434)"
   ]
  },
  {
   "cell_type": "code",
   "execution_count": 40,
   "metadata": {},
   "outputs": [
    {
     "name": "stdout",
     "output_type": "stream",
     "text": [
      "0:\tlearn: 0.2008186\ttest: 0.1954780\tbest: 0.1954780 (0)\ttotal: 2.01ms\tremaining: 10s\n",
      "500:\tlearn: 0.0850476\ttest: 0.0938041\tbest: 0.0938041 (500)\ttotal: 1.05s\tremaining: 9.47s\n",
      "1000:\tlearn: 0.0737272\ttest: 0.0913878\tbest: 0.0913838 (999)\ttotal: 2.08s\tremaining: 8.3s\n",
      "1500:\tlearn: 0.0669547\ttest: 0.0906712\tbest: 0.0906681 (1493)\ttotal: 3.11s\tremaining: 7.25s\n",
      "2000:\tlearn: 0.0620129\ttest: 0.0903342\tbest: 0.0903331 (1999)\ttotal: 4.15s\tremaining: 6.22s\n",
      "2500:\tlearn: 0.0584406\ttest: 0.0901302\tbest: 0.0901302 (2500)\ttotal: 5.18s\tremaining: 5.17s\n",
      "3000:\tlearn: 0.0559619\ttest: 0.0900653\tbest: 0.0900554 (2979)\ttotal: 6.22s\tremaining: 4.14s\n",
      "3500:\tlearn: 0.0539515\ttest: 0.0899389\tbest: 0.0899389 (3500)\ttotal: 7.38s\tremaining: 3.16s\n",
      "4000:\tlearn: 0.0521960\ttest: 0.0898679\tbest: 0.0898543 (3735)\ttotal: 8.51s\tremaining: 2.12s\n",
      "4500:\tlearn: 0.0506545\ttest: 0.0897371\tbest: 0.0897361 (4497)\ttotal: 9.65s\tremaining: 1.07s\n",
      "4999:\tlearn: 0.0493750\ttest: 0.0897016\tbest: 0.0896886 (4942)\ttotal: 10.6s\tremaining: 0us\n",
      "\n",
      "bestTest = 0.08968855286\n",
      "bestIteration = 4942\n",
      "\n",
      "Shrink model to first 4943 iterations.\n"
     ]
    },
    {
     "data": {
      "text/plain": [
       "0.08968855372694919"
      ]
     },
     "execution_count": 40,
     "metadata": {},
     "output_type": "execute_result"
    }
   ],
   "source": [
    "\n",
    "model_cat = CatBoostRegressor(5000,loss_function='MAE',eval_metric='MAPE',early_stopping_rounds=500,use_best_model=True)\n",
    "model_cat.fit(x,y,verbose=500,eval_set=(xv,yv))\n",
    "best_score = metrics.mean_absolute_percentage_error(yv,model_cat.predict(xv))\n",
    "best_score"
   ]
  },
  {
   "cell_type": "code",
   "execution_count": 41,
   "metadata": {},
   "outputs": [
    {
     "name": "stdout",
     "output_type": "stream",
     "text": [
      "[200]\tvalid_0's mape: 0.0936945\tvalid_0's l1: 28567.9\n",
      "[400]\tvalid_0's mape: 0.0875949\tvalid_0's l1: 25812.3\n",
      "[600]\tvalid_0's mape: 0.0889957\tvalid_0's l1: 26607.8\n",
      "[800]\tvalid_0's mape: 0.0878961\tvalid_0's l1: 26155.2\n",
      "[1000]\tvalid_0's mape: 0.0871202\tvalid_0's l1: 25718.4\n",
      "[1200]\tvalid_0's mape: 0.0873972\tvalid_0's l1: 25807\n",
      "[1400]\tvalid_0's mape: 0.0870226\tvalid_0's l1: 25556.5\n",
      "[1600]\tvalid_0's mape: 0.0868282\tvalid_0's l1: 25435\n",
      "[1800]\tvalid_0's mape: 0.0871802\tvalid_0's l1: 25689.1\n",
      "[2000]\tvalid_0's mape: 0.0866116\tvalid_0's l1: 25428.5\n",
      "[2200]\tvalid_0's mape: 0.0865148\tvalid_0's l1: 25307.6\n",
      "[2400]\tvalid_0's mape: 0.086484\tvalid_0's l1: 25304\n",
      "[2600]\tvalid_0's mape: 0.0863612\tvalid_0's l1: 25269.3\n",
      "[2800]\tvalid_0's mape: 0.0865145\tvalid_0's l1: 25310.5\n",
      "[3000]\tvalid_0's mape: 0.0861232\tvalid_0's l1: 25150.5\n",
      "[3200]\tvalid_0's mape: 0.0861807\tvalid_0's l1: 25204.8\n",
      "[3400]\tvalid_0's mape: 0.0860867\tvalid_0's l1: 25083.8\n",
      "[3600]\tvalid_0's mape: 0.0861195\tvalid_0's l1: 25101.6\n",
      "[3800]\tvalid_0's mape: 0.086091\tvalid_0's l1: 25065.1\n",
      "[4000]\tvalid_0's mape: 0.086206\tvalid_0's l1: 25141.5\n",
      "[4200]\tvalid_0's mape: 0.0860002\tvalid_0's l1: 25050.1\n",
      "[4400]\tvalid_0's mape: 0.0859971\tvalid_0's l1: 25054.4\n",
      "[4600]\tvalid_0's mape: 0.0859665\tvalid_0's l1: 25050.3\n",
      "[4800]\tvalid_0's mape: 0.085985\tvalid_0's l1: 25025.5\n",
      "[5000]\tvalid_0's mape: 0.085986\tvalid_0's l1: 24987.1\n"
     ]
    },
    {
     "data": {
      "text/plain": [
       "0.08598600173930403"
      ]
     },
     "execution_count": 41,
     "metadata": {},
     "output_type": "execute_result"
    }
   ],
   "source": [
    "\n",
    "model_l = LGBMRegressor(n_estimators=5000,\n",
    "                        learning_rate=.11,\n",
    "                        objective = 'mae',\n",
    "                        boosting_type='dart')\n",
    "\n",
    "model_l.fit(x,y,eval_set =(xv,yv),verbose=200,eval_metric='mape')\n",
    "best_score = metrics.mean_absolute_percentage_error(yv,model_l.predict(xv))\n",
    "best_score"
   ]
  },
  {
   "cell_type": "code",
   "execution_count": null,
   "metadata": {},
   "outputs": [],
   "source": []
  }
 ],
 "metadata": {
  "kernelspec": {
   "display_name": "mlopsini-xAkA-eId-py3.8",
   "language": "python",
   "name": "python3"
  },
  "language_info": {
   "codemirror_mode": {
    "name": "ipython",
    "version": 3
   },
   "file_extension": ".py",
   "mimetype": "text/x-python",
   "name": "python",
   "nbconvert_exporter": "python",
   "pygments_lexer": "ipython3",
   "version": "3.8.10"
  },
  "orig_nbformat": 4
 },
 "nbformat": 4,
 "nbformat_minor": 2
}
