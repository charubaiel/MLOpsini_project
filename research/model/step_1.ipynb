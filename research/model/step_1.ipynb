{
 "cells": [
  {
   "cell_type": "code",
   "execution_count": 32,
   "metadata": {},
   "outputs": [],
   "source": [
    "import pandas as pd\n",
    "from sklearn import metrics,model_selection\n",
    "from catboost import CatBoostRegressor\n",
    "from tqdm import tqdm\n",
    "from lightgbm import LGBMRegressor"
   ]
  },
  {
   "cell_type": "code",
   "execution_count": 16,
   "metadata": {},
   "outputs": [],
   "source": [
    "import matplotlib.pyplot as plt\n",
    "plt.style.use('ggplot')"
   ]
  },
  {
   "cell_type": "code",
   "execution_count": 183,
   "metadata": {},
   "outputs": [],
   "source": [
    "df = pd.read_parquet('../../data/sample_data.parquet').dropna(subset='rubm2')\n",
    "df = df.drop(['datetime','publish_delta','url','id','text','Город','title','price','img_list','metro_branch','metro_name','metro_dist'],axis=1)"
   ]
  },
  {
   "cell_type": "code",
   "execution_count": 185,
   "metadata": {},
   "outputs": [
    {
     "data": {
      "text/plain": [
       "285714.28571428574"
      ]
     },
     "execution_count": 185,
     "metadata": {},
     "output_type": "execute_result"
    }
   ],
   "source": [
    "df['rubm2'].median()"
   ]
  },
  {
   "cell_type": "code",
   "execution_count": 186,
   "metadata": {},
   "outputs": [],
   "source": [
    "\n",
    "df['postcode'] = df['postcode'].explode().astype(float).groupby(level=0).mean()"
   ]
  },
  {
   "cell_type": "code",
   "execution_count": 187,
   "metadata": {},
   "outputs": [],
   "source": [
    "df['is_apart'] = df['rooms'].str.contains('апарт')"
   ]
  },
  {
   "cell_type": "code",
   "execution_count": 188,
   "metadata": {},
   "outputs": [],
   "source": [
    "df['rooms'] = df['rooms'].str.extract('(\\d+)').iloc[:,0]"
   ]
  },
  {
   "cell_type": "code",
   "execution_count": 189,
   "metadata": {},
   "outputs": [],
   "source": [
    "def check_model_prefomance(dataset:pd.DataFrame,model):\n",
    "\n",
    "    \n",
    "    folds = model_selection.RepeatedKFold(n_splits= 5,n_repeats= 3,random_state=11)\n",
    "    model_selection.ShuffleSplit()\n",
    "    X = dataset.drop('rubm2',axis=1)\n",
    "    Y = dataset['rubm2']\n",
    "\n",
    "    result = []\n",
    "\n",
    "    for train_idx,test_idx in tqdm(folds.split(dataset),total=15):\n",
    "\n",
    "        _metrics = {}\n",
    "\n",
    "        x,y = X.iloc[train_idx] , Y.iloc[train_idx]\n",
    "        xv,yv = X.iloc[test_idx] , Y.iloc[test_idx]\n",
    "\n",
    "        model.fit(x,y)\n",
    "        yhat = model.predict(xv)\n",
    "\n",
    "        _metrics.update({'mape': metrics.mean_absolute_percentage_error(yv, yhat)\n",
    "        })\n",
    "\n",
    "        _metrics.update({'rmse': metrics.mean_squared_error(yv, yhat)**.5})\n",
    "        \n",
    "        _metrics.update({'mae': metrics.mean_absolute_error(yv, yhat)})\n",
    "\n",
    "        result.append(_metrics)\n",
    "        \n",
    "    return pd.DataFrame(result).agg(['mean','std'])\n",
    "\n"
   ]
  },
  {
   "cell_type": "code",
   "execution_count": 190,
   "metadata": {},
   "outputs": [
    {
     "name": "stderr",
     "output_type": "stream",
     "text": [
      "100%|██████████| 15/15 [00:27<00:00,  1.81s/it]\n"
     ]
    }
   ],
   "source": [
    "baza = check_model_prefomance(df.select_dtypes(exclude='O'),LGBMRegressor(n_estimators=1000))"
   ]
  },
  {
   "cell_type": "code",
   "execution_count": 191,
   "metadata": {},
   "outputs": [
    {
     "data": {
      "text/html": [
       "<div>\n",
       "<style scoped>\n",
       "    .dataframe tbody tr th:only-of-type {\n",
       "        vertical-align: middle;\n",
       "    }\n",
       "\n",
       "    .dataframe tbody tr th {\n",
       "        vertical-align: top;\n",
       "    }\n",
       "\n",
       "    .dataframe thead th {\n",
       "        text-align: right;\n",
       "    }\n",
       "</style>\n",
       "<table border=\"1\" class=\"dataframe\">\n",
       "  <thead>\n",
       "    <tr style=\"text-align: right;\">\n",
       "      <th></th>\n",
       "      <th>mape</th>\n",
       "      <th>rmse</th>\n",
       "      <th>mae</th>\n",
       "    </tr>\n",
       "  </thead>\n",
       "  <tbody>\n",
       "    <tr>\n",
       "      <th>mean</th>\n",
       "      <td>0.180717</td>\n",
       "      <td>101697.154452</td>\n",
       "      <td>57552.431150</td>\n",
       "    </tr>\n",
       "    <tr>\n",
       "      <th>std</th>\n",
       "      <td>0.006253</td>\n",
       "      <td>8726.356840</td>\n",
       "      <td>2221.132673</td>\n",
       "    </tr>\n",
       "  </tbody>\n",
       "</table>\n",
       "</div>"
      ],
      "text/plain": [
       "          mape           rmse           mae\n",
       "mean  0.180717  101697.154452  57552.431150\n",
       "std   0.006253    8726.356840   2221.132673"
      ]
     },
     "execution_count": 191,
     "metadata": {},
     "output_type": "execute_result"
    }
   ],
   "source": [
    "baza"
   ]
  },
  {
   "attachments": {},
   "cell_type": "markdown",
   "metadata": {},
   "source": [
    "# baseline v1"
   ]
  },
  {
   "cell_type": "code",
   "execution_count": 192,
   "metadata": {},
   "outputs": [],
   "source": [
    "base_data = df.copy()"
   ]
  },
  {
   "cell_type": "code",
   "execution_count": 193,
   "metadata": {},
   "outputs": [],
   "source": [
    "advace_data = pd.json_normalize(base_data['advanced_home_info'].apply(lambda x: pd.DataFrame(x).set_index('key')['value'].to_dict()))"
   ]
  },
  {
   "cell_type": "code",
   "execution_count": 194,
   "metadata": {},
   "outputs": [],
   "source": [
    "advanced_data = advace_data.dropna(thresh=advace_data.shape[0]*.5,axis=1)"
   ]
  },
  {
   "cell_type": "code",
   "execution_count": 195,
   "metadata": {},
   "outputs": [
    {
     "name": "stderr",
     "output_type": "stream",
     "text": [
      "/tmp/ipykernel_26694/2414153728.py:1: SettingWithCopyWarning: \n",
      "A value is trying to be set on a copy of a slice from a DataFrame.\n",
      "Try using .loc[row_indexer,col_indexer] = value instead\n",
      "\n",
      "See the caveats in the documentation: https://pandas.pydata.org/pandas-docs/stable/user_guide/indexing.html#returning-a-view-versus-a-copy\n",
      "  advanced_data['age'] = (advanced_data['Год_ввода_в_эксплуатацию'].astype(float) - 2023).abs().where(lambda x: x<100)\n"
     ]
    }
   ],
   "source": [
    "advanced_data['age'] = (advanced_data['Год_ввода_в_эксплуатацию'].astype(float) - 2023).abs().where(lambda x: x<100)"
   ]
  },
  {
   "cell_type": "code",
   "execution_count": 196,
   "metadata": {},
   "outputs": [],
   "source": [
    "clean_advanced_data = advanced_data.apply(pd.to_numeric,errors='ignore',downcast='unsigned')"
   ]
  },
  {
   "cell_type": "code",
   "execution_count": 197,
   "metadata": {},
   "outputs": [],
   "source": [
    "data_v2 = base_data.drop('advanced_home_info',axis=1).reset_index(drop=True)\\\n",
    "                    .join(clean_advanced_data).rename(columns= lambda x: x.replace(',','_'))\\\n",
    "                        .drop('jkh_url',axis=1)"
   ]
  },
  {
   "cell_type": "code",
   "execution_count": 198,
   "metadata": {},
   "outputs": [
    {
     "name": "stderr",
     "output_type": "stream",
     "text": [
      "100%|██████████| 15/15 [00:46<00:00,  3.10s/it]\n"
     ]
    }
   ],
   "source": [
    "v1 = check_model_prefomance(data_v2.select_dtypes(exclude='O'),LGBMRegressor(n_estimators=1000))"
   ]
  },
  {
   "cell_type": "code",
   "execution_count": 199,
   "metadata": {},
   "outputs": [
    {
     "data": {
      "text/html": [
       "<div>\n",
       "<style scoped>\n",
       "    .dataframe tbody tr th:only-of-type {\n",
       "        vertical-align: middle;\n",
       "    }\n",
       "\n",
       "    .dataframe tbody tr th {\n",
       "        vertical-align: top;\n",
       "    }\n",
       "\n",
       "    .dataframe thead th {\n",
       "        text-align: right;\n",
       "    }\n",
       "</style>\n",
       "<table border=\"1\" class=\"dataframe\">\n",
       "  <thead>\n",
       "    <tr style=\"text-align: right;\">\n",
       "      <th></th>\n",
       "      <th>mape</th>\n",
       "      <th>rmse</th>\n",
       "      <th>mae</th>\n",
       "    </tr>\n",
       "  </thead>\n",
       "  <tbody>\n",
       "    <tr>\n",
       "      <th>mean</th>\n",
       "      <td>0.020076</td>\n",
       "      <td>6971.250805</td>\n",
       "      <td>6500.354192</td>\n",
       "    </tr>\n",
       "    <tr>\n",
       "      <th>std</th>\n",
       "      <td>-0.002857</td>\n",
       "      <td>527.235718</td>\n",
       "      <td>216.847716</td>\n",
       "    </tr>\n",
       "  </tbody>\n",
       "</table>\n",
       "</div>"
      ],
      "text/plain": [
       "          mape         rmse          mae\n",
       "mean  0.020076  6971.250805  6500.354192\n",
       "std  -0.002857   527.235718   216.847716"
      ]
     },
     "execution_count": 199,
     "metadata": {},
     "output_type": "execute_result"
    }
   ],
   "source": [
    "baza - v1"
   ]
  },
  {
   "attachments": {},
   "cell_type": "markdown",
   "metadata": {},
   "source": [
    "# target_encoding"
   ]
  },
  {
   "cell_type": "code",
   "execution_count": 200,
   "metadata": {},
   "outputs": [],
   "source": [
    "data_v3 = data_v2.copy()"
   ]
  },
  {
   "cell_type": "code",
   "execution_count": 201,
   "metadata": {},
   "outputs": [
    {
     "name": "stderr",
     "output_type": "stream",
     "text": [
      "/tmp/ipykernel_26694/181838561.py:2: DeprecationWarning: In a future version, `df.iloc[:, i] = newvals` will attempt to set the values inplace instead of always setting a new array. To retain the old behavior, use either `df[df.columns[i]] = newvals` or, if columns are non-unique, `df.isetitem(i, newvals)`\n",
      "  data_v3.loc[:,col] = data_v3.groupby(col)['rubm2'].transform('mean')\n",
      "/tmp/ipykernel_26694/181838561.py:2: DeprecationWarning: In a future version, `df.iloc[:, i] = newvals` will attempt to set the values inplace instead of always setting a new array. To retain the old behavior, use either `df[df.columns[i]] = newvals` or, if columns are non-unique, `df.isetitem(i, newvals)`\n",
      "  data_v3.loc[:,col] = data_v3.groupby(col)['rubm2'].transform('mean')\n",
      "/tmp/ipykernel_26694/181838561.py:2: DeprecationWarning: In a future version, `df.iloc[:, i] = newvals` will attempt to set the values inplace instead of always setting a new array. To retain the old behavior, use either `df[df.columns[i]] = newvals` or, if columns are non-unique, `df.isetitem(i, newvals)`\n",
      "  data_v3.loc[:,col] = data_v3.groupby(col)['rubm2'].transform('mean')\n",
      "/tmp/ipykernel_26694/181838561.py:2: DeprecationWarning: In a future version, `df.iloc[:, i] = newvals` will attempt to set the values inplace instead of always setting a new array. To retain the old behavior, use either `df[df.columns[i]] = newvals` or, if columns are non-unique, `df.isetitem(i, newvals)`\n",
      "  data_v3.loc[:,col] = data_v3.groupby(col)['rubm2'].transform('mean')\n",
      "/tmp/ipykernel_26694/181838561.py:2: DeprecationWarning: In a future version, `df.iloc[:, i] = newvals` will attempt to set the values inplace instead of always setting a new array. To retain the old behavior, use either `df[df.columns[i]] = newvals` or, if columns are non-unique, `df.isetitem(i, newvals)`\n",
      "  data_v3.loc[:,col] = data_v3.groupby(col)['rubm2'].transform('mean')\n",
      "/tmp/ipykernel_26694/181838561.py:2: DeprecationWarning: In a future version, `df.iloc[:, i] = newvals` will attempt to set the values inplace instead of always setting a new array. To retain the old behavior, use either `df[df.columns[i]] = newvals` or, if columns are non-unique, `df.isetitem(i, newvals)`\n",
      "  data_v3.loc[:,col] = data_v3.groupby(col)['rubm2'].transform('mean')\n",
      "/tmp/ipykernel_26694/181838561.py:2: DeprecationWarning: In a future version, `df.iloc[:, i] = newvals` will attempt to set the values inplace instead of always setting a new array. To retain the old behavior, use either `df[df.columns[i]] = newvals` or, if columns are non-unique, `df.isetitem(i, newvals)`\n",
      "  data_v3.loc[:,col] = data_v3.groupby(col)['rubm2'].transform('mean')\n",
      "/tmp/ipykernel_26694/181838561.py:2: DeprecationWarning: In a future version, `df.iloc[:, i] = newvals` will attempt to set the values inplace instead of always setting a new array. To retain the old behavior, use either `df[df.columns[i]] = newvals` or, if columns are non-unique, `df.isetitem(i, newvals)`\n",
      "  data_v3.loc[:,col] = data_v3.groupby(col)['rubm2'].transform('mean')\n",
      "/tmp/ipykernel_26694/181838561.py:2: DeprecationWarning: In a future version, `df.iloc[:, i] = newvals` will attempt to set the values inplace instead of always setting a new array. To retain the old behavior, use either `df[df.columns[i]] = newvals` or, if columns are non-unique, `df.isetitem(i, newvals)`\n",
      "  data_v3.loc[:,col] = data_v3.groupby(col)['rubm2'].transform('mean')\n",
      "/tmp/ipykernel_26694/181838561.py:2: DeprecationWarning: In a future version, `df.iloc[:, i] = newvals` will attempt to set the values inplace instead of always setting a new array. To retain the old behavior, use either `df[df.columns[i]] = newvals` or, if columns are non-unique, `df.isetitem(i, newvals)`\n",
      "  data_v3.loc[:,col] = data_v3.groupby(col)['rubm2'].transform('mean')\n",
      "/tmp/ipykernel_26694/181838561.py:2: DeprecationWarning: In a future version, `df.iloc[:, i] = newvals` will attempt to set the values inplace instead of always setting a new array. To retain the old behavior, use either `df[df.columns[i]] = newvals` or, if columns are non-unique, `df.isetitem(i, newvals)`\n",
      "  data_v3.loc[:,col] = data_v3.groupby(col)['rubm2'].transform('mean')\n",
      "/tmp/ipykernel_26694/181838561.py:2: DeprecationWarning: In a future version, `df.iloc[:, i] = newvals` will attempt to set the values inplace instead of always setting a new array. To retain the old behavior, use either `df[df.columns[i]] = newvals` or, if columns are non-unique, `df.isetitem(i, newvals)`\n",
      "  data_v3.loc[:,col] = data_v3.groupby(col)['rubm2'].transform('mean')\n",
      "/tmp/ipykernel_26694/181838561.py:2: DeprecationWarning: In a future version, `df.iloc[:, i] = newvals` will attempt to set the values inplace instead of always setting a new array. To retain the old behavior, use either `df[df.columns[i]] = newvals` or, if columns are non-unique, `df.isetitem(i, newvals)`\n",
      "  data_v3.loc[:,col] = data_v3.groupby(col)['rubm2'].transform('mean')\n",
      "/tmp/ipykernel_26694/181838561.py:2: DeprecationWarning: In a future version, `df.iloc[:, i] = newvals` will attempt to set the values inplace instead of always setting a new array. To retain the old behavior, use either `df[df.columns[i]] = newvals` or, if columns are non-unique, `df.isetitem(i, newvals)`\n",
      "  data_v3.loc[:,col] = data_v3.groupby(col)['rubm2'].transform('mean')\n",
      "/tmp/ipykernel_26694/181838561.py:2: DeprecationWarning: In a future version, `df.iloc[:, i] = newvals` will attempt to set the values inplace instead of always setting a new array. To retain the old behavior, use either `df[df.columns[i]] = newvals` or, if columns are non-unique, `df.isetitem(i, newvals)`\n",
      "  data_v3.loc[:,col] = data_v3.groupby(col)['rubm2'].transform('mean')\n",
      "/tmp/ipykernel_26694/181838561.py:2: DeprecationWarning: In a future version, `df.iloc[:, i] = newvals` will attempt to set the values inplace instead of always setting a new array. To retain the old behavior, use either `df[df.columns[i]] = newvals` or, if columns are non-unique, `df.isetitem(i, newvals)`\n",
      "  data_v3.loc[:,col] = data_v3.groupby(col)['rubm2'].transform('mean')\n",
      "/tmp/ipykernel_26694/181838561.py:2: DeprecationWarning: In a future version, `df.iloc[:, i] = newvals` will attempt to set the values inplace instead of always setting a new array. To retain the old behavior, use either `df[df.columns[i]] = newvals` or, if columns are non-unique, `df.isetitem(i, newvals)`\n",
      "  data_v3.loc[:,col] = data_v3.groupby(col)['rubm2'].transform('mean')\n",
      "/tmp/ipykernel_26694/181838561.py:2: DeprecationWarning: In a future version, `df.iloc[:, i] = newvals` will attempt to set the values inplace instead of always setting a new array. To retain the old behavior, use either `df[df.columns[i]] = newvals` or, if columns are non-unique, `df.isetitem(i, newvals)`\n",
      "  data_v3.loc[:,col] = data_v3.groupby(col)['rubm2'].transform('mean')\n",
      "/tmp/ipykernel_26694/181838561.py:2: DeprecationWarning: In a future version, `df.iloc[:, i] = newvals` will attempt to set the values inplace instead of always setting a new array. To retain the old behavior, use either `df[df.columns[i]] = newvals` or, if columns are non-unique, `df.isetitem(i, newvals)`\n",
      "  data_v3.loc[:,col] = data_v3.groupby(col)['rubm2'].transform('mean')\n",
      "/tmp/ipykernel_26694/181838561.py:2: DeprecationWarning: In a future version, `df.iloc[:, i] = newvals` will attempt to set the values inplace instead of always setting a new array. To retain the old behavior, use either `df[df.columns[i]] = newvals` or, if columns are non-unique, `df.isetitem(i, newvals)`\n",
      "  data_v3.loc[:,col] = data_v3.groupby(col)['rubm2'].transform('mean')\n",
      "/tmp/ipykernel_26694/181838561.py:2: DeprecationWarning: In a future version, `df.iloc[:, i] = newvals` will attempt to set the values inplace instead of always setting a new array. To retain the old behavior, use either `df[df.columns[i]] = newvals` or, if columns are non-unique, `df.isetitem(i, newvals)`\n",
      "  data_v3.loc[:,col] = data_v3.groupby(col)['rubm2'].transform('mean')\n",
      "/tmp/ipykernel_26694/181838561.py:2: DeprecationWarning: In a future version, `df.iloc[:, i] = newvals` will attempt to set the values inplace instead of always setting a new array. To retain the old behavior, use either `df[df.columns[i]] = newvals` or, if columns are non-unique, `df.isetitem(i, newvals)`\n",
      "  data_v3.loc[:,col] = data_v3.groupby(col)['rubm2'].transform('mean')\n",
      "/tmp/ipykernel_26694/181838561.py:2: DeprecationWarning: In a future version, `df.iloc[:, i] = newvals` will attempt to set the values inplace instead of always setting a new array. To retain the old behavior, use either `df[df.columns[i]] = newvals` or, if columns are non-unique, `df.isetitem(i, newvals)`\n",
      "  data_v3.loc[:,col] = data_v3.groupby(col)['rubm2'].transform('mean')\n",
      "/tmp/ipykernel_26694/181838561.py:2: DeprecationWarning: In a future version, `df.iloc[:, i] = newvals` will attempt to set the values inplace instead of always setting a new array. To retain the old behavior, use either `df[df.columns[i]] = newvals` or, if columns are non-unique, `df.isetitem(i, newvals)`\n",
      "  data_v3.loc[:,col] = data_v3.groupby(col)['rubm2'].transform('mean')\n",
      "/tmp/ipykernel_26694/181838561.py:2: DeprecationWarning: In a future version, `df.iloc[:, i] = newvals` will attempt to set the values inplace instead of always setting a new array. To retain the old behavior, use either `df[df.columns[i]] = newvals` or, if columns are non-unique, `df.isetitem(i, newvals)`\n",
      "  data_v3.loc[:,col] = data_v3.groupby(col)['rubm2'].transform('mean')\n",
      "/tmp/ipykernel_26694/181838561.py:2: DeprecationWarning: In a future version, `df.iloc[:, i] = newvals` will attempt to set the values inplace instead of always setting a new array. To retain the old behavior, use either `df[df.columns[i]] = newvals` or, if columns are non-unique, `df.isetitem(i, newvals)`\n",
      "  data_v3.loc[:,col] = data_v3.groupby(col)['rubm2'].transform('mean')\n",
      "/tmp/ipykernel_26694/181838561.py:2: DeprecationWarning: In a future version, `df.iloc[:, i] = newvals` will attempt to set the values inplace instead of always setting a new array. To retain the old behavior, use either `df[df.columns[i]] = newvals` or, if columns are non-unique, `df.isetitem(i, newvals)`\n",
      "  data_v3.loc[:,col] = data_v3.groupby(col)['rubm2'].transform('mean')\n",
      "/tmp/ipykernel_26694/181838561.py:2: DeprecationWarning: In a future version, `df.iloc[:, i] = newvals` will attempt to set the values inplace instead of always setting a new array. To retain the old behavior, use either `df[df.columns[i]] = newvals` or, if columns are non-unique, `df.isetitem(i, newvals)`\n",
      "  data_v3.loc[:,col] = data_v3.groupby(col)['rubm2'].transform('mean')\n",
      "/tmp/ipykernel_26694/181838561.py:2: DeprecationWarning: In a future version, `df.iloc[:, i] = newvals` will attempt to set the values inplace instead of always setting a new array. To retain the old behavior, use either `df[df.columns[i]] = newvals` or, if columns are non-unique, `df.isetitem(i, newvals)`\n",
      "  data_v3.loc[:,col] = data_v3.groupby(col)['rubm2'].transform('mean')\n",
      "/tmp/ipykernel_26694/181838561.py:2: DeprecationWarning: In a future version, `df.iloc[:, i] = newvals` will attempt to set the values inplace instead of always setting a new array. To retain the old behavior, use either `df[df.columns[i]] = newvals` or, if columns are non-unique, `df.isetitem(i, newvals)`\n",
      "  data_v3.loc[:,col] = data_v3.groupby(col)['rubm2'].transform('mean')\n",
      "/tmp/ipykernel_26694/181838561.py:2: DeprecationWarning: In a future version, `df.iloc[:, i] = newvals` will attempt to set the values inplace instead of always setting a new array. To retain the old behavior, use either `df[df.columns[i]] = newvals` or, if columns are non-unique, `df.isetitem(i, newvals)`\n",
      "  data_v3.loc[:,col] = data_v3.groupby(col)['rubm2'].transform('mean')\n",
      "/tmp/ipykernel_26694/181838561.py:2: DeprecationWarning: In a future version, `df.iloc[:, i] = newvals` will attempt to set the values inplace instead of always setting a new array. To retain the old behavior, use either `df[df.columns[i]] = newvals` or, if columns are non-unique, `df.isetitem(i, newvals)`\n",
      "  data_v3.loc[:,col] = data_v3.groupby(col)['rubm2'].transform('mean')\n",
      "/tmp/ipykernel_26694/181838561.py:2: DeprecationWarning: In a future version, `df.iloc[:, i] = newvals` will attempt to set the values inplace instead of always setting a new array. To retain the old behavior, use either `df[df.columns[i]] = newvals` or, if columns are non-unique, `df.isetitem(i, newvals)`\n",
      "  data_v3.loc[:,col] = data_v3.groupby(col)['rubm2'].transform('mean')\n",
      "/tmp/ipykernel_26694/181838561.py:2: DeprecationWarning: In a future version, `df.iloc[:, i] = newvals` will attempt to set the values inplace instead of always setting a new array. To retain the old behavior, use either `df[df.columns[i]] = newvals` or, if columns are non-unique, `df.isetitem(i, newvals)`\n",
      "  data_v3.loc[:,col] = data_v3.groupby(col)['rubm2'].transform('mean')\n",
      "/tmp/ipykernel_26694/181838561.py:2: DeprecationWarning: In a future version, `df.iloc[:, i] = newvals` will attempt to set the values inplace instead of always setting a new array. To retain the old behavior, use either `df[df.columns[i]] = newvals` or, if columns are non-unique, `df.isetitem(i, newvals)`\n",
      "  data_v3.loc[:,col] = data_v3.groupby(col)['rubm2'].transform('mean')\n",
      "/tmp/ipykernel_26694/181838561.py:2: DeprecationWarning: In a future version, `df.iloc[:, i] = newvals` will attempt to set the values inplace instead of always setting a new array. To retain the old behavior, use either `df[df.columns[i]] = newvals` or, if columns are non-unique, `df.isetitem(i, newvals)`\n",
      "  data_v3.loc[:,col] = data_v3.groupby(col)['rubm2'].transform('mean')\n",
      "/tmp/ipykernel_26694/181838561.py:2: DeprecationWarning: In a future version, `df.iloc[:, i] = newvals` will attempt to set the values inplace instead of always setting a new array. To retain the old behavior, use either `df[df.columns[i]] = newvals` or, if columns are non-unique, `df.isetitem(i, newvals)`\n",
      "  data_v3.loc[:,col] = data_v3.groupby(col)['rubm2'].transform('mean')\n",
      "/tmp/ipykernel_26694/181838561.py:2: DeprecationWarning: In a future version, `df.iloc[:, i] = newvals` will attempt to set the values inplace instead of always setting a new array. To retain the old behavior, use either `df[df.columns[i]] = newvals` or, if columns are non-unique, `df.isetitem(i, newvals)`\n",
      "  data_v3.loc[:,col] = data_v3.groupby(col)['rubm2'].transform('mean')\n",
      "/tmp/ipykernel_26694/181838561.py:2: DeprecationWarning: In a future version, `df.iloc[:, i] = newvals` will attempt to set the values inplace instead of always setting a new array. To retain the old behavior, use either `df[df.columns[i]] = newvals` or, if columns are non-unique, `df.isetitem(i, newvals)`\n",
      "  data_v3.loc[:,col] = data_v3.groupby(col)['rubm2'].transform('mean')\n",
      "/tmp/ipykernel_26694/181838561.py:2: DeprecationWarning: In a future version, `df.iloc[:, i] = newvals` will attempt to set the values inplace instead of always setting a new array. To retain the old behavior, use either `df[df.columns[i]] = newvals` or, if columns are non-unique, `df.isetitem(i, newvals)`\n",
      "  data_v3.loc[:,col] = data_v3.groupby(col)['rubm2'].transform('mean')\n",
      "/tmp/ipykernel_26694/181838561.py:2: DeprecationWarning: In a future version, `df.iloc[:, i] = newvals` will attempt to set the values inplace instead of always setting a new array. To retain the old behavior, use either `df[df.columns[i]] = newvals` or, if columns are non-unique, `df.isetitem(i, newvals)`\n",
      "  data_v3.loc[:,col] = data_v3.groupby(col)['rubm2'].transform('mean')\n",
      "/tmp/ipykernel_26694/181838561.py:2: DeprecationWarning: In a future version, `df.iloc[:, i] = newvals` will attempt to set the values inplace instead of always setting a new array. To retain the old behavior, use either `df[df.columns[i]] = newvals` or, if columns are non-unique, `df.isetitem(i, newvals)`\n",
      "  data_v3.loc[:,col] = data_v3.groupby(col)['rubm2'].transform('mean')\n",
      "/tmp/ipykernel_26694/181838561.py:2: DeprecationWarning: In a future version, `df.iloc[:, i] = newvals` will attempt to set the values inplace instead of always setting a new array. To retain the old behavior, use either `df[df.columns[i]] = newvals` or, if columns are non-unique, `df.isetitem(i, newvals)`\n",
      "  data_v3.loc[:,col] = data_v3.groupby(col)['rubm2'].transform('mean')\n",
      "/tmp/ipykernel_26694/181838561.py:2: DeprecationWarning: In a future version, `df.iloc[:, i] = newvals` will attempt to set the values inplace instead of always setting a new array. To retain the old behavior, use either `df[df.columns[i]] = newvals` or, if columns are non-unique, `df.isetitem(i, newvals)`\n",
      "  data_v3.loc[:,col] = data_v3.groupby(col)['rubm2'].transform('mean')\n",
      "/tmp/ipykernel_26694/181838561.py:2: DeprecationWarning: In a future version, `df.iloc[:, i] = newvals` will attempt to set the values inplace instead of always setting a new array. To retain the old behavior, use either `df[df.columns[i]] = newvals` or, if columns are non-unique, `df.isetitem(i, newvals)`\n",
      "  data_v3.loc[:,col] = data_v3.groupby(col)['rubm2'].transform('mean')\n",
      "/tmp/ipykernel_26694/181838561.py:2: DeprecationWarning: In a future version, `df.iloc[:, i] = newvals` will attempt to set the values inplace instead of always setting a new array. To retain the old behavior, use either `df[df.columns[i]] = newvals` or, if columns are non-unique, `df.isetitem(i, newvals)`\n",
      "  data_v3.loc[:,col] = data_v3.groupby(col)['rubm2'].transform('mean')\n",
      "/tmp/ipykernel_26694/181838561.py:2: DeprecationWarning: In a future version, `df.iloc[:, i] = newvals` will attempt to set the values inplace instead of always setting a new array. To retain the old behavior, use either `df[df.columns[i]] = newvals` or, if columns are non-unique, `df.isetitem(i, newvals)`\n",
      "  data_v3.loc[:,col] = data_v3.groupby(col)['rubm2'].transform('mean')\n",
      "/tmp/ipykernel_26694/181838561.py:2: DeprecationWarning: In a future version, `df.iloc[:, i] = newvals` will attempt to set the values inplace instead of always setting a new array. To retain the old behavior, use either `df[df.columns[i]] = newvals` or, if columns are non-unique, `df.isetitem(i, newvals)`\n",
      "  data_v3.loc[:,col] = data_v3.groupby(col)['rubm2'].transform('mean')\n",
      "/tmp/ipykernel_26694/181838561.py:2: DeprecationWarning: In a future version, `df.iloc[:, i] = newvals` will attempt to set the values inplace instead of always setting a new array. To retain the old behavior, use either `df[df.columns[i]] = newvals` or, if columns are non-unique, `df.isetitem(i, newvals)`\n",
      "  data_v3.loc[:,col] = data_v3.groupby(col)['rubm2'].transform('mean')\n",
      "/tmp/ipykernel_26694/181838561.py:2: DeprecationWarning: In a future version, `df.iloc[:, i] = newvals` will attempt to set the values inplace instead of always setting a new array. To retain the old behavior, use either `df[df.columns[i]] = newvals` or, if columns are non-unique, `df.isetitem(i, newvals)`\n",
      "  data_v3.loc[:,col] = data_v3.groupby(col)['rubm2'].transform('mean')\n",
      "/tmp/ipykernel_26694/181838561.py:2: DeprecationWarning: In a future version, `df.iloc[:, i] = newvals` will attempt to set the values inplace instead of always setting a new array. To retain the old behavior, use either `df[df.columns[i]] = newvals` or, if columns are non-unique, `df.isetitem(i, newvals)`\n",
      "  data_v3.loc[:,col] = data_v3.groupby(col)['rubm2'].transform('mean')\n",
      "/tmp/ipykernel_26694/181838561.py:2: DeprecationWarning: In a future version, `df.iloc[:, i] = newvals` will attempt to set the values inplace instead of always setting a new array. To retain the old behavior, use either `df[df.columns[i]] = newvals` or, if columns are non-unique, `df.isetitem(i, newvals)`\n",
      "  data_v3.loc[:,col] = data_v3.groupby(col)['rubm2'].transform('mean')\n",
      "/tmp/ipykernel_26694/181838561.py:2: DeprecationWarning: In a future version, `df.iloc[:, i] = newvals` will attempt to set the values inplace instead of always setting a new array. To retain the old behavior, use either `df[df.columns[i]] = newvals` or, if columns are non-unique, `df.isetitem(i, newvals)`\n",
      "  data_v3.loc[:,col] = data_v3.groupby(col)['rubm2'].transform('mean')\n",
      "/tmp/ipykernel_26694/181838561.py:2: DeprecationWarning: In a future version, `df.iloc[:, i] = newvals` will attempt to set the values inplace instead of always setting a new array. To retain the old behavior, use either `df[df.columns[i]] = newvals` or, if columns are non-unique, `df.isetitem(i, newvals)`\n",
      "  data_v3.loc[:,col] = data_v3.groupby(col)['rubm2'].transform('mean')\n"
     ]
    }
   ],
   "source": [
    "for col in data_v2.select_dtypes('O').columns:\n",
    "    data_v3.loc[:,col] = data_v3.groupby(col)['rubm2'].transform('mean')"
   ]
  },
  {
   "cell_type": "code",
   "execution_count": null,
   "metadata": {},
   "outputs": [],
   "source": []
  },
  {
   "cell_type": "code",
   "execution_count": 202,
   "metadata": {},
   "outputs": [
    {
     "name": "stderr",
     "output_type": "stream",
     "text": [
      "100%|██████████| 15/15 [01:01<00:00,  4.12s/it]\n"
     ]
    }
   ],
   "source": [
    "v2 = check_model_prefomance(data_v3.select_dtypes(exclude='O'),LGBMRegressor(n_estimators=1000))"
   ]
  },
  {
   "cell_type": "code",
   "execution_count": 203,
   "metadata": {},
   "outputs": [
    {
     "data": {
      "text/html": [
       "<div>\n",
       "<style scoped>\n",
       "    .dataframe tbody tr th:only-of-type {\n",
       "        vertical-align: middle;\n",
       "    }\n",
       "\n",
       "    .dataframe tbody tr th {\n",
       "        vertical-align: top;\n",
       "    }\n",
       "\n",
       "    .dataframe thead th {\n",
       "        text-align: right;\n",
       "    }\n",
       "</style>\n",
       "<table border=\"1\" class=\"dataframe\">\n",
       "  <thead>\n",
       "    <tr style=\"text-align: right;\">\n",
       "      <th></th>\n",
       "      <th>mape</th>\n",
       "      <th>rmse</th>\n",
       "      <th>mae</th>\n",
       "    </tr>\n",
       "  </thead>\n",
       "  <tbody>\n",
       "    <tr>\n",
       "      <th>mean</th>\n",
       "      <td>0.070867</td>\n",
       "      <td>36595.683248</td>\n",
       "      <td>21648.720625</td>\n",
       "    </tr>\n",
       "    <tr>\n",
       "      <th>std</th>\n",
       "      <td>0.000944</td>\n",
       "      <td>3964.434992</td>\n",
       "      <td>451.110359</td>\n",
       "    </tr>\n",
       "  </tbody>\n",
       "</table>\n",
       "</div>"
      ],
      "text/plain": [
       "          mape          rmse           mae\n",
       "mean  0.070867  36595.683248  21648.720625\n",
       "std   0.000944   3964.434992    451.110359"
      ]
     },
     "execution_count": 203,
     "metadata": {},
     "output_type": "execute_result"
    }
   ],
   "source": [
    "baza - v2"
   ]
  },
  {
   "cell_type": "code",
   "execution_count": 204,
   "metadata": {},
   "outputs": [
    {
     "data": {
      "text/html": [
       "<div>\n",
       "<style scoped>\n",
       "    .dataframe tbody tr th:only-of-type {\n",
       "        vertical-align: middle;\n",
       "    }\n",
       "\n",
       "    .dataframe tbody tr th {\n",
       "        vertical-align: top;\n",
       "    }\n",
       "\n",
       "    .dataframe thead th {\n",
       "        text-align: right;\n",
       "    }\n",
       "</style>\n",
       "<table border=\"1\" class=\"dataframe\">\n",
       "  <thead>\n",
       "    <tr style=\"text-align: right;\">\n",
       "      <th></th>\n",
       "      <th>mape</th>\n",
       "      <th>rmse</th>\n",
       "      <th>mae</th>\n",
       "    </tr>\n",
       "  </thead>\n",
       "  <tbody>\n",
       "    <tr>\n",
       "      <th>mean</th>\n",
       "      <td>0.050791</td>\n",
       "      <td>29624.432442</td>\n",
       "      <td>15148.366433</td>\n",
       "    </tr>\n",
       "    <tr>\n",
       "      <th>std</th>\n",
       "      <td>0.003801</td>\n",
       "      <td>3437.199274</td>\n",
       "      <td>234.262643</td>\n",
       "    </tr>\n",
       "  </tbody>\n",
       "</table>\n",
       "</div>"
      ],
      "text/plain": [
       "          mape          rmse           mae\n",
       "mean  0.050791  29624.432442  15148.366433\n",
       "std   0.003801   3437.199274    234.262643"
      ]
     },
     "execution_count": 204,
     "metadata": {},
     "output_type": "execute_result"
    }
   ],
   "source": [
    "v1 - v2"
   ]
  },
  {
   "cell_type": "code",
   "execution_count": 205,
   "metadata": {},
   "outputs": [
    {
     "data": {
      "text/html": [
       "<div>\n",
       "<style scoped>\n",
       "    .dataframe tbody tr th:only-of-type {\n",
       "        vertical-align: middle;\n",
       "    }\n",
       "\n",
       "    .dataframe tbody tr th {\n",
       "        vertical-align: top;\n",
       "    }\n",
       "\n",
       "    .dataframe thead th {\n",
       "        text-align: right;\n",
       "    }\n",
       "</style>\n",
       "<table border=\"1\" class=\"dataframe\">\n",
       "  <thead>\n",
       "    <tr style=\"text-align: right;\">\n",
       "      <th></th>\n",
       "      <th>mape</th>\n",
       "      <th>rmse</th>\n",
       "      <th>mae</th>\n",
       "    </tr>\n",
       "  </thead>\n",
       "  <tbody>\n",
       "    <tr>\n",
       "      <th>mean</th>\n",
       "      <td>0.109850</td>\n",
       "      <td>65101.471204</td>\n",
       "      <td>35903.710524</td>\n",
       "    </tr>\n",
       "    <tr>\n",
       "      <th>std</th>\n",
       "      <td>0.005308</td>\n",
       "      <td>4761.921849</td>\n",
       "      <td>1770.022314</td>\n",
       "    </tr>\n",
       "  </tbody>\n",
       "</table>\n",
       "</div>"
      ],
      "text/plain": [
       "          mape          rmse           mae\n",
       "mean  0.109850  65101.471204  35903.710524\n",
       "std   0.005308   4761.921849   1770.022314"
      ]
     },
     "execution_count": 205,
     "metadata": {},
     "output_type": "execute_result"
    }
   ],
   "source": [
    "v2"
   ]
  },
  {
   "cell_type": "code",
   "execution_count": 206,
   "metadata": {},
   "outputs": [],
   "source": [
    "x,xv,y,yv = model_selection.train_test_split(data_v3.drop('rubm2',axis=1),data_v3['rubm2'],train_size=.75)"
   ]
  },
  {
   "cell_type": "code",
   "execution_count": 207,
   "metadata": {},
   "outputs": [],
   "source": [
    "model_v2 = CatBoostRegressor(5000)"
   ]
  },
  {
   "cell_type": "code",
   "execution_count": 208,
   "metadata": {},
   "outputs": [
    {
     "name": "stdout",
     "output_type": "stream",
     "text": [
      "Learning rate set to 0.014282\n",
      "0:\tlearn: 161742.2146197\ttotal: 9.57ms\tremaining: 47.8s\n",
      "500:\tlearn: 55983.5876620\ttotal: 1.59s\tremaining: 14.3s\n",
      "1000:\tlearn: 48971.3705754\ttotal: 3.1s\tremaining: 12.4s\n",
      "1500:\tlearn: 43782.8193899\ttotal: 4.61s\tremaining: 10.7s\n",
      "2000:\tlearn: 40039.4638874\ttotal: 6.12s\tremaining: 9.17s\n",
      "2500:\tlearn: 36931.6403542\ttotal: 7.64s\tremaining: 7.64s\n",
      "3000:\tlearn: 34359.6964697\ttotal: 9.2s\tremaining: 6.13s\n",
      "3500:\tlearn: 32158.1552612\ttotal: 10.7s\tremaining: 4.58s\n",
      "4000:\tlearn: 30362.9080260\ttotal: 12.2s\tremaining: 3.05s\n",
      "4500:\tlearn: 28648.4320423\ttotal: 13.7s\tremaining: 1.52s\n",
      "4999:\tlearn: 27135.2957811\ttotal: 15.2s\tremaining: 0us\n"
     ]
    },
    {
     "data": {
      "text/plain": [
       "<catboost.core.CatBoostRegressor at 0x7fda5e55ee20>"
      ]
     },
     "execution_count": 208,
     "metadata": {},
     "output_type": "execute_result"
    }
   ],
   "source": [
    "model_v2.fit(x,y,verbose=500)"
   ]
  },
  {
   "cell_type": "code",
   "execution_count": 209,
   "metadata": {},
   "outputs": [
    {
     "data": {
      "text/plain": [
       "0.10563732082076371"
      ]
     },
     "execution_count": 209,
     "metadata": {},
     "output_type": "execute_result"
    }
   ],
   "source": [
    "best_score = metrics.mean_absolute_percentage_error(yv,model_v2.predict(xv))\n",
    "best_score"
   ]
  },
  {
   "cell_type": "code",
   "execution_count": 210,
   "metadata": {},
   "outputs": [
    {
     "data": {
      "text/plain": [
       "Тип_системы_водоотведения          0.035760\n",
       "Водоотведение                      0.047024\n",
       "Тип_фундамента                     0.048100\n",
       "Материал_теплоизоляции_сети        0.073445\n",
       "Тип_наружного_утепления_фасада     0.085356\n",
       "                                    ...    \n",
       "Метро                              2.826788\n",
       "m2                                 6.122657\n",
       "Район                              7.594913\n",
       "Дом                                8.175733\n",
       "Улица                             46.891508\n",
       "Length: 85, dtype: float64"
      ]
     },
     "execution_count": 210,
     "metadata": {},
     "output_type": "execute_result"
    }
   ],
   "source": [
    "pd.Series(model_v2.feature_importances_,model_v2.feature_names_).sort_values()"
   ]
  },
  {
   "attachments": {},
   "cell_type": "markdown",
   "metadata": {},
   "source": [
    "# v3 normalize"
   ]
  },
  {
   "cell_type": "code",
   "execution_count": 214,
   "metadata": {},
   "outputs": [],
   "source": [
    "from sklearn import preprocessing\n",
    "\n",
    "ss = preprocessing.StandardScaler()"
   ]
  },
  {
   "cell_type": "code",
   "execution_count": 235,
   "metadata": {},
   "outputs": [],
   "source": [
    "data_v4 = data_v3.apply(lambda x: ss.fit_transform(x.to_frame()).ravel() if ((x.nunique()>2 ) & (x.name != 'rubm2')) else x).copy()"
   ]
  },
  {
   "cell_type": "code",
   "execution_count": 238,
   "metadata": {},
   "outputs": [
    {
     "name": "stderr",
     "output_type": "stream",
     "text": [
      "100%|██████████| 15/15 [01:03<00:00,  4.23s/it]\n"
     ]
    }
   ],
   "source": [
    "v2_normalize = check_model_prefomance(data_v4,LGBMRegressor(n_estimators=1000))"
   ]
  },
  {
   "cell_type": "code",
   "execution_count": 239,
   "metadata": {},
   "outputs": [
    {
     "data": {
      "text/html": [
       "<div>\n",
       "<style scoped>\n",
       "    .dataframe tbody tr th:only-of-type {\n",
       "        vertical-align: middle;\n",
       "    }\n",
       "\n",
       "    .dataframe tbody tr th {\n",
       "        vertical-align: top;\n",
       "    }\n",
       "\n",
       "    .dataframe thead th {\n",
       "        text-align: right;\n",
       "    }\n",
       "</style>\n",
       "<table border=\"1\" class=\"dataframe\">\n",
       "  <thead>\n",
       "    <tr style=\"text-align: right;\">\n",
       "      <th></th>\n",
       "      <th>mape</th>\n",
       "      <th>rmse</th>\n",
       "      <th>mae</th>\n",
       "    </tr>\n",
       "  </thead>\n",
       "  <tbody>\n",
       "    <tr>\n",
       "      <th>mean</th>\n",
       "      <td>0.000038</td>\n",
       "      <td>-113.699178</td>\n",
       "      <td>72.533613</td>\n",
       "    </tr>\n",
       "    <tr>\n",
       "      <th>std</th>\n",
       "      <td>-0.000496</td>\n",
       "      <td>112.938522</td>\n",
       "      <td>135.619795</td>\n",
       "    </tr>\n",
       "  </tbody>\n",
       "</table>\n",
       "</div>"
      ],
      "text/plain": [
       "          mape        rmse         mae\n",
       "mean  0.000038 -113.699178   72.533613\n",
       "std  -0.000496  112.938522  135.619795"
      ]
     },
     "execution_count": 239,
     "metadata": {},
     "output_type": "execute_result"
    }
   ],
   "source": [
    "v2 - v2_normalize"
   ]
  },
  {
   "cell_type": "code",
   "execution_count": null,
   "metadata": {},
   "outputs": [],
   "source": []
  },
  {
   "attachments": {},
   "cell_type": "markdown",
   "metadata": {},
   "source": [
    "# target_transform"
   ]
  },
  {
   "cell_type": "code",
   "execution_count": 251,
   "metadata": {},
   "outputs": [],
   "source": [
    "data_v5 = data_v3.copy().query('rubm2 < rubm2.quantile(.9)')"
   ]
  },
  {
   "cell_type": "code",
   "execution_count": 254,
   "metadata": {},
   "outputs": [
    {
     "name": "stderr",
     "output_type": "stream",
     "text": [
      "100%|██████████| 15/15 [01:00<00:00,  4.00s/it]\n"
     ]
    }
   ],
   "source": [
    "v3_normalize = check_model_prefomance(data_v5,LGBMRegressor(n_estimators=1000))"
   ]
  },
  {
   "cell_type": "code",
   "execution_count": 255,
   "metadata": {},
   "outputs": [
    {
     "data": {
      "text/html": [
       "<div>\n",
       "<style scoped>\n",
       "    .dataframe tbody tr th:only-of-type {\n",
       "        vertical-align: middle;\n",
       "    }\n",
       "\n",
       "    .dataframe tbody tr th {\n",
       "        vertical-align: top;\n",
       "    }\n",
       "\n",
       "    .dataframe thead th {\n",
       "        text-align: right;\n",
       "    }\n",
       "</style>\n",
       "<table border=\"1\" class=\"dataframe\">\n",
       "  <thead>\n",
       "    <tr style=\"text-align: right;\">\n",
       "      <th></th>\n",
       "      <th>mape</th>\n",
       "      <th>rmse</th>\n",
       "      <th>mae</th>\n",
       "    </tr>\n",
       "  </thead>\n",
       "  <tbody>\n",
       "    <tr>\n",
       "      <th>mean</th>\n",
       "      <td>0.014292</td>\n",
       "      <td>28794.997098</td>\n",
       "      <td>10572.560796</td>\n",
       "    </tr>\n",
       "    <tr>\n",
       "      <th>std</th>\n",
       "      <td>-0.002273</td>\n",
       "      <td>3258.608889</td>\n",
       "      <td>957.017000</td>\n",
       "    </tr>\n",
       "  </tbody>\n",
       "</table>\n",
       "</div>"
      ],
      "text/plain": [
       "          mape          rmse           mae\n",
       "mean  0.014292  28794.997098  10572.560796\n",
       "std  -0.002273   3258.608889    957.017000"
      ]
     },
     "execution_count": 255,
     "metadata": {},
     "output_type": "execute_result"
    }
   ],
   "source": [
    "v2 - v3_normalize"
   ]
  },
  {
   "cell_type": "code",
   "execution_count": 256,
   "metadata": {},
   "outputs": [
    {
     "data": {
      "text/html": [
       "<div>\n",
       "<style scoped>\n",
       "    .dataframe tbody tr th:only-of-type {\n",
       "        vertical-align: middle;\n",
       "    }\n",
       "\n",
       "    .dataframe tbody tr th {\n",
       "        vertical-align: top;\n",
       "    }\n",
       "\n",
       "    .dataframe thead th {\n",
       "        text-align: right;\n",
       "    }\n",
       "</style>\n",
       "<table border=\"1\" class=\"dataframe\">\n",
       "  <thead>\n",
       "    <tr style=\"text-align: right;\">\n",
       "      <th></th>\n",
       "      <th>mape</th>\n",
       "      <th>rmse</th>\n",
       "      <th>mae</th>\n",
       "    </tr>\n",
       "  </thead>\n",
       "  <tbody>\n",
       "    <tr>\n",
       "      <th>mean</th>\n",
       "      <td>0.095557</td>\n",
       "      <td>36306.474106</td>\n",
       "      <td>25331.149728</td>\n",
       "    </tr>\n",
       "    <tr>\n",
       "      <th>std</th>\n",
       "      <td>0.007582</td>\n",
       "      <td>1503.312960</td>\n",
       "      <td>813.005314</td>\n",
       "    </tr>\n",
       "  </tbody>\n",
       "</table>\n",
       "</div>"
      ],
      "text/plain": [
       "          mape          rmse           mae\n",
       "mean  0.095557  36306.474106  25331.149728\n",
       "std   0.007582   1503.312960    813.005314"
      ]
     },
     "execution_count": 256,
     "metadata": {},
     "output_type": "execute_result"
    }
   ],
   "source": [
    "v3_normalize"
   ]
  },
  {
   "cell_type": "code",
   "execution_count": null,
   "metadata": {},
   "outputs": [],
   "source": []
  },
  {
   "cell_type": "code",
   "execution_count": null,
   "metadata": {},
   "outputs": [],
   "source": []
  },
  {
   "attachments": {},
   "cell_type": "markdown",
   "metadata": {},
   "source": [
    "# Result"
   ]
  },
  {
   "cell_type": "code",
   "execution_count": 296,
   "metadata": {},
   "outputs": [],
   "source": [
    "x,xv,y,yv = model_selection.train_test_split(data_v5.drop('rubm2',axis=1),data_v5['rubm2'],train_size=.75,random_state=1444)"
   ]
  },
  {
   "cell_type": "code",
   "execution_count": 340,
   "metadata": {},
   "outputs": [
    {
     "name": "stdout",
     "output_type": "stream",
     "text": [
      "0:\tlearn: 0.2031452\ttest: 0.1949486\tbest: 0.1949486 (0)\ttotal: 5.93ms\tremaining: 29.6s\n",
      "500:\tlearn: 0.0802129\ttest: 0.0944278\tbest: 0.0944206 (499)\ttotal: 1.51s\tremaining: 13.6s\n",
      "1000:\tlearn: 0.0681913\ttest: 0.0933895\tbest: 0.0933895 (1000)\ttotal: 3.05s\tremaining: 12.2s\n",
      "1500:\tlearn: 0.0613380\ttest: 0.0931041\tbest: 0.0930916 (1489)\ttotal: 4.54s\tremaining: 10.6s\n",
      "2000:\tlearn: 0.0559741\ttest: 0.0929235\tbest: 0.0929190 (1992)\ttotal: 6.04s\tremaining: 9.05s\n",
      "2500:\tlearn: 0.0526172\ttest: 0.0927665\tbest: 0.0927508 (2490)\ttotal: 7.53s\tremaining: 7.52s\n",
      "3000:\tlearn: 0.0495807\ttest: 0.0925954\tbest: 0.0925924 (2989)\ttotal: 9.03s\tremaining: 6.01s\n",
      "3500:\tlearn: 0.0472222\ttest: 0.0925307\tbest: 0.0925161 (3471)\ttotal: 10.5s\tremaining: 4.51s\n",
      "4000:\tlearn: 0.0455021\ttest: 0.0923713\tbest: 0.0923530 (3983)\ttotal: 12s\tremaining: 3s\n",
      "4500:\tlearn: 0.0440214\ttest: 0.0922221\tbest: 0.0922127 (4469)\ttotal: 13.8s\tremaining: 1.53s\n",
      "4999:\tlearn: 0.0426153\ttest: 0.0921489\tbest: 0.0921276 (4958)\ttotal: 15.5s\tremaining: 0us\n",
      "\n",
      "bestTest = 0.09212764825\n",
      "bestIteration = 4958\n",
      "\n",
      "Shrink model to first 4959 iterations.\n"
     ]
    },
    {
     "data": {
      "text/plain": [
       "0.09212764748371245"
      ]
     },
     "execution_count": 340,
     "metadata": {},
     "output_type": "execute_result"
    }
   ],
   "source": [
    "\n",
    "model_cat = CatBoostRegressor(5000,loss_function='MAE',eval_metric='MAPE',early_stopping_rounds=500,use_best_model=True)\n",
    "model_cat.fit(x,y,verbose=500,eval_set=(xv,yv))\n",
    "best_score = metrics.mean_absolute_percentage_error(yv,model_cat.predict(xv))\n",
    "best_score"
   ]
  },
  {
   "cell_type": "code",
   "execution_count": 329,
   "metadata": {},
   "outputs": [
    {
     "name": "stderr",
     "output_type": "stream",
     "text": [
      "/home/charubaiel/.cache/pypoetry/virtualenvs/mlopsini-xAkA-eId-py3.8/lib/python3.8/site-packages/lightgbm/sklearn.py:736: UserWarning: 'verbose' argument is deprecated and will be removed in a future release of LightGBM. Pass 'log_evaluation()' callback via 'callbacks' argument instead.\n",
      "  _log_warning(\"'verbose' argument is deprecated and will be removed in a future release of LightGBM. \"\n"
     ]
    },
    {
     "name": "stdout",
     "output_type": "stream",
     "text": [
      "[200]\tvalid_0's mape: 0.0938659\tvalid_0's l1: 27382.8\n",
      "[400]\tvalid_0's mape: 0.0909092\tvalid_0's l1: 25802.8\n",
      "[600]\tvalid_0's mape: 0.0917965\tvalid_0's l1: 26355.9\n",
      "[800]\tvalid_0's mape: 0.0907442\tvalid_0's l1: 25797.9\n",
      "[1000]\tvalid_0's mape: 0.0902022\tvalid_0's l1: 25594.4\n",
      "[1200]\tvalid_0's mape: 0.090216\tvalid_0's l1: 25578.4\n",
      "[1400]\tvalid_0's mape: 0.0896688\tvalid_0's l1: 25292.8\n",
      "[1600]\tvalid_0's mape: 0.0897174\tvalid_0's l1: 25275.1\n",
      "[1800]\tvalid_0's mape: 0.0899062\tvalid_0's l1: 25420.8\n",
      "[2000]\tvalid_0's mape: 0.0896917\tvalid_0's l1: 25280.3\n",
      "[2200]\tvalid_0's mape: 0.0895415\tvalid_0's l1: 25177.6\n",
      "[2400]\tvalid_0's mape: 0.0894583\tvalid_0's l1: 25165.4\n",
      "[2600]\tvalid_0's mape: 0.0895098\tvalid_0's l1: 25145.6\n",
      "[2800]\tvalid_0's mape: 0.089485\tvalid_0's l1: 25148.2\n",
      "[3000]\tvalid_0's mape: 0.0893722\tvalid_0's l1: 25100.8\n",
      "[3200]\tvalid_0's mape: 0.0895227\tvalid_0's l1: 25169.3\n",
      "[3400]\tvalid_0's mape: 0.0893399\tvalid_0's l1: 25041.2\n",
      "[3600]\tvalid_0's mape: 0.0894035\tvalid_0's l1: 25054.6\n",
      "[3800]\tvalid_0's mape: 0.0893452\tvalid_0's l1: 25014\n",
      "[4000]\tvalid_0's mape: 0.0894981\tvalid_0's l1: 25092.3\n",
      "[4200]\tvalid_0's mape: 0.0894985\tvalid_0's l1: 25077.8\n",
      "[4400]\tvalid_0's mape: 0.0894367\tvalid_0's l1: 25059.4\n",
      "[4600]\tvalid_0's mape: 0.0895254\tvalid_0's l1: 25084.2\n",
      "[4800]\tvalid_0's mape: 0.0895708\tvalid_0's l1: 25061.1\n",
      "[5000]\tvalid_0's mape: 0.0897599\tvalid_0's l1: 25071.4\n"
     ]
    },
    {
     "data": {
      "text/plain": [
       "0.08975988752603196"
      ]
     },
     "execution_count": 329,
     "metadata": {},
     "output_type": "execute_result"
    }
   ],
   "source": [
    "\n",
    "model_l = LGBMRegressor(n_estimators=5000,\n",
    "                        learning_rate=.15,\n",
    "                        objective = 'mae',\n",
    "                        boosting_type='dart')\n",
    "\n",
    "model_l.fit(x,y,eval_set =(xv,yv),verbose=200,eval_metric='mape')\n",
    "best_score = metrics.mean_absolute_percentage_error(yv,model_l.predict(xv))\n",
    "best_score"
   ]
  }
 ],
 "metadata": {
  "kernelspec": {
   "display_name": "mlopsini-xAkA-eId-py3.8",
   "language": "python",
   "name": "python3"
  },
  "language_info": {
   "codemirror_mode": {
    "name": "ipython",
    "version": 3
   },
   "file_extension": ".py",
   "mimetype": "text/x-python",
   "name": "python",
   "nbconvert_exporter": "python",
   "pygments_lexer": "ipython3",
   "version": "3.8.10"
  },
  "orig_nbformat": 4
 },
 "nbformat": 4,
 "nbformat_minor": 2
}
