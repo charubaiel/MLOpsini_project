{
 "cells": [
  {
   "cell_type": "code",
   "execution_count": 172,
   "metadata": {},
   "outputs": [],
   "source": [
    "import pandas as pd\n",
    "from sklearn import metrics,model_selection"
   ]
  },
  {
   "cell_type": "code",
   "execution_count": 65,
   "metadata": {},
   "outputs": [],
   "source": [
    "import matplotlib.pyplot as plt\n",
    "plt.style.use('ggplot')"
   ]
  },
  {
   "cell_type": "code",
   "execution_count": 243,
   "metadata": {},
   "outputs": [],
   "source": [
    "df = pd.read_parquet('../../data/sample_data.parquet').dropna(subset='rubm2')\n",
    "df = df.drop(['datetime','publish_delta','url','id','text','Город','title','img_list','metro_branch','metro_name','metro_dist'],axis=1)"
   ]
  },
  {
   "cell_type": "code",
   "execution_count": 68,
   "metadata": {},
   "outputs": [
    {
     "data": {
      "text/plain": [
       "290000.0"
      ]
     },
     "execution_count": 68,
     "metadata": {},
     "output_type": "execute_result"
    }
   ],
   "source": [
    "df['rubm2'].median()"
   ]
  },
  {
   "cell_type": "code",
   "execution_count": 69,
   "metadata": {},
   "outputs": [],
   "source": [
    "df['rooms'] = df['rooms'].where(lambda x: x.isin(df['rooms'].value_counts().iloc[:6].index),'Other')"
   ]
  },
  {
   "cell_type": "code",
   "execution_count": 70,
   "metadata": {},
   "outputs": [
    {
     "data": {
      "text/plain": [
       "rooms\n",
       "1-комн. апарт.    308333.333333\n",
       "1-комн. кв.       291428.571429\n",
       "2-комн. апарт.    347406.914894\n",
       "2-комн. кв.       284482.758621\n",
       "3-комн. апарт.    476312.525837\n",
       "3-комн. кв.       284854.070661\n",
       "Other             338095.238095\n",
       "Name: rubm2, dtype: float64"
      ]
     },
     "execution_count": 70,
     "metadata": {},
     "output_type": "execute_result"
    }
   ],
   "source": [
    "df.groupby('rooms')['rubm2'].median()"
   ]
  },
  {
   "cell_type": "code",
   "execution_count": 71,
   "metadata": {},
   "outputs": [
    {
     "data": {
      "text/plain": [
       "0.0"
      ]
     },
     "execution_count": 71,
     "metadata": {},
     "output_type": "execute_result"
    }
   ],
   "source": [
    "df['price'].isna().mean()"
   ]
  },
  {
   "cell_type": "code",
   "execution_count": 72,
   "metadata": {},
   "outputs": [],
   "source": [
    "_metrics = {}"
   ]
  },
  {
   "attachments": {},
   "cell_type": "markdown",
   "metadata": {},
   "source": [
    "# baseline v0"
   ]
  },
  {
   "cell_type": "code",
   "execution_count": 74,
   "metadata": {},
   "outputs": [],
   "source": [
    "v0 = metrics.mean_absolute_percentage_error(df['price'],df['m2']*df['rubm2'].median())\n",
    "_metrics.update(\n",
    "    {'baseline':v0}\n",
    ")"
   ]
  },
  {
   "attachments": {},
   "cell_type": "markdown",
   "metadata": {},
   "source": [
    "# baseline v0.1"
   ]
  },
  {
   "cell_type": "code",
   "execution_count": 105,
   "metadata": {},
   "outputs": [],
   "source": [
    "base_data = df.copy()"
   ]
  },
  {
   "cell_type": "code",
   "execution_count": 106,
   "metadata": {},
   "outputs": [],
   "source": [
    "base_data['is_apart'] = base_data['rooms'].str.contains('апарт')"
   ]
  },
  {
   "cell_type": "code",
   "execution_count": 107,
   "metadata": {},
   "outputs": [],
   "source": [
    "base_data['n_rooms'] = base_data['rooms'].str.extract('(\\d)').fillna(0).astype(float)"
   ]
  },
  {
   "cell_type": "code",
   "execution_count": 184,
   "metadata": {},
   "outputs": [],
   "source": [
    "target = base_data['price']\n",
    "data = base_data.select_dtypes(exclude='O').drop(['datetime','lat','long','price','rubm2'],axis=1)\n",
    "# data['rub_m2'] = base_data.groupby(['n_rooms','max_floor','is_apart'])['rubm2'].transform('mean')\n",
    "data = data.fillna(data.median())"
   ]
  },
  {
   "cell_type": "code",
   "execution_count": 197,
   "metadata": {},
   "outputs": [],
   "source": [
    "x,xv,y,yv = model_selection.train_test_split(data,target,train_size=.25)"
   ]
  },
  {
   "cell_type": "code",
   "execution_count": 202,
   "metadata": {},
   "outputs": [],
   "source": [
    "from catboost import CatBoostRegressor"
   ]
  },
  {
   "cell_type": "code",
   "execution_count": 207,
   "metadata": {},
   "outputs": [],
   "source": [
    "model = CatBoostRegressor(2000)"
   ]
  },
  {
   "cell_type": "code",
   "execution_count": 208,
   "metadata": {},
   "outputs": [
    {
     "name": "stdout",
     "output_type": "stream",
     "text": [
      "Learning rate set to 0.024107\n",
      "0:\tlearn: 27179240.0953045\ttotal: 1.6ms\tremaining: 3.2s\n",
      "500:\tlearn: 5832598.4640858\ttotal: 944ms\tremaining: 2.82s\n",
      "1000:\tlearn: 3846050.6264637\ttotal: 1.84s\tremaining: 1.84s\n",
      "1500:\tlearn: 3045229.7303033\ttotal: 4.5s\tremaining: 1.49s\n",
      "1999:\tlearn: 2499985.9407437\ttotal: 6.8s\tremaining: 0us\n"
     ]
    },
    {
     "data": {
      "text/plain": [
       "<catboost.core.CatBoostRegressor at 0x7f2f0b2f2e20>"
      ]
     },
     "execution_count": 208,
     "metadata": {},
     "output_type": "execute_result"
    }
   ],
   "source": [
    "model.fit(x,y,verbose=500)"
   ]
  },
  {
   "cell_type": "code",
   "execution_count": 209,
   "metadata": {},
   "outputs": [],
   "source": [
    "_metrics.update(\n",
    "   {'base_model': metrics.mean_absolute_percentage_error(yv,model.predict(xv))}\n",
    ")"
   ]
  },
  {
   "attachments": {},
   "cell_type": "markdown",
   "metadata": {},
   "source": [
    "# v1"
   ]
  },
  {
   "cell_type": "code",
   "execution_count": 289,
   "metadata": {},
   "outputs": [],
   "source": [
    "v1_data = df.copy()"
   ]
  },
  {
   "cell_type": "code",
   "execution_count": 290,
   "metadata": {},
   "outputs": [],
   "source": [
    "v1_data['advanced_home_info'] = v1_data['advanced_home_info'].apply(lambda x: pd.DataFrame(x).set_index('key')['value'].to_dict())\n",
    "v1_data['year_of_build'] = v1_data['advanced_home_info'].apply(lambda x: x.get('Год_ввода_в_эксплуатацию'))\n",
    "v1_data['rent_counts'] = v1_data['advanced_home_info'].apply(lambda x: x.get('Количество_квартир'))\n",
    "v1_data['n_enterss'] = v1_data['advanced_home_info'].apply(lambda x: x.get('Количество_подъездов'))\n",
    "v1_data['m2_house'] = v1_data['advanced_home_info'].apply(lambda x: x.get('Площадь_многоквартирного_дома,_кв.м'))\n",
    "v1_data['n_rooms'] = v1_data['rooms'].str.extract('(\\d)').fillna(0).astype(float)\n",
    "v1_data['is_apart'] = v1_data['rooms'].str.contains('апарт')\n"
   ]
  },
  {
   "cell_type": "code",
   "execution_count": 291,
   "metadata": {},
   "outputs": [],
   "source": [
    "v1_data['Округ'] = v1_data.groupby('Округ')['price'].transform('mean')\n",
    "v1_data['Метро'] = v1_data.groupby('Метро')['price'].transform('mean')\n",
    "v1_data['Район'] = v1_data.groupby('Район')['price'].transform('mean')\n",
    "v1_data['postcode'] = v1_data['postcode'].explode().astype(float).groupby(level=0).mean() // 100"
   ]
  },
  {
   "cell_type": "code",
   "execution_count": 292,
   "metadata": {},
   "outputs": [],
   "source": [
    "import numpy as np"
   ]
  },
  {
   "cell_type": "code",
   "execution_count": 295,
   "metadata": {},
   "outputs": [],
   "source": [
    "data = v1_data.select_dtypes(exclude='O').drop(['price','rubm2'],axis=1)\n",
    "target = v1_data['price']"
   ]
  },
  {
   "cell_type": "code",
   "execution_count": 296,
   "metadata": {},
   "outputs": [],
   "source": [
    "x,xv,y,yv = model_selection.train_test_split(data,target,train_size=.25)"
   ]
  },
  {
   "cell_type": "code",
   "execution_count": 297,
   "metadata": {},
   "outputs": [],
   "source": [
    "model_v1 = CatBoostRegressor(2000)"
   ]
  },
  {
   "cell_type": "code",
   "execution_count": 298,
   "metadata": {},
   "outputs": [
    {
     "name": "stdout",
     "output_type": "stream",
     "text": [
      "Learning rate set to 0.024107\n",
      "0:\tlearn: 20730488.5235801\ttotal: 8.93ms\tremaining: 17.9s\n",
      "500:\tlearn: 3415346.4902779\ttotal: 523ms\tremaining: 1.56s\n",
      "1000:\tlearn: 2310476.6452199\ttotal: 1.11s\tremaining: 1.11s\n",
      "1500:\tlearn: 1749910.6952148\ttotal: 1.71s\tremaining: 568ms\n",
      "1999:\tlearn: 1365260.3651847\ttotal: 2.4s\tremaining: 0us\n"
     ]
    },
    {
     "data": {
      "text/plain": [
       "<catboost.core.CatBoostRegressor at 0x7f2f0b2f2e20>"
      ]
     },
     "execution_count": 298,
     "metadata": {},
     "output_type": "execute_result"
    }
   ],
   "source": [
    "model.fit(x,y,verbose=500)"
   ]
  },
  {
   "cell_type": "code",
   "execution_count": 299,
   "metadata": {},
   "outputs": [],
   "source": [
    "_metrics.update(\n",
    "   {'model_v1': metrics.mean_absolute_percentage_error(yv,model.predict(xv))}\n",
    ")"
   ]
  },
  {
   "cell_type": "code",
   "execution_count": 306,
   "metadata": {},
   "outputs": [
    {
     "data": {
      "text/plain": [
       "is_max_floor       0.146777\n",
       "is_apart           0.289264\n",
       "has_park           0.382278\n",
       "is_lot             0.425708\n",
       "Округ              1.564464\n",
       "lat                1.767759\n",
       "postcode           1.825455\n",
       "dist_to_center     2.643301\n",
       "is_jk              2.925994\n",
       "long               2.954842\n",
       "n_rooms            3.415279\n",
       "floor              3.581719\n",
       "max_floor          5.907084\n",
       "Метро              7.023930\n",
       "Район             22.763073\n",
       "m2                42.383075\n",
       "dtype: float64"
      ]
     },
     "execution_count": 306,
     "metadata": {},
     "output_type": "execute_result"
    }
   ],
   "source": [
    "pd.Series(model.feature_importances_,model.feature_names_).sort_values()"
   ]
  },
  {
   "cell_type": "code",
   "execution_count": null,
   "metadata": {},
   "outputs": [],
   "source": []
  },
  {
   "attachments": {},
   "cell_type": "markdown",
   "metadata": {},
   "source": [
    "# Result"
   ]
  },
  {
   "cell_type": "code",
   "execution_count": 300,
   "metadata": {},
   "outputs": [
    {
     "data": {
      "text/plain": [
       "{'baseline': 0.25244297885044187,\n",
       " 'base_model': 0.20540931830145231,\n",
       " 'model_v1': 0.13952217648451065}"
      ]
     },
     "execution_count": 300,
     "metadata": {},
     "output_type": "execute_result"
    }
   ],
   "source": [
    "_metrics"
   ]
  }
 ],
 "metadata": {
  "kernelspec": {
   "display_name": "mlopsini-xAkA-eId-py3.8",
   "language": "python",
   "name": "python3"
  },
  "language_info": {
   "codemirror_mode": {
    "name": "ipython",
    "version": 3
   },
   "file_extension": ".py",
   "mimetype": "text/x-python",
   "name": "python",
   "nbconvert_exporter": "python",
   "pygments_lexer": "ipython3",
   "version": "3.8.10"
  },
  "orig_nbformat": 4
 },
 "nbformat": 4,
 "nbformat_minor": 2
}
