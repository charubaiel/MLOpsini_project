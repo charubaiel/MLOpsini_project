{
 "cells": [
  {
   "cell_type": "code",
   "execution_count": 41,
   "metadata": {},
   "outputs": [],
   "source": [
    "import pandas as pd\n",
    "from sklearn import metrics,model_selection"
   ]
  },
  {
   "cell_type": "code",
   "execution_count": 42,
   "metadata": {},
   "outputs": [],
   "source": [
    "import matplotlib.pyplot as plt\n",
    "plt.style.use('ggplot')"
   ]
  },
  {
   "cell_type": "code",
   "execution_count": 43,
   "metadata": {},
   "outputs": [],
   "source": [
    "df = pd.read_parquet('../../data/sample_data.parquet').dropna(subset='rubm2')\n",
    "df = df.drop(['datetime','publish_delta','url','id','text','Город','title','img_list','metro_branch','metro_name','metro_dist'],axis=1)"
   ]
  },
  {
   "cell_type": "code",
   "execution_count": 44,
   "metadata": {},
   "outputs": [
    {
     "data": {
      "text/plain": [
       "290000.0"
      ]
     },
     "execution_count": 44,
     "metadata": {},
     "output_type": "execute_result"
    }
   ],
   "source": [
    "df['rubm2'].median()"
   ]
  },
  {
   "cell_type": "code",
   "execution_count": 45,
   "metadata": {},
   "outputs": [],
   "source": [
    "df['rooms'] = df['rooms'].where(lambda x: x.isin(df['rooms'].value_counts().iloc[:6].index),'Other')"
   ]
  },
  {
   "cell_type": "code",
   "execution_count": 46,
   "metadata": {},
   "outputs": [
    {
     "data": {
      "text/plain": [
       "rooms\n",
       "1-комн. апарт.    308333.333333\n",
       "1-комн. кв.       291428.571429\n",
       "2-комн. апарт.    347406.914894\n",
       "2-комн. кв.       284482.758621\n",
       "3-комн. апарт.    476312.525837\n",
       "3-комн. кв.       284854.070661\n",
       "Other             338095.238095\n",
       "Name: rubm2, dtype: float64"
      ]
     },
     "execution_count": 46,
     "metadata": {},
     "output_type": "execute_result"
    }
   ],
   "source": [
    "df.groupby('rooms')['rubm2'].median()"
   ]
  },
  {
   "cell_type": "code",
   "execution_count": 47,
   "metadata": {},
   "outputs": [
    {
     "data": {
      "text/plain": [
       "0.0"
      ]
     },
     "execution_count": 47,
     "metadata": {},
     "output_type": "execute_result"
    }
   ],
   "source": [
    "df['price'].isna().mean()"
   ]
  },
  {
   "cell_type": "code",
   "execution_count": 48,
   "metadata": {},
   "outputs": [],
   "source": [
    "_metrics = {}"
   ]
  },
  {
   "attachments": {},
   "cell_type": "markdown",
   "metadata": {},
   "source": [
    "# baseline v0"
   ]
  },
  {
   "cell_type": "code",
   "execution_count": 49,
   "metadata": {},
   "outputs": [],
   "source": [
    "v0 = metrics.mean_absolute_percentage_error(df['rubm2'],[df['rubm2'].median()]*df.shape[0])\n",
    "_metrics.update(\n",
    "    {'baseline':v0}\n",
    ")"
   ]
  },
  {
   "attachments": {},
   "cell_type": "markdown",
   "metadata": {},
   "source": [
    "# baseline v0.1"
   ]
  },
  {
   "cell_type": "code",
   "execution_count": 50,
   "metadata": {},
   "outputs": [],
   "source": [
    "base_data = df.copy()"
   ]
  },
  {
   "cell_type": "code",
   "execution_count": 51,
   "metadata": {},
   "outputs": [],
   "source": [
    "base_data['is_apart'] = base_data['rooms'].str.contains('апарт')"
   ]
  },
  {
   "cell_type": "code",
   "execution_count": 52,
   "metadata": {},
   "outputs": [],
   "source": [
    "base_data['n_rooms'] = base_data['rooms'].str.extract('(\\d)').fillna(0).astype(float)"
   ]
  },
  {
   "cell_type": "code",
   "execution_count": 53,
   "metadata": {},
   "outputs": [],
   "source": [
    "target = base_data['rubm2']\n",
    "data = base_data.select_dtypes(exclude='O').drop(['lat','long','price','rubm2'],axis=1)\n",
    "# data['rub_m2'] = base_data.groupby(['n_rooms','max_floor','is_apart'])['rubm2'].transform('mean')\n",
    "data = data.fillna(data.median())"
   ]
  },
  {
   "cell_type": "code",
   "execution_count": 54,
   "metadata": {},
   "outputs": [],
   "source": [
    "x,xv,y,yv = model_selection.train_test_split(data,target,train_size=.75)"
   ]
  },
  {
   "cell_type": "code",
   "execution_count": 55,
   "metadata": {},
   "outputs": [],
   "source": [
    "from catboost import CatBoostRegressor"
   ]
  },
  {
   "cell_type": "code",
   "execution_count": 56,
   "metadata": {},
   "outputs": [],
   "source": [
    "model = CatBoostRegressor(2000)"
   ]
  },
  {
   "cell_type": "code",
   "execution_count": 57,
   "metadata": {},
   "outputs": [
    {
     "name": "stdout",
     "output_type": "stream",
     "text": [
      "Learning rate set to 0.028677\n",
      "0:\tlearn: 176707.4609415\ttotal: 2.25ms\tremaining: 4.49s\n",
      "500:\tlearn: 77695.5652299\ttotal: 503ms\tremaining: 1.51s\n",
      "1000:\tlearn: 65588.6218255\ttotal: 1.07s\tremaining: 1.06s\n",
      "1500:\tlearn: 58421.0821871\ttotal: 1.57s\tremaining: 523ms\n",
      "1999:\tlearn: 53143.8168063\ttotal: 2.07s\tremaining: 0us\n"
     ]
    },
    {
     "data": {
      "text/plain": [
       "<catboost.core.CatBoostRegressor at 0x7ff2853c2ca0>"
      ]
     },
     "execution_count": 57,
     "metadata": {},
     "output_type": "execute_result"
    }
   ],
   "source": [
    "model.fit(x,y,verbose=500)"
   ]
  },
  {
   "cell_type": "code",
   "execution_count": 58,
   "metadata": {},
   "outputs": [],
   "source": [
    "_metrics.update(\n",
    "   {'base_model': metrics.mean_absolute_percentage_error(yv,model.predict(xv))}\n",
    ")"
   ]
  },
  {
   "attachments": {},
   "cell_type": "markdown",
   "metadata": {},
   "source": [
    "# v1"
   ]
  },
  {
   "cell_type": "code",
   "execution_count": 59,
   "metadata": {},
   "outputs": [],
   "source": [
    "v1_data = df.copy()"
   ]
  },
  {
   "cell_type": "code",
   "execution_count": 60,
   "metadata": {},
   "outputs": [
    {
     "data": {
      "text/plain": [
       "0       {'Год_ввода_в_эксплуатацию': '2004', 'Дом_приз...\n",
       "1       {'Год_ввода_в_эксплуатацию': '2022', 'Дом_приз...\n",
       "2       {'Год_ввода_в_эксплуатацию': '2014', 'Дом_приз...\n",
       "3       {'Год_ввода_в_эксплуатацию': '2017', 'Дом_приз...\n",
       "4       {'Год_ввода_в_эксплуатацию': '1973', 'Дом_приз...\n",
       "                              ...                        \n",
       "5233    {'Год_ввода_в_эксплуатацию': '1968', 'Дом_приз...\n",
       "5234    {'Год_ввода_в_эксплуатацию': '1963', 'Дом_приз...\n",
       "5235    {'Год_ввода_в_эксплуатацию': '2022', 'Дом_приз...\n",
       "5236    {'Год_ввода_в_эксплуатацию': '1984', 'Дом_приз...\n",
       "5237    {'Год_ввода_в_эксплуатацию': '1977', 'Дом_приз...\n",
       "Name: advanced_home_info, Length: 4957, dtype: object"
      ]
     },
     "execution_count": 60,
     "metadata": {},
     "output_type": "execute_result"
    }
   ],
   "source": [
    "v1_data['advanced_home_info'].apply(lambda x: pd.DataFrame(x).set_index('key')['value'].to_dict())"
   ]
  },
  {
   "cell_type": "code",
   "execution_count": 61,
   "metadata": {},
   "outputs": [],
   "source": [
    "v1_data['advanced_home_dict'] = v1_data['advanced_home_info'].apply(lambda x: pd.DataFrame(x).set_index('key')['value'].to_dict())\n",
    "v1_data['year_of_build'] = v1_data['advanced_home_dict'].apply(lambda x: x.get('Год_ввода_в_эксплуатацию'))\n",
    "v1_data['rent_counts'] = v1_data['advanced_home_dict'].apply(lambda x: x.get('Количество_квартир'))\n",
    "v1_data['n_enterss'] = v1_data['advanced_home_dict'].apply(lambda x: x.get('Количество_подъездов'))\n",
    "v1_data['m2_house'] = v1_data['advanced_home_dict'].apply(lambda x: x.get('Площадь_многоквартирного_дома,_кв.м'))\n",
    "v1_data['n_rooms'] = v1_data['rooms'].str.extract('(\\d)').fillna(0).astype(float)\n",
    "v1_data['is_apart'] = v1_data['rooms'].str.contains('апарт')\n"
   ]
  },
  {
   "cell_type": "code",
   "execution_count": 62,
   "metadata": {},
   "outputs": [],
   "source": [
    "v1_data['area_obj_cnt'] = v1_data.groupby('Округ')['rubm2'].transform('count')\n",
    "v1_data['metro_obj_cnt'] = v1_data.groupby('Метро')['rubm2'].transform('count')\n",
    "v1_data['district_obj_cnt'] = v1_data.groupby('Район')['rubm2'].transform('count')\n"
   ]
  },
  {
   "cell_type": "code",
   "execution_count": 63,
   "metadata": {},
   "outputs": [],
   "source": [
    "v1_data['Округ'] = v1_data.groupby('Округ')['rubm2'].transform('mean')\n",
    "v1_data['Метро'] = v1_data.groupby('Метро')['rubm2'].transform('mean')\n",
    "v1_data['Район'] = v1_data.groupby('Район')['rubm2'].transform('mean')\n",
    "v1_data['postcode'] = v1_data['postcode'].explode().astype(float).groupby(level=0).mean() // 100"
   ]
  },
  {
   "cell_type": "code",
   "execution_count": 64,
   "metadata": {},
   "outputs": [],
   "source": [
    "import numpy as np"
   ]
  },
  {
   "cell_type": "code",
   "execution_count": 65,
   "metadata": {},
   "outputs": [],
   "source": [
    "data = v1_data.select_dtypes(exclude='O').drop(['price','rubm2'],axis=1).pipe(lambda x: x.fillna(x.mean()))\n",
    "target = v1_data['rubm2']\n",
    "target_clipped = v1_data['rubm2'].clip(0,v1_data['rubm2'].quantile(.95))"
   ]
  },
  {
   "cell_type": "code",
   "execution_count": 66,
   "metadata": {},
   "outputs": [],
   "source": [
    "data_filtred = v1_data.query('price < price.quantile(.9)').select_dtypes(exclude='O').drop(['price','rubm2'],axis=1).pipe(lambda x: x.fillna(x.mean()))\n",
    "target_filtred = v1_data.query('price < price.quantile(.9)')['rubm2']"
   ]
  },
  {
   "cell_type": "code",
   "execution_count": 67,
   "metadata": {},
   "outputs": [],
   "source": [
    "x,xv,y,yv = model_selection.train_test_split(data_filtred,target_filtred,train_size=.75)"
   ]
  },
  {
   "cell_type": "code",
   "execution_count": 68,
   "metadata": {},
   "outputs": [],
   "source": [
    "model_v1 = CatBoostRegressor(5000)"
   ]
  },
  {
   "cell_type": "code",
   "execution_count": 69,
   "metadata": {},
   "outputs": [
    {
     "name": "stdout",
     "output_type": "stream",
     "text": [
      "Learning rate set to 0.01339\n",
      "0:\tlearn: 89007.2331623\ttotal: 3.49ms\tremaining: 17.4s\n",
      "500:\tlearn: 46377.7072199\ttotal: 527ms\tremaining: 4.74s\n",
      "1000:\tlearn: 41684.5436615\ttotal: 1.13s\tremaining: 4.51s\n",
      "1500:\tlearn: 38392.0938308\ttotal: 1.8s\tremaining: 4.2s\n",
      "2000:\tlearn: 35404.8897223\ttotal: 2.33s\tremaining: 3.49s\n",
      "2500:\tlearn: 32932.5178080\ttotal: 2.96s\tremaining: 2.96s\n",
      "3000:\tlearn: 30827.4857104\ttotal: 3.53s\tremaining: 2.35s\n",
      "3500:\tlearn: 28962.9142799\ttotal: 4.07s\tremaining: 1.74s\n",
      "4000:\tlearn: 27363.7854397\ttotal: 4.63s\tremaining: 1.16s\n",
      "4500:\tlearn: 25979.0220209\ttotal: 5.18s\tremaining: 574ms\n",
      "4999:\tlearn: 24712.6510132\ttotal: 5.74s\tremaining: 0us\n"
     ]
    },
    {
     "data": {
      "text/plain": [
       "<catboost.core.CatBoostRegressor at 0x7ff2856e2c10>"
      ]
     },
     "execution_count": 69,
     "metadata": {},
     "output_type": "execute_result"
    }
   ],
   "source": [
    "model_v1.fit(x,y,verbose=500)"
   ]
  },
  {
   "cell_type": "code",
   "execution_count": 70,
   "metadata": {},
   "outputs": [],
   "source": [
    "_metrics.update(\n",
    "   {'model_v1': metrics.mean_absolute_percentage_error(yv,model_v1.predict(xv))}\n",
    ")"
   ]
  },
  {
   "cell_type": "code",
   "execution_count": 71,
   "metadata": {},
   "outputs": [],
   "source": [
    "from sklearn import linear_model,pipeline,preprocessing\n",
    "\n",
    "model_v2 = pipeline.Pipeline(\n",
    "    [\n",
    "        ('scaler',preprocessing.StandardScaler()),\n",
    "        ('model',linear_model.HuberRegressor()),\n",
    "     ]\n",
    ")"
   ]
  },
  {
   "cell_type": "code",
   "execution_count": 72,
   "metadata": {},
   "outputs": [],
   "source": [
    "def get_meta_features(data):\n",
    "    data = df.copy()\n",
    "    data['area_obj_cnt'] = data.groupby('Округ')['rubm2'].transform('count')\n",
    "    data['metro_obj_cnt'] = data.groupby('Метро')['rubm2'].transform('count')\n",
    "    data['district_obj_cnt'] = data.groupby('Район')['rubm2'].transform('count')\n",
    "    data['Округ'] = data.groupby('Округ')['rubm2'].transform('mean')\n",
    "    data['Метро'] = data.groupby('Метро')['rubm2'].transform('mean')\n",
    "    data['Район'] = data.groupby('Район')['rubm2'].transform('mean')\n",
    "\n",
    "    return data[['area_obj_cnt','metro_obj_cnt','district_obj_cnt','Округ','Метро','Район']]\n",
    "\n"
   ]
  },
  {
   "cell_type": "code",
   "execution_count": 73,
   "metadata": {},
   "outputs": [],
   "source": [
    "def dataset_prepare(df):\n",
    "    data = df.copy()\n",
    "    data['advanced_home_dict'] = data['advanced_home_info'].apply(lambda x: pd.DataFrame(x).set_index('key')['value'].to_dict())\n",
    "    data['year_of_build'] = data['advanced_home_dict'].apply(lambda x: x.get('Год_ввода_в_эксплуатацию'))\n",
    "    data['rent_counts'] = data['advanced_home_dict'].apply(lambda x: x.get('Количество_квартир'))\n",
    "    data['n_enterss'] = data['advanced_home_dict'].apply(lambda x: x.get('Количество_подъездов'))\n",
    "    data['m2_house'] = data['advanced_home_dict'].apply(lambda x: x.get('Площадь_многоквартирного_дома,_кв.м'))\n",
    "\n",
    "    data['n_rooms'] = data['rooms'].str.extract('(\\d)').fillna(0).astype(float)\n",
    "    data['is_apart'] = data['rooms'].str.contains('апарт')\n",
    "    data['postcode'] = data['postcode'].explode().astype(float).groupby(level=0).mean() // 100\n",
    "    \n",
    "\n",
    "    # meta_data = get_meta_features(data)\n",
    "    # result = .join(meta_data)\n",
    "\n",
    "    return data.drop(['Округ','Метро','Район'],axis=1)\n",
    "\n"
   ]
  },
  {
   "cell_type": "code",
   "execution_count": null,
   "metadata": {},
   "outputs": [],
   "source": []
  },
  {
   "cell_type": "code",
   "execution_count": 74,
   "metadata": {},
   "outputs": [
    {
     "data": {
      "text/html": [
       "<style>#sk-container-id-2 {color: black;background-color: white;}#sk-container-id-2 pre{padding: 0;}#sk-container-id-2 div.sk-toggleable {background-color: white;}#sk-container-id-2 label.sk-toggleable__label {cursor: pointer;display: block;width: 100%;margin-bottom: 0;padding: 0.3em;box-sizing: border-box;text-align: center;}#sk-container-id-2 label.sk-toggleable__label-arrow:before {content: \"▸\";float: left;margin-right: 0.25em;color: #696969;}#sk-container-id-2 label.sk-toggleable__label-arrow:hover:before {color: black;}#sk-container-id-2 div.sk-estimator:hover label.sk-toggleable__label-arrow:before {color: black;}#sk-container-id-2 div.sk-toggleable__content {max-height: 0;max-width: 0;overflow: hidden;text-align: left;background-color: #f0f8ff;}#sk-container-id-2 div.sk-toggleable__content pre {margin: 0.2em;color: black;border-radius: 0.25em;background-color: #f0f8ff;}#sk-container-id-2 input.sk-toggleable__control:checked~div.sk-toggleable__content {max-height: 200px;max-width: 100%;overflow: auto;}#sk-container-id-2 input.sk-toggleable__control:checked~label.sk-toggleable__label-arrow:before {content: \"▾\";}#sk-container-id-2 div.sk-estimator input.sk-toggleable__control:checked~label.sk-toggleable__label {background-color: #d4ebff;}#sk-container-id-2 div.sk-label input.sk-toggleable__control:checked~label.sk-toggleable__label {background-color: #d4ebff;}#sk-container-id-2 input.sk-hidden--visually {border: 0;clip: rect(1px 1px 1px 1px);clip: rect(1px, 1px, 1px, 1px);height: 1px;margin: -1px;overflow: hidden;padding: 0;position: absolute;width: 1px;}#sk-container-id-2 div.sk-estimator {font-family: monospace;background-color: #f0f8ff;border: 1px dotted black;border-radius: 0.25em;box-sizing: border-box;margin-bottom: 0.5em;}#sk-container-id-2 div.sk-estimator:hover {background-color: #d4ebff;}#sk-container-id-2 div.sk-parallel-item::after {content: \"\";width: 100%;border-bottom: 1px solid gray;flex-grow: 1;}#sk-container-id-2 div.sk-label:hover label.sk-toggleable__label {background-color: #d4ebff;}#sk-container-id-2 div.sk-serial::before {content: \"\";position: absolute;border-left: 1px solid gray;box-sizing: border-box;top: 0;bottom: 0;left: 50%;z-index: 0;}#sk-container-id-2 div.sk-serial {display: flex;flex-direction: column;align-items: center;background-color: white;padding-right: 0.2em;padding-left: 0.2em;position: relative;}#sk-container-id-2 div.sk-item {position: relative;z-index: 1;}#sk-container-id-2 div.sk-parallel {display: flex;align-items: stretch;justify-content: center;background-color: white;position: relative;}#sk-container-id-2 div.sk-item::before, #sk-container-id-2 div.sk-parallel-item::before {content: \"\";position: absolute;border-left: 1px solid gray;box-sizing: border-box;top: 0;bottom: 0;left: 50%;z-index: -1;}#sk-container-id-2 div.sk-parallel-item {display: flex;flex-direction: column;z-index: 1;position: relative;background-color: white;}#sk-container-id-2 div.sk-parallel-item:first-child::after {align-self: flex-end;width: 50%;}#sk-container-id-2 div.sk-parallel-item:last-child::after {align-self: flex-start;width: 50%;}#sk-container-id-2 div.sk-parallel-item:only-child::after {width: 0;}#sk-container-id-2 div.sk-dashed-wrapped {border: 1px dashed gray;margin: 0 0.4em 0.5em 0.4em;box-sizing: border-box;padding-bottom: 0.4em;background-color: white;}#sk-container-id-2 div.sk-label label {font-family: monospace;font-weight: bold;display: inline-block;line-height: 1.2em;}#sk-container-id-2 div.sk-label-container {text-align: center;}#sk-container-id-2 div.sk-container {/* jupyter's `normalize.less` sets `[hidden] { display: none; }` but bootstrap.min.css set `[hidden] { display: none !important; }` so we also need the `!important` here to be able to override the default hidden behavior on the sphinx rendered scikit-learn.org. See: https://github.com/scikit-learn/scikit-learn/issues/21755 */display: inline-block !important;position: relative;}#sk-container-id-2 div.sk-text-repr-fallback {display: none;}</style><div id=\"sk-container-id-2\" class=\"sk-top-container\"><div class=\"sk-text-repr-fallback\"><pre>Pipeline(steps=[(&#x27;scaler&#x27;, StandardScaler()), (&#x27;model&#x27;, HuberRegressor())])</pre><b>In a Jupyter environment, please rerun this cell to show the HTML representation or trust the notebook. <br />On GitHub, the HTML representation is unable to render, please try loading this page with nbviewer.org.</b></div><div class=\"sk-container\" hidden><div class=\"sk-item sk-dashed-wrapped\"><div class=\"sk-label-container\"><div class=\"sk-label sk-toggleable\"><input class=\"sk-toggleable__control sk-hidden--visually\" id=\"sk-estimator-id-4\" type=\"checkbox\" ><label for=\"sk-estimator-id-4\" class=\"sk-toggleable__label sk-toggleable__label-arrow\">Pipeline</label><div class=\"sk-toggleable__content\"><pre>Pipeline(steps=[(&#x27;scaler&#x27;, StandardScaler()), (&#x27;model&#x27;, HuberRegressor())])</pre></div></div></div><div class=\"sk-serial\"><div class=\"sk-item\"><div class=\"sk-estimator sk-toggleable\"><input class=\"sk-toggleable__control sk-hidden--visually\" id=\"sk-estimator-id-5\" type=\"checkbox\" ><label for=\"sk-estimator-id-5\" class=\"sk-toggleable__label sk-toggleable__label-arrow\">StandardScaler</label><div class=\"sk-toggleable__content\"><pre>StandardScaler()</pre></div></div></div><div class=\"sk-item\"><div class=\"sk-estimator sk-toggleable\"><input class=\"sk-toggleable__control sk-hidden--visually\" id=\"sk-estimator-id-6\" type=\"checkbox\" ><label for=\"sk-estimator-id-6\" class=\"sk-toggleable__label sk-toggleable__label-arrow\">HuberRegressor</label><div class=\"sk-toggleable__content\"><pre>HuberRegressor()</pre></div></div></div></div></div></div></div>"
      ],
      "text/plain": [
       "Pipeline(steps=[('scaler', StandardScaler()), ('model', HuberRegressor())])"
      ]
     },
     "execution_count": 74,
     "metadata": {},
     "output_type": "execute_result"
    }
   ],
   "source": [
    "model_v2.fit(x,y.clip(0,y.quantile(.95)))"
   ]
  },
  {
   "cell_type": "code",
   "execution_count": 75,
   "metadata": {},
   "outputs": [
    {
     "data": {
      "text/plain": [
       "0.12487289968059563"
      ]
     },
     "execution_count": 75,
     "metadata": {},
     "output_type": "execute_result"
    }
   ],
   "source": [
    "metrics.mean_absolute_percentage_error(yv,model_v2.predict(xv))"
   ]
  },
  {
   "cell_type": "code",
   "execution_count": 76,
   "metadata": {},
   "outputs": [],
   "source": [
    "_metrics.update(\n",
    "   {'model_v2_poisson': metrics.mean_absolute_percentage_error(yv,model_v2.predict(xv))}\n",
    ")"
   ]
  },
  {
   "attachments": {},
   "cell_type": "markdown",
   "metadata": {},
   "source": [
    "# Result"
   ]
  },
  {
   "cell_type": "code",
   "execution_count": 77,
   "metadata": {},
   "outputs": [
    {
     "data": {
      "text/plain": [
       "rubm2            0.000000\n",
       "predict_cat      0.145731\n",
       "predict_poiss    0.164666\n",
       "dtype: float64"
      ]
     },
     "execution_count": 77,
     "metadata": {},
     "output_type": "execute_result"
    }
   ],
   "source": [
    "target.to_frame()\\\n",
    "    .assign(\n",
    "    predict_cat = model_v1.predict(data),\n",
    "    predict_poiss = model_v2.predict(data),\n",
    "    ).apply(lambda x: (x['rubm2'] / x )-1,axis=1).abs().mean()"
   ]
  },
  {
   "cell_type": "code",
   "execution_count": 78,
   "metadata": {},
   "outputs": [
    {
     "data": {
      "text/plain": [
       "rubm2            0.000000\n",
       "predict_cat      0.073096\n",
       "predict_poiss    0.121753\n",
       "dtype: float64"
      ]
     },
     "execution_count": 78,
     "metadata": {},
     "output_type": "execute_result"
    }
   ],
   "source": [
    "target.to_frame()\\\n",
    "    .assign(\n",
    "    predict_cat = model_v1.predict(data),\n",
    "    predict_poiss = model_v2.predict(data),\n",
    "    ).apply(lambda x: (x['rubm2'] / x )-1,axis=1).abs()\\\n",
    "        .loc[target.where(lambda x: x < x.quantile(.9)).dropna().index].mean()"
   ]
  },
  {
   "cell_type": "code",
   "execution_count": 79,
   "metadata": {},
   "outputs": [
    {
     "data": {
      "text/plain": [
       "<matplotlib.lines.Line2D at 0x7ff219177e20>"
      ]
     },
     "execution_count": 79,
     "metadata": {},
     "output_type": "execute_result"
    },
    {
     "data": {
      "image/png": "[encoded data removed]",
      "text/plain": [
       "<Figure size 2400x700 with 1 Axes>"
      ]
     },
     "metadata": {},
     "output_type": "display_data"
    }
   ],
   "source": [
    "target.to_frame()\\\n",
    "    .assign(\n",
    "    predict_cat = model_v1.predict(data),\n",
    "    predict_poiss = model_v2.predict(data),\n",
    "    ).plot.hist(bins=500,alpha=0.5,figsize=(24,7))\n",
    "plt.axvline(target.quantile(.95))"
   ]
  },
  {
   "cell_type": "code",
   "execution_count": 80,
   "metadata": {},
   "outputs": [
    {
     "data": {
      "text/plain": [
       "{'baseline': 0.25244297885044187,\n",
       " 'base_model': 0.17070396181204736,\n",
       " 'model_v1': 0.09844420978301706,\n",
       " 'model_v2_poisson': 0.12487289968059563}"
      ]
     },
     "execution_count": 80,
     "metadata": {},
     "output_type": "execute_result"
    }
   ],
   "source": [
    "_metrics"
   ]
  },
  {
   "cell_type": "code",
   "execution_count": null,
   "metadata": {},
   "outputs": [],
   "source": []
  }
 ],
 "metadata": {
  "kernelspec": {
   "display_name": "mlopsini-xAkA-eId-py3.8",
   "language": "python",
   "name": "python3"
  },
  "language_info": {
   "codemirror_mode": {
    "name": "ipython",
    "version": 3
   },
   "file_extension": ".py",
   "mimetype": "text/x-python",
   "name": "python",
   "nbconvert_exporter": "python",
   "pygments_lexer": "ipython3",
   "version": "3.8.10"
  },
  "orig_nbformat": 4
 },
 "nbformat": 4,
 "nbformat_minor": 2
}
