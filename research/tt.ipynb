{
 "cells": [
  {
   "cell_type": "code",
   "execution_count": 5,
   "metadata": {},
   "outputs": [],
   "source": [
    "import pandas as pd\n",
    "from tqdm.contrib.concurrent import process_map\n",
    "import pathlib\n",
    "\n",
    "BASE_URL = 'https://dom.mingkh.ru'\n",
    "BASE_FILEPATH = 'base_home_data.csv'\n",
    "FULL_FILEPATH = 'complete_home_info.csv'\n",
    "\n",
    "\n",
    "def parse_home_page(home_url: str):\n",
    "    full_url = BASE_URL + home_url\n",
    "    _id = home_url.split('/')[-1]\n",
    "    df_list = pd.read_html(full_url)\n",
    "    home_data = pd.concat(df_list)\\\n",
    "        .iloc[:, :3]\\\n",
    "        .dropna(thresh=1)\\\n",
    "        .set_index(0)\\\n",
    "        .fillna(method='ffill', axis=1)\\\n",
    "        .iloc[:, 1]\\\n",
    "        .rename(_id)\\\n",
    "        .rename_axis('id')\n",
    "    return home_data.to_frame().T\n",
    "\n"
   ]
  },
  {
   "cell_type": "code",
   "execution_count": 7,
   "metadata": {},
   "outputs": [],
   "source": [
    "tmp_ = pd.read_pickle('/home/charubaiel/workflow/projects/MLOpsini_project/pipelines/.DH/storage/cian_dataframe')"
   ]
  },
  {
   "cell_type": "code",
   "execution_count": null,
   "metadata": {},
   "outputs": [],
   "source": []
  },
  {
   "cell_type": "code",
   "execution_count": 22,
   "metadata": {},
   "outputs": [
    {
     "data": {
      "text/html": [
       "<div>\n",
       "<style scoped>\n",
       "    .dataframe tbody tr th:only-of-type {\n",
       "        vertical-align: middle;\n",
       "    }\n",
       "\n",
       "    .dataframe tbody tr th {\n",
       "        vertical-align: top;\n",
       "    }\n",
       "\n",
       "    .dataframe thead th {\n",
       "        text-align: right;\n",
       "    }\n",
       "</style>\n",
       "<table border=\"1\" class=\"dataframe\">\n",
       "  <thead>\n",
       "    <tr style=\"text-align: right;\">\n",
       "      <th></th>\n",
       "      <th>url</th>\n",
       "      <th>publish_delta</th>\n",
       "    </tr>\n",
       "  </thead>\n",
       "  <tbody>\n",
       "    <tr>\n",
       "      <th>0</th>\n",
       "      <td>https://www.cian.ru/sale/flat/286864465/</td>\n",
       "      <td>1 минуту назад</td>\n",
       "    </tr>\n",
       "    <tr>\n",
       "      <th>1</th>\n",
       "      <td>https://www.cian.ru/sale/flat/286864404/</td>\n",
       "      <td>25 минут назад</td>\n",
       "    </tr>\n",
       "    <tr>\n",
       "      <th>2</th>\n",
       "      <td>https://www.cian.ru/sale/flat/286864388/</td>\n",
       "      <td>25 минут назад</td>\n",
       "    </tr>\n",
       "    <tr>\n",
       "      <th>3</th>\n",
       "      <td>https://www.cian.ru/sale/flat/286864229/</td>\n",
       "      <td>30 минут назад</td>\n",
       "    </tr>\n",
       "    <tr>\n",
       "      <th>4</th>\n",
       "      <td>https://www.cian.ru/sale/flat/286864094/</td>\n",
       "      <td>45 минут назад</td>\n",
       "    </tr>\n",
       "    <tr>\n",
       "      <th>...</th>\n",
       "      <td>...</td>\n",
       "      <td>...</td>\n",
       "    </tr>\n",
       "    <tr>\n",
       "      <th>81</th>\n",
       "      <td>https://www.cian.ru/sale/flat/286856140/</td>\n",
       "      <td>45 минут назад</td>\n",
       "    </tr>\n",
       "    <tr>\n",
       "      <th>82</th>\n",
       "      <td>https://www.cian.ru/sale/flat/286856128/</td>\n",
       "      <td>12 часов назад</td>\n",
       "    </tr>\n",
       "    <tr>\n",
       "      <th>83</th>\n",
       "      <td>https://www.cian.ru/sale/flat/286856006/</td>\n",
       "      <td>12 часов назад</td>\n",
       "    </tr>\n",
       "    <tr>\n",
       "      <th>602</th>\n",
       "      <td>https://www.cian.ru/sale/flat/286863711/</td>\n",
       "      <td>час назад</td>\n",
       "    </tr>\n",
       "    <tr>\n",
       "      <th>610</th>\n",
       "      <td>https://www.cian.ru/sale/flat/286863107/</td>\n",
       "      <td>2 часа назад</td>\n",
       "    </tr>\n",
       "  </tbody>\n",
       "</table>\n",
       "<p>86 rows × 2 columns</p>\n",
       "</div>"
      ],
      "text/plain": [
       "                                          url   publish_delta\n",
       "0    https://www.cian.ru/sale/flat/286864465/  1 минуту назад\n",
       "1    https://www.cian.ru/sale/flat/286864404/  25 минут назад\n",
       "2    https://www.cian.ru/sale/flat/286864388/  25 минут назад\n",
       "3    https://www.cian.ru/sale/flat/286864229/  30 минут назад\n",
       "4    https://www.cian.ru/sale/flat/286864094/  45 минут назад\n",
       "..                                        ...             ...\n",
       "81   https://www.cian.ru/sale/flat/286856140/  45 минут назад\n",
       "82   https://www.cian.ru/sale/flat/286856128/  12 часов назад\n",
       "83   https://www.cian.ru/sale/flat/286856006/  12 часов назад\n",
       "602  https://www.cian.ru/sale/flat/286863711/       час назад\n",
       "610  https://www.cian.ru/sale/flat/286863107/    2 часа назад\n",
       "\n",
       "[86 rows x 2 columns]"
      ]
     },
     "execution_count": 22,
     "metadata": {},
     "output_type": "execute_result"
    }
   ],
   "source": [
    "tmp_[['url','publish_delta']].drop_duplicates()"
   ]
  },
  {
   "cell_type": "code",
   "execution_count": 12,
   "metadata": {},
   "outputs": [],
   "source": [
    "def title_features(cian_dataframe:pd.DataFrame) -> pd.DataFrame:\n",
    "\n",
    "    result = {}\n",
    "    title_series = cian_dataframe['title'].str.lower().to_frame()\n",
    "    title_series[['rooms','m2','floor']] = title_series.str.replace(',(?=\\d)','.').str.split(',',expand=True)\n",
    "\n",
    "    title_series[['floor','max_floor']] = title_series['floor'].str.extract('(\\d+/\\d+).*эт').iloc[:,0].str.split('/',expand=True).astype(float)\n",
    "    title_series['m2'] = title_series['m2'].str.extract('(\\d+).*м²').astype(float)\n",
    "    title_series['is_max_floor'] = title_series['floor'] == title_series['max_floor']\n",
    "\n",
    "\n",
    "    return title_series"
   ]
  },
  {
   "cell_type": "code",
   "execution_count": 13,
   "metadata": {},
   "outputs": [
    {
     "name": "stdout",
     "output_type": "stream",
     "text": [
      "0 1 2\n"
     ]
    },
    {
     "name": "stderr",
     "output_type": "stream",
     "text": [
      "/tmp/ipykernel_292/1616650272.py:5: FutureWarning: The default value of regex will change from True to False in a future version.\n",
      "  rooms,m2,floor = title_series.str.replace(',(?=\\d)','.').str.split(',',expand=True)\n"
     ]
    },
    {
     "ename": "AttributeError",
     "evalue": "'int' object has no attribute 'str'",
     "output_type": "error",
     "traceback": [
      "\u001b[0;31m---------------------------------------------------------------------------\u001b[0m",
      "\u001b[0;31mAttributeError\u001b[0m                            Traceback (most recent call last)",
      "Cell \u001b[0;32mIn[13], line 1\u001b[0m\n\u001b[0;32m----> 1\u001b[0m title_features(tmp_)\n",
      "Cell \u001b[0;32mIn[12], line 7\u001b[0m, in \u001b[0;36mtitle_features\u001b[0;34m(cian_dataframe)\u001b[0m\n\u001b[1;32m      5\u001b[0m rooms,m2,floor \u001b[39m=\u001b[39m title_series\u001b[39m.\u001b[39mstr\u001b[39m.\u001b[39mreplace(\u001b[39m'\u001b[39m\u001b[39m,(?=\u001b[39m\u001b[39m\\\u001b[39m\u001b[39md)\u001b[39m\u001b[39m'\u001b[39m,\u001b[39m'\u001b[39m\u001b[39m.\u001b[39m\u001b[39m'\u001b[39m)\u001b[39m.\u001b[39mstr\u001b[39m.\u001b[39msplit(\u001b[39m'\u001b[39m\u001b[39m,\u001b[39m\u001b[39m'\u001b[39m,expand\u001b[39m=\u001b[39m\u001b[39mTrue\u001b[39;00m)\n\u001b[1;32m      6\u001b[0m \u001b[39mprint\u001b[39m(rooms,m2,floor)\n\u001b[0;32m----> 7\u001b[0m floor,max_floor \u001b[39m=\u001b[39m floor\u001b[39m.\u001b[39;49mstr\u001b[39m.\u001b[39mextract(\u001b[39m'\u001b[39m\u001b[39m(\u001b[39m\u001b[39m\\\u001b[39m\u001b[39md+/\u001b[39m\u001b[39m\\\u001b[39m\u001b[39md+).*эт\u001b[39m\u001b[39m'\u001b[39m)\u001b[39m.\u001b[39miloc[:,\u001b[39m0\u001b[39m]\u001b[39m.\u001b[39mstr\u001b[39m.\u001b[39msplit(\u001b[39m'\u001b[39m\u001b[39m/\u001b[39m\u001b[39m'\u001b[39m,expand\u001b[39m=\u001b[39m\u001b[39mTrue\u001b[39;00m)\u001b[39m.\u001b[39mastype(\u001b[39mfloat\u001b[39m)\n\u001b[1;32m      8\u001b[0m m2 \u001b[39m=\u001b[39m m2\u001b[39m.\u001b[39mstr\u001b[39m.\u001b[39mextract(\u001b[39m'\u001b[39m\u001b[39m(\u001b[39m\u001b[39m\\\u001b[39m\u001b[39md+).*м²\u001b[39m\u001b[39m'\u001b[39m)\u001b[39m.\u001b[39mastype(\u001b[39mfloat\u001b[39m)\n\u001b[1;32m      9\u001b[0m is_max_floor \u001b[39m=\u001b[39m floor \u001b[39m==\u001b[39m max_floor\n",
      "\u001b[0;31mAttributeError\u001b[0m: 'int' object has no attribute 'str'"
     ]
    }
   ],
   "source": [
    "title_features(tmp_)"
   ]
  },
  {
   "cell_type": "code",
   "execution_count": null,
   "metadata": {},
   "outputs": [],
   "source": []
  },
  {
   "cell_type": "code",
   "execution_count": 3,
   "metadata": {},
   "outputs": [],
   "source": [
    "with duckdb.connect('../data/protodb.db') as conn:\n",
    "    df = conn.query('select * from intel.cian').df().drop_duplicates(subset=['url'])"
   ]
  }
 ],
 "metadata": {
  "kernelspec": {
   "display_name": "Python 3",
   "language": "python",
   "name": "python3"
  },
  "language_info": {
   "codemirror_mode": {
    "name": "ipython",
    "version": 3
   },
   "file_extension": ".py",
   "mimetype": "text/x-python",
   "name": "python",
   "nbconvert_exporter": "python",
   "pygments_lexer": "ipython3",
   "version": "3.10.10"
  },
  "orig_nbformat": 4
 },
 "nbformat": 4,
 "nbformat_minor": 2
}
