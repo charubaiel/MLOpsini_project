{
 "cells": [
  {
   "cell_type": "code",
   "execution_count": 1,
   "metadata": {},
   "outputs": [
    {
     "name": "stderr",
     "output_type": "stream",
     "text": [
      "/home/charubaiel/.cache/pypoetry/virtualenvs/mlopsini-of6hhwSJ-py3.8/lib/python3.8/site-packages/tqdm/auto.py:21: TqdmWarning: IProgress not found. Please update jupyter and ipywidgets. See https://ipywidgets.readthedocs.io/en/stable/user_install.html\n",
      "  from .autonotebook import tqdm as notebook_tqdm\n"
     ]
    }
   ],
   "source": [
    "import pandas as pd\n",
    "from tqdm.contrib.concurrent import process_map\n",
    "import pathlib\n",
    "import duckdb\n"
   ]
  },
  {
   "cell_type": "code",
   "execution_count": 16,
   "metadata": {},
   "outputs": [],
   "source": [
    "with duckdb.connect('../data/protodb.db') as conn:\n",
    "    df = conn.query('select * from intel.cian').df()"
   ]
  },
  {
   "cell_type": "code",
   "execution_count": 5,
   "metadata": {},
   "outputs": [
    {
     "data": {
      "text/plain": [
       "url                                       price     \n",
       "https://www.cian.ru/sale/flat/286999805/  7900000.0     9\n",
       "https://www.cian.ru/sale/flat/286999306/  7400000.0     9\n",
       "https://www.cian.ru/sale/flat/286998990/  32000000.0    9\n",
       "https://www.cian.ru/sale/flat/286999074/  15900000.0    9\n",
       "https://www.cian.ru/sale/flat/286999107/  29000000.0    9\n",
       "                                                       ..\n",
       "https://www.cian.ru/sale/flat/286821347/  17500000.0    1\n",
       "https://www.cian.ru/sale/flat/286821342/  20000000.0    1\n",
       "https://www.cian.ru/sale/flat/286821339/  18000000.0    1\n",
       "https://www.cian.ru/sale/flat/286821338/  34000000.0    1\n",
       "https://www.cian.ru/sale/flat/287153451/  9950000.0     1\n",
       "Length: 5365, dtype: int64"
      ]
     },
     "execution_count": 5,
     "metadata": {},
     "output_type": "execute_result"
    }
   ],
   "source": [
    "df[['url','price']].value_counts()"
   ]
  },
  {
   "cell_type": "code",
   "execution_count": 3,
   "metadata": {},
   "outputs": [],
   "source": [
    "df['datetime'] = df['datetime'].astype('datetime64[s]')"
   ]
  },
  {
   "cell_type": "code",
   "execution_count": 6,
   "metadata": {},
   "outputs": [],
   "source": [
    "df.drop_duplicates(subset=['url','price']).to_parquet('../data/sample_data.parquet')"
   ]
  },
  {
   "cell_type": "code",
   "execution_count": 9,
   "metadata": {},
   "outputs": [
    {
     "data": {
      "text/plain": [
       "(6160, 32)"
      ]
     },
     "execution_count": 9,
     "metadata": {},
     "output_type": "execute_result"
    }
   ],
   "source": [
    "pd.read_parquet('../data/sample_data.parquet').shape"
   ]
  }
 ],
 "metadata": {
  "kernelspec": {
   "display_name": "Python 3",
   "language": "python",
   "name": "python3"
  },
  "language_info": {
   "codemirror_mode": {
    "name": "ipython",
    "version": 3
   },
   "file_extension": ".py",
   "mimetype": "text/x-python",
   "name": "python",
   "nbconvert_exporter": "python",
   "pygments_lexer": "ipython3",
   "version": "3.8.10"
  },
  "orig_nbformat": 4
 },
 "nbformat": 4,
 "nbformat_minor": 2
}
