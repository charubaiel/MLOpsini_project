{
 "cells": [
  {
   "cell_type": "code",
   "execution_count": 1,
   "metadata": {},
   "outputs": [
    {
     "name": "stderr",
     "output_type": "stream",
     "text": [
      "/home/charubaiel/.cache/pypoetry/virtualenvs/mlopsini-xAkA-eId-py3.8/lib/python3.8/site-packages/tqdm/auto.py:21: TqdmWarning: IProgress not found. Please update jupyter and ipywidgets. See https://ipywidgets.readthedocs.io/en/stable/user_install.html\n",
      "  from .autonotebook import tqdm as notebook_tqdm\n"
     ]
    }
   ],
   "source": [
    "import pandas as pd\n",
    "from tqdm.contrib.concurrent import process_map\n",
    "import pathlib\n",
    "import duckdb\n"
   ]
  },
  {
   "cell_type": "code",
   "execution_count": 2,
   "metadata": {},
   "outputs": [],
   "source": [
    "with duckdb.connect('../data/protodb.db') as conn:\n",
    "    df = conn.query('select * from intel.cian').df()"
   ]
  },
  {
   "cell_type": "code",
   "execution_count": 6,
   "metadata": {},
   "outputs": [
    {
     "data": {
      "text/plain": [
       "(9907, 32)"
      ]
     },
     "execution_count": 6,
     "metadata": {},
     "output_type": "execute_result"
    }
   ],
   "source": [
    "df.shape"
   ]
  },
  {
   "cell_type": "code",
   "execution_count": 5,
   "metadata": {},
   "outputs": [],
   "source": [
    "df.drop_duplicates(subset=['url','price']).to_parquet('../data/sample_data.parquet')"
   ]
  },
  {
   "cell_type": "code",
   "execution_count": 7,
   "metadata": {},
   "outputs": [],
   "source": [
    "sample_ = pd.read_parquet('../data/sample_data.parquet')"
   ]
  },
  {
   "cell_type": "code",
   "execution_count": 9,
   "metadata": {},
   "outputs": [
    {
     "data": {
      "text/plain": [
       "(9305, 32)"
      ]
     },
     "execution_count": 9,
     "metadata": {},
     "output_type": "execute_result"
    }
   ],
   "source": [
    "sample_.shape"
   ]
  },
  {
   "cell_type": "code",
   "execution_count": 54,
   "metadata": {},
   "outputs": [],
   "source": [
    "# with duckdb.connect('../data/protodb.db') as conn:\n",
    "#     conn.execute('create schema if not exists intel ')\n",
    "#     conn.execute('create table if not exists intel.cian as select * from sample_')\n",
    "#     df = conn.query('select * from intel.cian').df()"
   ]
  },
  {
   "cell_type": "code",
   "execution_count": null,
   "metadata": {},
   "outputs": [],
   "source": []
  },
  {
   "cell_type": "code",
   "execution_count": 4,
   "metadata": {},
   "outputs": [],
   "source": [
    "from dagster import Config\n",
    "class ConfigMLFlow(Config):\n",
    "\n",
    "    MLFLOW_URI: str = 'localhost'\n",
    "    MLFLOW_PORT: int = None\n",
    "\n"
   ]
  },
  {
   "cell_type": "code",
   "execution_count": 7,
   "metadata": {},
   "outputs": [],
   "source": [
    "import mlflow"
   ]
  },
  {
   "cell_type": "code",
   "execution_count": 2,
   "metadata": {},
   "outputs": [],
   "source": [
    "import boto3\n",
    "import os"
   ]
  },
  {
   "cell_type": "code",
   "execution_count": null,
   "metadata": {},
   "outputs": [],
   "source": []
  },
  {
   "cell_type": "code",
   "execution_count": 8,
   "metadata": {},
   "outputs": [],
   "source": [
    "my_config = {\n",
    "        'endpoint_url':'http://localhost:9000',\n",
    "        'service_name':'s3',\n",
    "        'AWS_ACCESS_KEY_ID'.lower():'mlflow_user',\n",
    "        'AWS_SECRET_ACCESS_KEY'.lower():'mlflow_password'\n",
    "        \n",
    "    }\n"
   ]
  },
  {
   "cell_type": "code",
   "execution_count": 24,
   "metadata": {},
   "outputs": [],
   "source": [
    "\n",
    "s3 = boto3.client(**my_config)\n",
    "\n",
    "mlflow_s3_bucket = os.getenv('AWS_BUCKET_NAME')\n",
    "\n"
   ]
  },
  {
   "cell_type": "code",
   "execution_count": 30,
   "metadata": {},
   "outputs": [
    {
     "data": {
      "text/plain": [
       "{'ResponseMetadata': {'RequestId': '176005DF5D3AE634',\n",
       "  'HostId': 'e3b0c44298fc1c149afbf4c8996fb92427ae41e4649b934ca495991b7852b855',\n",
       "  'HTTPStatusCode': 200,\n",
       "  'HTTPHeaders': {'accept-ranges': 'bytes',\n",
       "   'content-length': '2172',\n",
       "   'content-security-policy': 'block-all-mixed-content',\n",
       "   'content-type': 'application/xml',\n",
       "   'server': 'MinIO',\n",
       "   'strict-transport-security': 'max-age=31536000; includeSubDomains',\n",
       "   'vary': 'Origin, Accept-Encoding',\n",
       "   'x-amz-id-2': 'e3b0c44298fc1c149afbf4c8996fb92427ae41e4649b934ca495991b7852b855',\n",
       "   'x-amz-request-id': '176005DF5D3AE634',\n",
       "   'x-content-type-options': 'nosniff',\n",
       "   'x-xss-protection': '1; mode=block',\n",
       "   'date': 'Wed, 17 May 2023 19:45:17 GMT'},\n",
       "  'RetryAttempts': 0},\n",
       " 'IsTruncated': False,\n",
       " 'Marker': '',\n",
       " 'Contents': [{'Key': '2/fdcd5ee59c294b7fb76eee59d659d95f/artifacts/models/MLmodel',\n",
       "   'LastModified': datetime.datetime(2023, 5, 17, 19, 25, 13, 649000, tzinfo=tzutc()),\n",
       "   'ETag': '\"28901e455276e148474491b443c7a693\"',\n",
       "   'Size': 1423,\n",
       "   'StorageClass': 'STANDARD',\n",
       "   'Owner': {'DisplayName': 'minio',\n",
       "    'ID': '02d6176db174dc93cb1b899f7c6078f08654445fe8cf1b6ce98d8855f66bdbf4'}},\n",
       "  {'Key': '2/fdcd5ee59c294b7fb76eee59d659d95f/artifacts/models/conda.yaml',\n",
       "   'LastModified': datetime.datetime(2023, 5, 17, 19, 25, 13, 634000, tzinfo=tzutc()),\n",
       "   'ETag': '\"3a70b0871b04bf6ccd44811acacce9b2\"',\n",
       "   'Size': 199,\n",
       "   'StorageClass': 'STANDARD',\n",
       "   'Owner': {'DisplayName': 'minio',\n",
       "    'ID': '02d6176db174dc93cb1b899f7c6078f08654445fe8cf1b6ce98d8855f66bdbf4'}},\n",
       "  {'Key': '2/fdcd5ee59c294b7fb76eee59d659d95f/artifacts/models/model.cb',\n",
       "   'LastModified': datetime.datetime(2023, 5, 17, 19, 25, 13, 567000, tzinfo=tzutc()),\n",
       "   'ETag': '\"820c7a7c1db5dc52987054a6861b2210\"',\n",
       "   'Size': 6371872,\n",
       "   'StorageClass': 'STANDARD',\n",
       "   'Owner': {'DisplayName': 'minio',\n",
       "    'ID': '02d6176db174dc93cb1b899f7c6078f08654445fe8cf1b6ce98d8855f66bdbf4'}},\n",
       "  {'Key': '2/fdcd5ee59c294b7fb76eee59d659d95f/artifacts/models/python_env.yaml',\n",
       "   'LastModified': datetime.datetime(2023, 5, 17, 19, 25, 13, 679000, tzinfo=tzutc()),\n",
       "   'ETag': '\"b008e0b5ff631212040790f0617b865f\"',\n",
       "   'Size': 122,\n",
       "   'StorageClass': 'STANDARD',\n",
       "   'Owner': {'DisplayName': 'minio',\n",
       "    'ID': '02d6176db174dc93cb1b899f7c6078f08654445fe8cf1b6ce98d8855f66bdbf4'}},\n",
       "  {'Key': '2/fdcd5ee59c294b7fb76eee59d659d95f/artifacts/models/requirements.txt',\n",
       "   'LastModified': datetime.datetime(2023, 5, 17, 19, 25, 13, 665000, tzinfo=tzutc()),\n",
       "   'ETag': '\"6bc2508a0e6708ffc22196375548c9af\"',\n",
       "   'Size': 82,\n",
       "   'StorageClass': 'STANDARD',\n",
       "   'Owner': {'DisplayName': 'minio',\n",
       "    'ID': '02d6176db174dc93cb1b899f7c6078f08654445fe8cf1b6ce98d8855f66bdbf4'}}],\n",
       " 'Name': 'mlflow',\n",
       " 'Prefix': '',\n",
       " 'Delimiter': '',\n",
       " 'MaxKeys': 1000,\n",
       " 'EncodingType': 'url'}"
      ]
     },
     "execution_count": 30,
     "metadata": {},
     "output_type": "execute_result"
    }
   ],
   "source": [
    "s3.list_objects(Bucket='mlflow')"
   ]
  },
  {
   "cell_type": "code",
   "execution_count": 27,
   "metadata": {},
   "outputs": [
    {
     "name": "stdout",
     "output_type": "stream",
     "text": [
      "2/fdcd5ee59c294b7fb76eee59d659d95f/artifacts/models/MLmodel\n",
      "2/fdcd5ee59c294b7fb76eee59d659d95f/artifacts/models/conda.yaml\n",
      "2/fdcd5ee59c294b7fb76eee59d659d95f/artifacts/models/model.cb\n",
      "2/fdcd5ee59c294b7fb76eee59d659d95f/artifacts/models/python_env.yaml\n",
      "2/fdcd5ee59c294b7fb76eee59d659d95f/artifacts/models/requirements.txt\n"
     ]
    }
   ],
   "source": [
    "for key in s3.list_objects(Bucket='mlflow')['Contents']:\n",
    "    print(key['Key'])"
   ]
  },
  {
   "cell_type": "code",
   "execution_count": 5,
   "metadata": {},
   "outputs": [
    {
     "data": {
      "text/plain": [
       "'mlflow'"
      ]
     },
     "execution_count": 5,
     "metadata": {},
     "output_type": "execute_result"
    }
   ],
   "source": [
    "mlflow_s3_bucket"
   ]
  },
  {
   "cell_type": "code",
   "execution_count": null,
   "metadata": {},
   "outputs": [],
   "source": [
    "\n",
    "def init_mlflow():\n",
    "   "
   ]
  },
  {
   "cell_type": "code",
   "execution_count": null,
   "metadata": {},
   "outputs": [],
   "source": []
  },
  {
   "cell_type": "code",
   "execution_count": null,
   "metadata": {},
   "outputs": [],
   "source": []
  }
 ],
 "metadata": {
  "kernelspec": {
   "display_name": "Python 3",
   "language": "python",
   "name": "python3"
  },
  "language_info": {
   "codemirror_mode": {
    "name": "ipython",
    "version": 3
   },
   "file_extension": ".py",
   "mimetype": "text/x-python",
   "name": "python",
   "nbconvert_exporter": "python",
   "pygments_lexer": "ipython3",
   "version": "3.8.10"
  },
  "orig_nbformat": 4
 },
 "nbformat": 4,
 "nbformat_minor": 2
}
