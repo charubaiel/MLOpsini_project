{
 "cells": [
  {
   "cell_type": "code",
   "execution_count": 1,
   "metadata": {},
   "outputs": [],
   "source": [
    "import pandas as pd"
   ]
  },
  {
   "cell_type": "code",
   "execution_count": 2,
   "metadata": {},
   "outputs": [],
   "source": [
    "import duckdb\n",
    "from tqdm import tqdm\n",
    "tqdm.pandas()\n",
    "import warnings\n",
    "warnings.simplefilter('ignore')"
   ]
  },
  {
   "cell_type": "code",
   "execution_count": 3,
   "metadata": {},
   "outputs": [],
   "source": [
    "with duckdb.connect('../data/protodb.db') as conn:\n",
    "    df = conn.query('select * from intel.cian').df().drop_duplicates(subset=['url'])"
   ]
  },
  {
   "cell_type": "code",
   "execution_count": 4,
   "metadata": {},
   "outputs": [],
   "source": [
    "\n",
    "df.loc[df['floor'] == df['max_floor'],'is_max_floor'] = True\n",
    "df['is_max_floor'] = df['is_max_floor'].fillna(False)\n",
    "df.loc[df['text'].str.contains('\\d{7,}'),'is_lot'] = True"
   ]
  },
  {
   "cell_type": "code",
   "execution_count": 5,
   "metadata": {},
   "outputs": [
    {
     "data": {
      "text/html": [
       "<div>\n",
       "<style scoped>\n",
       "    .dataframe tbody tr th:only-of-type {\n",
       "        vertical-align: middle;\n",
       "    }\n",
       "\n",
       "    .dataframe tbody tr th {\n",
       "        vertical-align: top;\n",
       "    }\n",
       "\n",
       "    .dataframe thead th {\n",
       "        text-align: right;\n",
       "    }\n",
       "</style>\n",
       "<table border=\"1\" class=\"dataframe\">\n",
       "  <thead>\n",
       "    <tr style=\"text-align: right;\">\n",
       "      <th></th>\n",
       "      <th>Улица</th>\n",
       "      <th>Дом</th>\n",
       "    </tr>\n",
       "  </thead>\n",
       "  <tbody>\n",
       "    <tr>\n",
       "      <th>0</th>\n",
       "      <td>мкр. Первый Московский Город-Парк</td>\n",
       "      <td>улица Никитина</td>\n",
       "    </tr>\n",
       "    <tr>\n",
       "      <th>1</th>\n",
       "      <td>Мичуринский проспект</td>\n",
       "      <td>56</td>\n",
       "    </tr>\n",
       "    <tr>\n",
       "      <th>2</th>\n",
       "      <td>улица Ивана Бабушкина</td>\n",
       "      <td>2К1</td>\n",
       "    </tr>\n",
       "    <tr>\n",
       "      <th>3</th>\n",
       "      <td>Сигнальный 16 ЖК</td>\n",
       "      <td>1.1</td>\n",
       "    </tr>\n",
       "    <tr>\n",
       "      <th>4</th>\n",
       "      <td>Скандинавия ЖК</td>\n",
       "      <td>улица Эдварда Грига</td>\n",
       "    </tr>\n",
       "    <tr>\n",
       "      <th>...</th>\n",
       "      <td>...</td>\n",
       "      <td>...</td>\n",
       "    </tr>\n",
       "    <tr>\n",
       "      <th>415</th>\n",
       "      <td>Судостроительная улица</td>\n",
       "      <td>1</td>\n",
       "    </tr>\n",
       "    <tr>\n",
       "      <th>416</th>\n",
       "      <td>Псковская улица</td>\n",
       "      <td>5К1</td>\n",
       "    </tr>\n",
       "    <tr>\n",
       "      <th>417</th>\n",
       "      <td>1-й Балтийский переулок</td>\n",
       "      <td>3/25</td>\n",
       "    </tr>\n",
       "    <tr>\n",
       "      <th>418</th>\n",
       "      <td>улица Саларьевская</td>\n",
       "      <td>9</td>\n",
       "    </tr>\n",
       "    <tr>\n",
       "      <th>419</th>\n",
       "      <td>Митинская улица</td>\n",
       "      <td>23</td>\n",
       "    </tr>\n",
       "  </tbody>\n",
       "</table>\n",
       "<p>92 rows × 2 columns</p>\n",
       "</div>"
      ],
      "text/plain": [
       "                                 Улица                  Дом\n",
       "0    мкр. Первый Московский Город-Парк       улица Никитина\n",
       "1                 Мичуринский проспект                   56\n",
       "2                улица Ивана Бабушкина                  2К1\n",
       "3                     Сигнальный 16 ЖК                  1.1\n",
       "4                       Скандинавия ЖК  улица Эдварда Грига\n",
       "..                                 ...                  ...\n",
       "415             Судостроительная улица                    1\n",
       "416                    Псковская улица                  5К1\n",
       "417            1-й Балтийский переулок                 3/25\n",
       "418                 улица Саларьевская                    9\n",
       "419                    Митинская улица                   23\n",
       "\n",
       "[92 rows x 2 columns]"
      ]
     },
     "execution_count": 5,
     "metadata": {},
     "output_type": "execute_result"
    }
   ],
   "source": [
    "df.loc[:,['Улица','Дом']]"
   ]
  },
  {
   "cell_type": "code",
   "execution_count": 25,
   "metadata": {},
   "outputs": [],
   "source": [
    "adresses = df.loc[:,['Улица','Дом']].fillna('').apply(', '.join,axis=1)"
   ]
  },
  {
   "cell_type": "code",
   "execution_count": 28,
   "metadata": {},
   "outputs": [],
   "source": [
    "import geopy\n",
    "import re\n",
    "gp = geopy.Nominatim(user_agent='geo_features',timeout=1.44)"
   ]
  },
  {
   "cell_type": "code",
   "execution_count": 65,
   "metadata": {},
   "outputs": [],
   "source": [
    "from geopy import distance"
   ]
  },
  {
   "cell_type": "code",
   "execution_count": 60,
   "metadata": {},
   "outputs": [],
   "source": [
    "center_ = gp.geocode('Москва Красная площадь').point"
   ]
  },
  {
   "cell_type": "code",
   "execution_count": 61,
   "metadata": {},
   "outputs": [
    {
     "data": {
      "text/plain": [
       "Point(55.7536283, 37.62137960067377, 0.0)"
      ]
     },
     "execution_count": 61,
     "metadata": {},
     "output_type": "execute_result"
    }
   ],
   "source": [
    "center_"
   ]
  },
  {
   "cell_type": "code",
   "execution_count": 37,
   "metadata": {},
   "outputs": [
    {
     "name": "stderr",
     "output_type": "stream",
     "text": [
      "100%|██████████| 92/92 [00:46<00:00,  1.97it/s]\n"
     ]
    }
   ],
   "source": []
  },
  {
   "cell_type": "code",
   "execution_count": 52,
   "metadata": {},
   "outputs": [],
   "source": []
  },
  {
   "cell_type": "code",
   "execution_count": 78,
   "metadata": {},
   "outputs": [],
   "source": [
    "def get_geofeatures(adresses:pd.Series) -> pd.DataFrame:\n",
    "    \n",
    "    gp = geopy.Nominatim(user_agent='geo_features',timeout=1.44)\n",
    "    result = {}\n",
    "\n",
    "    indexes = adresses.progress_apply(gp.geocode)\n",
    "    postcode = indexes.apply(lambda x: re.findall('\\d{5,}',x.address)[0] if x is not None else x)\n",
    "    latitude = indexes.apply(lambda x: x.latitude if x is not None else x)\n",
    "    longtitude = indexes.apply(lambda x: x.longitude if x is not None else x)\n",
    "    centreness = indexes.apply(lambda x: distance.distance(x.point,center_).km if x is not None else x)\n",
    "\n",
    "    result.update({\n",
    "        'postcode':postcode,\n",
    "        'lat':latitude,\n",
    "        'long':longtitude,\n",
    "        'dist_to_center':centreness}\n",
    "    )\n",
    "\n",
    "    return pd.DataFrame(result)"
   ]
  },
  {
   "cell_type": "code",
   "execution_count": 79,
   "metadata": {},
   "outputs": [
    {
     "name": "stderr",
     "output_type": "stream",
     "text": [
      "100%|██████████| 92/92 [00:47<00:00,  1.95it/s]\n"
     ]
    }
   ],
   "source": [
    "new_df = get_geofeatures(adresses)"
   ]
  },
  {
   "cell_type": "code",
   "execution_count": 90,
   "metadata": {},
   "outputs": [
    {
     "data": {
      "text/html": [
       "<div>\n",
       "<style scoped>\n",
       "    .dataframe tbody tr th:only-of-type {\n",
       "        vertical-align: middle;\n",
       "    }\n",
       "\n",
       "    .dataframe tbody tr th {\n",
       "        vertical-align: top;\n",
       "    }\n",
       "\n",
       "    .dataframe thead th {\n",
       "        text-align: right;\n",
       "    }\n",
       "</style>\n",
       "<table border=\"1\" class=\"dataframe\">\n",
       "  <thead>\n",
       "    <tr style=\"text-align: right;\">\n",
       "      <th></th>\n",
       "      <th>price</th>\n",
       "      <th>m2</th>\n",
       "      <th>floor</th>\n",
       "      <th>max_floor</th>\n",
       "      <th>rubm2</th>\n",
       "      <th>is_max_floor</th>\n",
       "      <th>lat</th>\n",
       "      <th>long</th>\n",
       "      <th>dist_to_center</th>\n",
       "    </tr>\n",
       "  </thead>\n",
       "  <tbody>\n",
       "    <tr>\n",
       "      <th>price</th>\n",
       "      <td>1.000000</td>\n",
       "      <td>0.861258</td>\n",
       "      <td>0.127838</td>\n",
       "      <td>0.110230</td>\n",
       "      <td>0.850199</td>\n",
       "      <td>0.206533</td>\n",
       "      <td>-0.352609</td>\n",
       "      <td>0.447963</td>\n",
       "      <td>0.411817</td>\n",
       "    </tr>\n",
       "    <tr>\n",
       "      <th>m2</th>\n",
       "      <td>0.861258</td>\n",
       "      <td>1.000000</td>\n",
       "      <td>0.092613</td>\n",
       "      <td>0.157501</td>\n",
       "      <td>0.542628</td>\n",
       "      <td>0.094520</td>\n",
       "      <td>-0.268642</td>\n",
       "      <td>0.237601</td>\n",
       "      <td>0.235200</td>\n",
       "    </tr>\n",
       "    <tr>\n",
       "      <th>floor</th>\n",
       "      <td>0.127838</td>\n",
       "      <td>0.092613</td>\n",
       "      <td>1.000000</td>\n",
       "      <td>0.563734</td>\n",
       "      <td>0.171969</td>\n",
       "      <td>0.224292</td>\n",
       "      <td>-0.122207</td>\n",
       "      <td>0.080532</td>\n",
       "      <td>0.113417</td>\n",
       "    </tr>\n",
       "    <tr>\n",
       "      <th>max_floor</th>\n",
       "      <td>0.110230</td>\n",
       "      <td>0.157501</td>\n",
       "      <td>0.563734</td>\n",
       "      <td>1.000000</td>\n",
       "      <td>0.131002</td>\n",
       "      <td>-0.110544</td>\n",
       "      <td>-0.011552</td>\n",
       "      <td>-0.051705</td>\n",
       "      <td>-0.045848</td>\n",
       "    </tr>\n",
       "    <tr>\n",
       "      <th>rubm2</th>\n",
       "      <td>0.850199</td>\n",
       "      <td>0.542628</td>\n",
       "      <td>0.171969</td>\n",
       "      <td>0.131002</td>\n",
       "      <td>1.000000</td>\n",
       "      <td>0.306925</td>\n",
       "      <td>-0.337052</td>\n",
       "      <td>0.497970</td>\n",
       "      <td>0.455476</td>\n",
       "    </tr>\n",
       "    <tr>\n",
       "      <th>is_max_floor</th>\n",
       "      <td>0.206533</td>\n",
       "      <td>0.094520</td>\n",
       "      <td>0.224292</td>\n",
       "      <td>-0.110544</td>\n",
       "      <td>0.306925</td>\n",
       "      <td>1.000000</td>\n",
       "      <td>0.034190</td>\n",
       "      <td>-0.047326</td>\n",
       "      <td>-0.060813</td>\n",
       "    </tr>\n",
       "    <tr>\n",
       "      <th>lat</th>\n",
       "      <td>-0.352609</td>\n",
       "      <td>-0.268642</td>\n",
       "      <td>-0.122207</td>\n",
       "      <td>-0.011552</td>\n",
       "      <td>-0.337052</td>\n",
       "      <td>0.034190</td>\n",
       "      <td>1.000000</td>\n",
       "      <td>-0.733325</td>\n",
       "      <td>-0.766454</td>\n",
       "    </tr>\n",
       "    <tr>\n",
       "      <th>long</th>\n",
       "      <td>0.447963</td>\n",
       "      <td>0.237601</td>\n",
       "      <td>0.080532</td>\n",
       "      <td>-0.051705</td>\n",
       "      <td>0.497970</td>\n",
       "      <td>-0.047326</td>\n",
       "      <td>-0.733325</td>\n",
       "      <td>1.000000</td>\n",
       "      <td>0.948030</td>\n",
       "    </tr>\n",
       "    <tr>\n",
       "      <th>dist_to_center</th>\n",
       "      <td>0.411817</td>\n",
       "      <td>0.235200</td>\n",
       "      <td>0.113417</td>\n",
       "      <td>-0.045848</td>\n",
       "      <td>0.455476</td>\n",
       "      <td>-0.060813</td>\n",
       "      <td>-0.766454</td>\n",
       "      <td>0.948030</td>\n",
       "      <td>1.000000</td>\n",
       "    </tr>\n",
       "  </tbody>\n",
       "</table>\n",
       "</div>"
      ],
      "text/plain": [
       "                   price        m2     floor  max_floor     rubm2  \\\n",
       "price           1.000000  0.861258  0.127838   0.110230  0.850199   \n",
       "m2              0.861258  1.000000  0.092613   0.157501  0.542628   \n",
       "floor           0.127838  0.092613  1.000000   0.563734  0.171969   \n",
       "max_floor       0.110230  0.157501  0.563734   1.000000  0.131002   \n",
       "rubm2           0.850199  0.542628  0.171969   0.131002  1.000000   \n",
       "is_max_floor    0.206533  0.094520  0.224292  -0.110544  0.306925   \n",
       "lat            -0.352609 -0.268642 -0.122207  -0.011552 -0.337052   \n",
       "long            0.447963  0.237601  0.080532  -0.051705  0.497970   \n",
       "dist_to_center  0.411817  0.235200  0.113417  -0.045848  0.455476   \n",
       "\n",
       "                is_max_floor       lat      long  dist_to_center  \n",
       "price               0.206533 -0.352609  0.447963        0.411817  \n",
       "m2                  0.094520 -0.268642  0.237601        0.235200  \n",
       "floor               0.224292 -0.122207  0.080532        0.113417  \n",
       "max_floor          -0.110544 -0.011552 -0.051705       -0.045848  \n",
       "rubm2               0.306925 -0.337052  0.497970        0.455476  \n",
       "is_max_floor        1.000000  0.034190 -0.047326       -0.060813  \n",
       "lat                 0.034190  1.000000 -0.733325       -0.766454  \n",
       "long               -0.047326 -0.733325  1.000000        0.948030  \n",
       "dist_to_center     -0.060813 -0.766454  0.948030        1.000000  "
      ]
     },
     "execution_count": 90,
     "metadata": {},
     "output_type": "execute_result"
    }
   ],
   "source": [
    "df.join(new_df).select_dtypes(exclude='O').iloc[:,1:].corr()"
   ]
  },
  {
   "cell_type": "code",
   "execution_count": 94,
   "metadata": {},
   "outputs": [
    {
     "data": {
      "text/plain": [
       "['В продаже 3- комнатная квартира улучшенной планировки комфорт класса с параметрами :Этаж - 6Этажей в доме 19В доме пассажирский и грузовой лифтТип дома - монолитно- кирпичный Общая Площадь квартиры - 76 кв',\n",
       " 'м из них жилая - 50Просторная Кухня - 14 кв',\n",
       " 'м Комнаты изолированы друг от друга - 18; 15; 15 кв',\n",
       " 'метр ( комнаты изолированы)Санузел раздельный Квартира распашонка окна выходят на обе стороны Благодаря продуманной застройке этот район продолжает оставаться удобным для жильцов',\n",
       " ' Здесь достаточно пространства в шаговой доступности школа, детский сад, магазины, рынок , аптека ',\n",
       " ' Все готово для продажи квартиры вам остается только посмотреть и решить',\n",
       " ' Один взрослый собственник, обременений нет ',\n",
       " ' Звоните!']"
      ]
     },
     "execution_count": 94,
     "metadata": {},
     "output_type": "execute_result"
    }
   ],
   "source": [
    "df['text'].iloc[0].split('.')"
   ]
  },
  {
   "cell_type": "code",
   "execution_count": 34,
   "metadata": {},
   "outputs": [],
   "source": [
    "def get_text_features(text_series:pd.Series):\n",
    "\n",
    "    result = {}\n",
    "\n",
    "    is_lot = text_series.str.contains('\\d{5,}')\n",
    "    is_jk = text_series.str.contains('жк')\n",
    "    has_park = text_series.str.contains('\\\\bпарк\\\\b')\n",
    "    wc_type = (text_series.str.extract('санузел (\\w{2,})').iloc[:,0].fillna('') + \n",
    "                text_series.str.extract('(\\w{2,}) санузел').iloc[:,0].fillna('')\n",
    "    ).where(lambda x: x!='')\n",
    "\n",
    "    result.update(\n",
    "        {\n",
    "            'is_lot':is_lot,\n",
    "            'is_jk':is_jk,\n",
    "            'wc_type':wc_type,\n",
    "            'has_park':has_park,\n",
    "        }\n",
    "    )\n",
    "\n",
    "    return pd.DataFrame(result)"
   ]
  },
  {
   "cell_type": "code",
   "execution_count": 35,
   "metadata": {},
   "outputs": [
    {
     "data": {
      "text/html": [
       "<div>\n",
       "<style scoped>\n",
       "    .dataframe tbody tr th:only-of-type {\n",
       "        vertical-align: middle;\n",
       "    }\n",
       "\n",
       "    .dataframe tbody tr th {\n",
       "        vertical-align: top;\n",
       "    }\n",
       "\n",
       "    .dataframe thead th {\n",
       "        text-align: right;\n",
       "    }\n",
       "</style>\n",
       "<table border=\"1\" class=\"dataframe\">\n",
       "  <thead>\n",
       "    <tr style=\"text-align: right;\">\n",
       "      <th></th>\n",
       "      <th>is_lot</th>\n",
       "      <th>is_jk</th>\n",
       "      <th>wc_type</th>\n",
       "      <th>has_park</th>\n",
       "    </tr>\n",
       "  </thead>\n",
       "  <tbody>\n",
       "    <tr>\n",
       "      <th>0</th>\n",
       "      <td>False</td>\n",
       "      <td>False</td>\n",
       "      <td>раздельный</td>\n",
       "      <td>False</td>\n",
       "    </tr>\n",
       "    <tr>\n",
       "      <th>1</th>\n",
       "      <td>False</td>\n",
       "      <td>True</td>\n",
       "      <td>гостевой</td>\n",
       "      <td>True</td>\n",
       "    </tr>\n",
       "    <tr>\n",
       "      <th>2</th>\n",
       "      <td>True</td>\n",
       "      <td>False</td>\n",
       "      <td>совмещенный</td>\n",
       "      <td>False</td>\n",
       "    </tr>\n",
       "    <tr>\n",
       "      <th>3</th>\n",
       "      <td>True</td>\n",
       "      <td>False</td>\n",
       "      <td>NaN</td>\n",
       "      <td>False</td>\n",
       "    </tr>\n",
       "    <tr>\n",
       "      <th>4</th>\n",
       "      <td>False</td>\n",
       "      <td>True</td>\n",
       "      <td>NaN</td>\n",
       "      <td>True</td>\n",
       "    </tr>\n",
       "    <tr>\n",
       "      <th>...</th>\n",
       "      <td>...</td>\n",
       "      <td>...</td>\n",
       "      <td>...</td>\n",
       "      <td>...</td>\n",
       "    </tr>\n",
       "    <tr>\n",
       "      <th>415</th>\n",
       "      <td>True</td>\n",
       "      <td>False</td>\n",
       "      <td>NaN</td>\n",
       "      <td>True</td>\n",
       "    </tr>\n",
       "    <tr>\n",
       "      <th>416</th>\n",
       "      <td>True</td>\n",
       "      <td>False</td>\n",
       "      <td>NaN</td>\n",
       "      <td>False</td>\n",
       "    </tr>\n",
       "    <tr>\n",
       "      <th>417</th>\n",
       "      <td>True</td>\n",
       "      <td>False</td>\n",
       "      <td>NaN</td>\n",
       "      <td>False</td>\n",
       "    </tr>\n",
       "    <tr>\n",
       "      <th>418</th>\n",
       "      <td>True</td>\n",
       "      <td>False</td>\n",
       "      <td>NaN</td>\n",
       "      <td>False</td>\n",
       "    </tr>\n",
       "    <tr>\n",
       "      <th>419</th>\n",
       "      <td>True</td>\n",
       "      <td>False</td>\n",
       "      <td>раздельный</td>\n",
       "      <td>True</td>\n",
       "    </tr>\n",
       "  </tbody>\n",
       "</table>\n",
       "<p>92 rows × 4 columns</p>\n",
       "</div>"
      ],
      "text/plain": [
       "     is_lot  is_jk      wc_type  has_park\n",
       "0     False  False   раздельный     False\n",
       "1     False   True     гостевой      True\n",
       "2      True  False  совмещенный     False\n",
       "3      True  False          NaN     False\n",
       "4     False   True          NaN      True\n",
       "..      ...    ...          ...       ...\n",
       "415    True  False          NaN      True\n",
       "416    True  False          NaN     False\n",
       "417    True  False          NaN     False\n",
       "418    True  False          NaN     False\n",
       "419    True  False   раздельный      True\n",
       "\n",
       "[92 rows x 4 columns]"
      ]
     },
     "execution_count": 35,
     "metadata": {},
     "output_type": "execute_result"
    }
   ],
   "source": [
    "get_text_features(df['text'].str.lower())"
   ]
  },
  {
   "cell_type": "code",
   "execution_count": 37,
   "metadata": {},
   "outputs": [
    {
     "data": {
      "text/plain": [
       "Index(['datetime', 'price', 'publish_delta', 'url', 'id', 'text', 'Город',\n",
       "       'Округ', 'Метро', 'Район', 'Улица', 'Дом', 'metro_branch', 'metro_name',\n",
       "       'metro_dist', 'img_list', 'rooms', 'm2', 'floor', 'max_floor', 'rubm2',\n",
       "       'is_max_floor', 'is_lot'],\n",
       "      dtype='object')"
      ]
     },
     "execution_count": 37,
     "metadata": {},
     "output_type": "execute_result"
    }
   ],
   "source": [
    "df.columns"
   ]
  },
  {
   "cell_type": "code",
   "execution_count": 128,
   "metadata": {},
   "outputs": [
    {
     "data": {
      "text/plain": [
       "['Код объекта: 717212',\n",
       " 'Продается просторная 3-х комнатная квартира квартира в жилом комплексе комфорт класса от застройщика \"ПИК\"',\n",
       " ' Корпус введен в эксплуатацию и идет выдача ключей до 30',\n",
       " '05',\n",
       " '2023',\n",
       " ' Квартира расположена на 9-м этаже, продается в чистовой отделке от застройщика',\n",
       " ' Территория полностью обустроена, есть детские площадки для разных возрастов и места отдыха для взрослых',\n",
       " 'Локация очень удобная, на севере Москвы',\n",
       " ' МЦК и станция метро \"Владыкино\" в шаговой доступности от дома',\n",
       " ' Так же рядом находятся автобусные остановки',\n",
       " ' Рядом ВДНХ и ботанический сад',\n",
       " ' Отличные места для прогулок на свежем воздухе',\n",
       " ' Магазины, ТЦ, поклиники, кафе и тд- рядом, можно дойти пешком либо 1-2 остановки на автобусе',\n",
       " ' 1 взрослый собственник, оперативный выход на сделку',\n",
       " 'Возможно приобретение в ипотеку, до получения ключей доступна семейная ипотека',\n",
       " 'Звоните']"
      ]
     },
     "execution_count": 128,
     "metadata": {},
     "output_type": "execute_result"
    }
   ],
   "source": [
    "df['text'].iloc[3].split('.')"
   ]
  },
  {
   "cell_type": "code",
   "execution_count": null,
   "metadata": {},
   "outputs": [],
   "source": []
  },
  {
   "cell_type": "code",
   "execution_count": null,
   "metadata": {},
   "outputs": [],
   "source": []
  },
  {
   "cell_type": "code",
   "execution_count": 40,
   "metadata": {},
   "outputs": [],
   "source": [
    "\n",
    "base_url = 'https://dom.mingkh.ru'\n",
    "page_table = pd.read_html(f'https://dom.mingkh.ru/moskva/moskva/houses?page={1}',extract_links='body')[0]"
   ]
  },
  {
   "cell_type": "code",
   "execution_count": 42,
   "metadata": {},
   "outputs": [],
   "source": [
    "\n",
    "def parse_home_page(home_url):\n",
    "    df_list = pd.read_html(home_url)\n",
    "    _id = home_url.split('/')[-1]\n",
    "    home_data = pd.concat(df_list,axis=0)\\\n",
    "                    .iloc[:,:3].dropna(thresh=1)\\\n",
    "                    .drop_duplicates(subset=0)\\\n",
    "                    .set_index(0).fillna('')\\\n",
    "                    .fillna(method='ffill',axis=1).iloc[:,1]\\\n",
    "                    .rename(_id)\n",
    "    return home_data.rename_axis('id').to_frame().T"
   ]
  },
  {
   "cell_type": "code",
   "execution_count": null,
   "metadata": {},
   "outputs": [],
   "source": [
    "parse_home_page"
   ]
  },
  {
   "cell_type": "code",
   "execution_count": 46,
   "metadata": {},
   "outputs": [],
   "source": [
    "home_url = page_table['Адрес'].iloc[0][1]"
   ]
  },
  {
   "cell_type": "code",
   "execution_count": 48,
   "metadata": {},
   "outputs": [],
   "source": [
    "data_list = pd.read_html(base_url+home_url)"
   ]
  },
  {
   "cell_type": "code",
   "execution_count": 114,
   "metadata": {},
   "outputs": [
    {
     "data": {
      "text/plain": [
       "0\n",
       "Год ввода в эксплуатацию                                                                                 1967\n",
       "Дом признан аварийным                                                                                     Нет\n",
       "Состояние дома                                                                                      Исправный\n",
       "Количество квартир                                                                                        176\n",
       "Количество нежилых помещений                                                                                6\n",
       "Класс энергетической эффективности                                                                 E (Низкий)\n",
       "Количество подъездов                                                                                        6\n",
       "Количество лифтов                                                                                           6\n",
       "Наибольшее количество этажей                                                                                9\n",
       "Наименьшее количество этажей                                                                                1\n",
       "Подземных этажей                                                                                            1\n",
       "Формирование фонда кап. ремонта                                              На специальном счете организации\n",
       "Площадь парковки м2                                                                                         0\n",
       "Наличие в подъездах приспособлений для нужд маломобильных групп населения                                 Нет\n",
       "Тип дома                                                                                  Многоквартирный дом\n",
       "Износ здания, %                                                                                            24\n",
       "Дата, на которую установлен износ здания                                                           15.02.2012\n",
       "Площадь многоквартирного дома, кв.м                                                                   10046.4\n",
       "Площадь жилых помещений м2                                                                             8015.3\n",
       "Площадь нежилых помещений м2                                                                             2031\n",
       "Площадь помещений общего имущества м2                                                                    2524\n",
       "Площадь зем. участка общего имущества м2                                                                    0\n",
       "Серия, тип постройки здания                                                                    Индивидуальный\n",
       "Статус объекта культурного наследия                                                                       Нет\n",
       "Вентиляция                                                                                Вытяжная вентиляция\n",
       "Водоотведение                                                                                     Центральное\n",
       "Система водостоков                                                                         Наружные водостоки\n",
       "Газоснабжение                                                                                     Центральное\n",
       "Горячее водоснабжение                                                          Центральное (закрытая система)\n",
       "Система пожаротушения                                                                             Отсутствует\n",
       "Теплоснабжение                                                                                    Центральная\n",
       "Холодное водоснабжение                                                                            Центральное\n",
       "Электроснабжение                                                                                  Центральное\n",
       "Количество вводов в дом, ед.                                                                                2\n",
       "Мусоропровод                                                                             На лестничной клетке\n",
       "Количество мусоропроводов, ед.                                                                              6\n",
       "Несущие стены                                                                                          Кирпич\n",
       "Площадь подвала, кв.м                                                                                 1942.40\n",
       "Фундамент                                                                              Столбчатый (столбовой)\n",
       "Перекрытия                                                                          Перекрытия железобетонные\n",
       "Cистема горячего водоснабжения                                                 Cистема горячего водоснабжения\n",
       "Тип системы горячего водоснабжения                                             Центральное (закрытая система)\n",
       "Система водоотведения                                                                   Система водоотведения\n",
       "Тип системы водоотведения                                                        Централизованная канализация\n",
       "Система газоснабжения                                                                   Система газоснабжения\n",
       "Тип системы газоснабжения                                                                         центральное\n",
       "Система электроснабжения                                                             Система электроснабжения\n",
       "Количество вводов системы электроснабжения                                                           2 единиц\n",
       "Фундамент                                                                                           Фундамент\n",
       "Тип фундамента                                                                         Столбчатый (столбовой)\n",
       "Внутренние стены                                                                             Внутренние стены\n",
       "Тип внутренних стен                                                                           Стены кирпичные\n",
       "Физический износ                                                                                        4.6 %\n",
       "Перекрытия                                                                                         Перекрытия\n",
       "Тип перекрытия                                                                      Перекрытия железобетонные\n",
       "Крыша                                                                                                   Крыша\n",
       "Форма крыши                                                                                           Плоская\n",
       "Тип кровли                                                                                           Рулонная\n",
       "Name: 2, dtype: object"
      ]
     },
     "execution_count": 114,
     "metadata": {},
     "output_type": "execute_result"
    }
   ],
   "source": [
    "pd.concat(data_list).iloc[:,:3]\\\n",
    "    .dropna(thresh=1)\\\n",
    "    .set_index(0)\\\n",
    "    .fillna(method='ffill',axis=1)\\\n",
    "    .iloc[:,1]"
   ]
  },
  {
   "cell_type": "code",
   "execution_count": 116,
   "metadata": {},
   "outputs": [],
   "source": [
    "\n",
    "base_data = pd.read_csv('../base_home_data.csv')"
   ]
  }
 ],
 "metadata": {
  "kernelspec": {
   "display_name": "Python 3",
   "language": "python",
   "name": "python3"
  },
  "language_info": {
   "codemirror_mode": {
    "name": "ipython",
    "version": 3
   },
   "file_extension": ".py",
   "mimetype": "text/x-python",
   "name": "python",
   "nbconvert_exporter": "python",
   "pygments_lexer": "ipython3",
   "version": "3.10.10"
  },
  "orig_nbformat": 4
 },
 "nbformat": 4,
 "nbformat_minor": 2
}
