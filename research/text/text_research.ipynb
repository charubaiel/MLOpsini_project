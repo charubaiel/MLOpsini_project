{
 "cells": [
  {
   "cell_type": "code",
   "execution_count": 105,
   "metadata": {},
   "outputs": [],
   "source": [
    "import pandas as pd\n",
    "import duckdb\n",
    "from tqdm import tqdm\n",
    "from text import get_sentence_vector,check_similarity,navec,cosine"
   ]
  },
  {
   "cell_type": "code",
   "execution_count": 2,
   "metadata": {},
   "outputs": [],
   "source": [
    "with duckdb.connect('../../data/protodb.db') as conn:\n",
    "    df = conn.query('select * from avito').df()"
   ]
  },
  {
   "cell_type": "code",
   "execution_count": 29,
   "metadata": {},
   "outputs": [],
   "source": [
    "sample_full_text = df.loc[:,['text','adress','metro_dist','metro','rooms']].astype(str).apply('. '.join,axis=1)"
   ]
  },
  {
   "cell_type": "markdown",
   "metadata": {},
   "source": [
    "# pretrained"
   ]
  },
  {
   "cell_type": "code",
   "execution_count": 63,
   "metadata": {},
   "outputs": [],
   "source": [
    "my_text = 'трехкомнатная квартира площадью 70 или 80 квадратных метров с балконом в гостинной и панорамными окнами, раздельный санузел, среднего размера кухня, метро в пешой доступности, окна спальни выходят на запад, без многоэтажек, центральное водоснабжение'"
   ]
  },
  {
   "cell_type": "code",
   "execution_count": 99,
   "metadata": {},
   "outputs": [
    {
     "data": {
      "text/plain": [
       "179"
      ]
     },
     "execution_count": 99,
     "metadata": {},
     "output_type": "execute_result"
    }
   ],
   "source": [
    "sample_full_text.str.lower().apply(lambda x: check_similarity(x,my_text)).sort_values().idxmin()"
   ]
  },
  {
   "cell_type": "code",
   "execution_count": 73,
   "metadata": {},
   "outputs": [
    {
     "data": {
      "text/plain": [
       "'Продаётся 3-х комнатная квартира площадью 65 кв. М (плюс две лоджии 6,5 и 3 кв. М). Площадь комнат 18,6+14,2+11,2 кв. М, площадь кухни 9,4 кв. М, санузел раздельный, 13 этаж 14 этажного дома. Дом расположен в тихом зеленом дворе, окна выходят на 3 сторо'"
      ]
     },
     "execution_count": 73,
     "metadata": {},
     "output_type": "execute_result"
    }
   ],
   "source": [
    "df.loc[179]['text']"
   ]
  },
  {
   "cell_type": "code",
   "execution_count": 72,
   "metadata": {},
   "outputs": [
    {
     "data": {
      "text/plain": [
       "'Квартира просторная, 70 метров, окна с панорамным видом, выходят на 3 стороны. Потолки высотой более 3 метров. Метро «Технопарк» в 5 минутах от дома, прогулочным шагом. Планировка евро трех комнатная квартира. Во дворах уже есть спортивные площадки, разл'"
      ]
     },
     "execution_count": 72,
     "metadata": {},
     "output_type": "execute_result"
    }
   ],
   "source": [
    "df.loc[341]['text']"
   ]
  },
  {
   "cell_type": "code",
   "execution_count": 75,
   "metadata": {},
   "outputs": [
    {
     "data": {
      "text/plain": [
       "'Продается замечательная большая и светлая квартира в 10 минутах неспешным шагом до Мцд «Сетунь». В квартире заменены окна на стеклопакеты, совмещенный просторный санузел, дорогой кухонный гарнитур, большая гардеробная комната, две изолированные комнаты и о'"
      ]
     },
     "execution_count": 75,
     "metadata": {},
     "output_type": "execute_result"
    }
   ],
   "source": [
    "df.loc[227]['text']"
   ]
  },
  {
   "cell_type": "code",
   "execution_count": null,
   "metadata": {},
   "outputs": [],
   "source": []
  },
  {
   "cell_type": "markdown",
   "metadata": {},
   "source": [
    "# custom"
   ]
  },
  {
   "cell_type": "code",
   "execution_count": 84,
   "metadata": {},
   "outputs": [],
   "source": [
    "import gensim"
   ]
  },
  {
   "cell_type": "code",
   "execution_count": 85,
   "metadata": {},
   "outputs": [],
   "source": [
    "gt_corpus = sample_full_text.str.lower().str.split().tolist()"
   ]
  },
  {
   "cell_type": "code",
   "execution_count": 86,
   "metadata": {},
   "outputs": [],
   "source": [
    "model = gensim.models.FastText(vector_size=500,window=5,min_count=1)"
   ]
  },
  {
   "cell_type": "code",
   "execution_count": 87,
   "metadata": {},
   "outputs": [],
   "source": [
    "model.build_vocab(gt_corpus)"
   ]
  },
  {
   "cell_type": "code",
   "execution_count": 89,
   "metadata": {},
   "outputs": [
    {
     "name": "stderr",
     "output_type": "stream",
     "text": [
      "100%|██████████| 10/10 [00:10<00:00,  1.00s/it]\n"
     ]
    }
   ],
   "source": [
    "alpha = 0.01\n",
    "for i in tqdm(range(10)):\n",
    "    # alpha-=0.001\n",
    "    model.train(gt_corpus, total_examples=len(gt_corpus), epochs=5,start_alpha=alpha)"
   ]
  },
  {
   "cell_type": "code",
   "execution_count": 107,
   "metadata": {},
   "outputs": [
    {
     "data": {
      "text/plain": [
       "227    0.002860\n",
       "201    0.002981\n",
       "214    0.003014\n",
       "196    0.003132\n",
       "223    0.003460\n",
       "         ...   \n",
       "43     0.023798\n",
       "268    0.025880\n",
       "10     0.159505\n",
       "11     0.159505\n",
       "9      0.161593\n",
       "Length: 452, dtype: float64"
      ]
     },
     "execution_count": 107,
     "metadata": {},
     "output_type": "execute_result"
    }
   ],
   "source": [
    "sample_full_text.str.lower().apply(lambda x: cosine(model.wv.get_mean_vector(x),model.wv.get_mean_vector(my_text))).sort_values()"
   ]
  },
  {
   "cell_type": "code",
   "execution_count": 116,
   "metadata": {},
   "outputs": [
    {
     "data": {
      "text/plain": [
       "'Продаётся 3-комнатная квартира в 9-этажном панельном доме. Комнаты смежно-изолированные, окна выходят на восток и запад. На окнах стеклопакеты, раздельный санузел, есть застеклённая лоджия. В доме был сделан капитальный ремонт, с заменой в квартире батарей'"
      ]
     },
     "execution_count": 116,
     "metadata": {},
     "output_type": "execute_result"
    }
   ],
   "source": [
    "df.loc[214]['text']"
   ]
  },
  {
   "cell_type": "code",
   "execution_count": 115,
   "metadata": {},
   "outputs": [
    {
     "data": {
      "text/plain": [
       "'Современный и уютный ЖК «В Солнцево» с огромным внутренним двором, полностью оснащенным и озелененным в соответствии с современными стандартами. Двор ЖК обособленный, закрытый и поэтому тихий и уютный. Чистый просторный подьезд. Консьерж. Квартира светлая.'"
      ]
     },
     "execution_count": 115,
     "metadata": {},
     "output_type": "execute_result"
    }
   ],
   "source": [
    "df.loc[223]['text']"
   ]
  },
  {
   "cell_type": "code",
   "execution_count": 109,
   "metadata": {},
   "outputs": [
    {
     "data": {
      "text/plain": [
       "datetime                          2023-04-08 12:59:36.537817+00:00\n",
       "publish_delta                                         4 часа назад\n",
       "id                                                     i2897236193\n",
       "url              /moskva/kvartiry/3-k._kvartira_65m_1314et._289...\n",
       "text             Продаётся 3-х комнатная квартира площадью 65 к...\n",
       "price                                                   19900000.0\n",
       "JK                                                                \n",
       "adress                                     5-я Кожуховская ул., 11\n",
       "metro_dist                                               6–10 мин.\n",
       "metro                                                Автозаводская\n",
       "metro_branch                                     rgb(79, 176, 79);\n",
       "street                                         5-я Кожуховская ул.\n",
       "is_new                                                        True\n",
       "rooms                                                3-к. квартира\n",
       "m2                                                            65.0\n",
       "floor                                                         13.0\n",
       "max_floor                                                     14.0\n",
       "rubm2                                                306153.846154\n",
       "Name: 179, dtype: object"
      ]
     },
     "execution_count": 109,
     "metadata": {},
     "output_type": "execute_result"
    }
   ],
   "source": [
    "df.loc[179]"
   ]
  }
 ],
 "metadata": {
  "kernelspec": {
   "display_name": "Python 3",
   "language": "python",
   "name": "python3"
  },
  "language_info": {
   "codemirror_mode": {
    "name": "ipython",
    "version": 3
   },
   "file_extension": ".py",
   "mimetype": "text/x-python",
   "name": "python",
   "nbconvert_exporter": "python",
   "pygments_lexer": "ipython3",
   "version": "3.8.10"
  },
  "orig_nbformat": 4
 },
 "nbformat": 4,
 "nbformat_minor": 2
}
