{
 "cells": [
  {
   "cell_type": "code",
   "execution_count": 2,
   "metadata": {},
   "outputs": [],
   "source": [
    "import pandas as pd\n",
    "from bs4 import BeautifulSoup\n",
    "import duckdb\n",
    "import hashlib\n",
    "from io import BytesIO"
   ]
  },
  {
   "cell_type": "code",
   "execution_count": 15,
   "metadata": {},
   "outputs": [],
   "source": [
    "conn = duckdb.connect('../../data/protodb.db')\n",
    "# df = conn.execute(f'''\n",
    "#             with upd as (select max(update_date) as last_update from raw.cian)\n",
    "\n",
    "#             select * from raw.cian where update_date = (select last_update from upd)\n",
    "#             ''').df()\n",
    "df = conn.execute(f'''\n",
    "\n",
    "            select * from raw.cian\n",
    "\n",
    "            ''').df()\n",
    "conn.close()"
   ]
  },
  {
   "cell_type": "code",
   "execution_count": 16,
   "metadata": {},
   "outputs": [
    {
     "data": {
      "text/html": [
       "<div>\n",
       "<style scoped>\n",
       "    .dataframe tbody tr th:only-of-type {\n",
       "        vertical-align: middle;\n",
       "    }\n",
       "\n",
       "    .dataframe tbody tr th {\n",
       "        vertical-align: top;\n",
       "    }\n",
       "\n",
       "    .dataframe thead th {\n",
       "        text-align: right;\n",
       "    }\n",
       "</style>\n",
       "<table border=\"1\" class=\"dataframe\">\n",
       "  <thead>\n",
       "    <tr style=\"text-align: right;\">\n",
       "      <th></th>\n",
       "      <th>page_hash</th>\n",
       "      <th>page_html</th>\n",
       "      <th>update_date</th>\n",
       "    </tr>\n",
       "  </thead>\n",
       "  <tbody>\n",
       "    <tr>\n",
       "      <th>0</th>\n",
       "      <td>8dd3f11e3ebe6739c8a4440ad28f82b2</td>\n",
       "      <td>[]</td>\n",
       "      <td>1682539398864740000</td>\n",
       "    </tr>\n",
       "    <tr>\n",
       "      <th>1</th>\n",
       "      <td>d92945d1cef33f0dd7ee3c8435324d4e</td>\n",
       "      <td>[]</td>\n",
       "      <td>1682539398864740000</td>\n",
       "    </tr>\n",
       "    <tr>\n",
       "      <th>2</th>\n",
       "      <td>42bbae74e56ee3da88c01194874f0530</td>\n",
       "      <td>[]</td>\n",
       "      <td>1682539400490380000</td>\n",
       "    </tr>\n",
       "    <tr>\n",
       "      <th>3</th>\n",
       "      <td>5f4c25f60c7e3ab28ea5a3c8c8d596ce</td>\n",
       "      <td>[]</td>\n",
       "      <td>1682539400490380000</td>\n",
       "    </tr>\n",
       "    <tr>\n",
       "      <th>4</th>\n",
       "      <td>1b67f67bb9dfc2600240f90d6f7633c4</td>\n",
       "      <td>[]</td>\n",
       "      <td>1682539401794754000</td>\n",
       "    </tr>\n",
       "    <tr>\n",
       "      <th>5</th>\n",
       "      <td>0ac0ba75c09337b35d185dece0c7d06c</td>\n",
       "      <td>[]</td>\n",
       "      <td>1682539401794754000</td>\n",
       "    </tr>\n",
       "  </tbody>\n",
       "</table>\n",
       "</div>"
      ],
      "text/plain": [
       "                          page_hash page_html          update_date\n",
       "0  8dd3f11e3ebe6739c8a4440ad28f82b2        []  1682539398864740000\n",
       "1  d92945d1cef33f0dd7ee3c8435324d4e        []  1682539398864740000\n",
       "2  42bbae74e56ee3da88c01194874f0530        []  1682539400490380000\n",
       "3  5f4c25f60c7e3ab28ea5a3c8c8d596ce        []  1682539400490380000\n",
       "4  1b67f67bb9dfc2600240f90d6f7633c4        []  1682539401794754000\n",
       "5  0ac0ba75c09337b35d185dece0c7d06c        []  1682539401794754000"
      ]
     },
     "execution_count": 16,
     "metadata": {},
     "output_type": "execute_result"
    }
   ],
   "source": [
    "df"
   ]
  },
  {
   "cell_type": "code",
   "execution_count": null,
   "metadata": {},
   "outputs": [],
   "source": []
  }
 ],
 "metadata": {
  "kernelspec": {
   "display_name": "Python 3",
   "language": "python",
   "name": "python3"
  },
  "language_info": {
   "codemirror_mode": {
    "name": "ipython",
    "version": 3
   },
   "file_extension": ".py",
   "mimetype": "text/x-python",
   "name": "python",
   "nbconvert_exporter": "python",
   "pygments_lexer": "ipython3",
   "version": "3.8.10"
  },
  "orig_nbformat": 4
 },
 "nbformat": 4,
 "nbformat_minor": 2
}
