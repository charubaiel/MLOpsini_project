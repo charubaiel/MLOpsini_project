{
 "cells": [
  {
   "cell_type": "code",
   "execution_count": 9,
   "metadata": {},
   "outputs": [],
   "source": [
    "import pandas as pd\n",
    "import requests as r \n",
    "import duckdb \n",
    "from difflib import SequenceMatcher"
   ]
  },
  {
   "cell_type": "code",
   "execution_count": 2,
   "metadata": {},
   "outputs": [],
   "source": [
    "with duckdb.connect('../../data/protodb.db') as conn:\n",
    "    df = conn.query('select * from intel.cian').df().drop_duplicates(subset=['url'])"
   ]
  },
  {
   "cell_type": "code",
   "execution_count": 3,
   "metadata": {},
   "outputs": [],
   "source": [
    "import re"
   ]
  },
  {
   "cell_type": "code",
   "execution_count": 4,
   "metadata": {},
   "outputs": [],
   "source": [
    "base_search_url = 'https://dom.mingkh.ru/search?searchtype=house&address='\n",
    "BASE_URL = 'https://dom.mingkh.ru'"
   ]
  },
  {
   "cell_type": "code",
   "execution_count": 5,
   "metadata": {},
   "outputs": [],
   "source": [
    "df ['Дом'] = df['Дом'].fillna('').apply(lambda x: re.sub('(?!:\\d+)(К)',' корпус ',x))"
   ]
  },
  {
   "cell_type": "code",
   "execution_count": 25,
   "metadata": {},
   "outputs": [],
   "source": [
    "sample_ = df.loc[:,['Город','Округ','Улица','Дом']].iloc[3]"
   ]
  },
  {
   "cell_type": "code",
   "execution_count": 26,
   "metadata": {},
   "outputs": [
    {
     "data": {
      "text/plain": [
       "Город              Москва\n",
       "Округ                СВАО\n",
       "Улица    Сигнальный 16 ЖК\n",
       "Дом                   1.1\n",
       "Name: 3, dtype: object"
      ]
     },
     "execution_count": 26,
     "metadata": {},
     "output_type": "execute_result"
    }
   ],
   "source": [
    "sample_"
   ]
  },
  {
   "cell_type": "code",
   "execution_count": 37,
   "metadata": {},
   "outputs": [
    {
     "data": {
      "text/plain": [
       "'Москва СВАО Сигнальный 16 ЖК 1.1'"
      ]
     },
     "execution_count": 37,
     "metadata": {},
     "output_type": "execute_result"
    }
   ],
   "source": [
    "' '.join(sample_.to_dict().values())"
   ]
  },
  {
   "cell_type": "code",
   "execution_count": 95,
   "metadata": {},
   "outputs": [],
   "source": [
    "def search_home_url(adress_dict:dict):\n",
    "\n",
    "    home_query = ' '.join(adress_dict.values()).replace(' ','+')\n",
    "    adress = adress_dict['Улица'] + ', ' + adress_dict['Дом']\n",
    "\n",
    "\n",
    "    request_home_query = r.utils.quote(home_query)\n",
    "    request_url = base_search_url + request_home_query\n",
    "\n",
    "\n",
    "    search_table = pd.read_html(request_url,extract_links='body')[0]\n",
    "    search_table[['Адрес','home_url']] = search_table['Адрес'].apply('|'.join).str.split('|',expand=True)\n",
    "    search_table['match'] = search_table['Адрес'].apply(lambda x: SequenceMatcher(None,x,adress).ratio())\n",
    "\n",
    "    \n",
    "    result = search_table.set_index('home_url')['match'].idxmax()\n",
    "\n",
    "    return result"
   ]
  },
  {
   "cell_type": "code",
   "execution_count": 219,
   "metadata": {},
   "outputs": [],
   "source": [
    "\n",
    "def parse_home_page(url: str):\n",
    "    full_url = BASE_URL + url\n",
    "    _id = url.split('/')[-1]\n",
    "    df_list = pd.read_html(full_url)\n",
    "    home_data = pd.concat(df_list)\\\n",
    "        .iloc[:, :3]\\\n",
    "        .dropna(thresh=1)\\\n",
    "        .set_index(0)\\\n",
    "        .fillna(method='ffill', axis=1)\\\n",
    "        .iloc[:, 1]\\\n",
    "        .rename(_id)\\\n",
    "        .rename_axis('id')\n",
    "    \n",
    "    result = home_data.reset_index().drop_duplicates().pipe(\n",
    "        lambda x: x.loc[x.iloc[:,0]!=x.iloc[:,1]]\n",
    "    ).set_index('id')\n",
    "    return result.T.assign(url=url).T.iloc[:,0]"
   ]
  },
  {
   "cell_type": "code",
   "execution_count": 243,
   "metadata": {},
   "outputs": [],
   "source": [
    "def get_advanced_home_data(name_series:pd.Series):\n",
    "    url_ = search_home_url(name_series)\n",
    "    result = parse_home_page(url_)\n",
    "    return result.to_dict()\n"
   ]
  },
  {
   "cell_type": "code",
   "execution_count": 254,
   "metadata": {},
   "outputs": [],
   "source": [
    "def get_advanced_home_features(home_adress_df):\n",
    "    result_list = {}\n",
    "    for idx in home_adress_df.index:\n",
    "        result_list[idx] = get_advanced_home_data(home_adress_df.fillna('').loc[idx].to_dict())\n",
    "\n",
    "    return pd.DataFrame(result_list).T"
   ]
  },
  {
   "cell_type": "code",
   "execution_count": 255,
   "metadata": {},
   "outputs": [],
   "source": [
    "new_sample = {\n",
    "    'Город':'Волгоград',\n",
    "    'Улица':'Еременко',\n",
    "    'Дом':'102',\n",
    "}"
   ]
  },
  {
   "cell_type": "code",
   "execution_count": 256,
   "metadata": {},
   "outputs": [],
   "source": [
    "home_adress_df = df.loc[:,['Город','Округ','Улица','Дом']]"
   ]
  },
  {
   "cell_type": "code",
   "execution_count": 257,
   "metadata": {},
   "outputs": [],
   "source": [
    "zz = get_advanced_home_features(home_adress_df.iloc[:5])"
   ]
  },
  {
   "cell_type": "code",
   "execution_count": 258,
   "metadata": {},
   "outputs": [
    {
     "data": {
      "text/html": [
       "<div>\n",
       "<style scoped>\n",
       "    .dataframe tbody tr th:only-of-type {\n",
       "        vertical-align: middle;\n",
       "    }\n",
       "\n",
       "    .dataframe tbody tr th {\n",
       "        vertical-align: top;\n",
       "    }\n",
       "\n",
       "    .dataframe thead th {\n",
       "        text-align: right;\n",
       "    }\n",
       "</style>\n",
       "<table border=\"1\" class=\"dataframe\">\n",
       "  <thead>\n",
       "    <tr style=\"text-align: right;\">\n",
       "      <th></th>\n",
       "      <th>Год ввода в эксплуатацию</th>\n",
       "      <th>Дом признан аварийным</th>\n",
       "      <th>Состояние дома</th>\n",
       "      <th>Количество квартир</th>\n",
       "      <th>Количество нежилых помещений</th>\n",
       "      <th>Количество балконов</th>\n",
       "      <th>Количество лоджий</th>\n",
       "      <th>Класс энергетической эффективности</th>\n",
       "      <th>Количество подъездов</th>\n",
       "      <th>Количество лифтов</th>\n",
       "      <th>...</th>\n",
       "      <th>Вентиляция</th>\n",
       "      <th>Система водостоков</th>\n",
       "      <th>Газоснабжение</th>\n",
       "      <th>Система пожаротушения</th>\n",
       "      <th>Электроснабжение</th>\n",
       "      <th>Мусоропровод</th>\n",
       "      <th>Площадь подвала, кв.м</th>\n",
       "      <th>Год проведения последнего капитального ремонта</th>\n",
       "      <th>Тип системы газоснабжения</th>\n",
       "      <th>Количество вводов системы газоснабжения</th>\n",
       "    </tr>\n",
       "  </thead>\n",
       "  <tbody>\n",
       "    <tr>\n",
       "      <th>0</th>\n",
       "      <td>2014</td>\n",
       "      <td>Нет</td>\n",
       "      <td>Исправный</td>\n",
       "      <td>283</td>\n",
       "      <td>1</td>\n",
       "      <td>72</td>\n",
       "      <td>304</td>\n",
       "      <td>С (Нормальный)</td>\n",
       "      <td>4</td>\n",
       "      <td>8</td>\n",
       "      <td>...</td>\n",
       "      <td>NaN</td>\n",
       "      <td>NaN</td>\n",
       "      <td>NaN</td>\n",
       "      <td>NaN</td>\n",
       "      <td>NaN</td>\n",
       "      <td>NaN</td>\n",
       "      <td>NaN</td>\n",
       "      <td>NaN</td>\n",
       "      <td>NaN</td>\n",
       "      <td>NaN</td>\n",
       "    </tr>\n",
       "    <tr>\n",
       "      <th>1</th>\n",
       "      <td>2020</td>\n",
       "      <td>Нет</td>\n",
       "      <td>Исправный</td>\n",
       "      <td>1303</td>\n",
       "      <td>35</td>\n",
       "      <td>NaN</td>\n",
       "      <td>NaN</td>\n",
       "      <td>NaN</td>\n",
       "      <td>3</td>\n",
       "      <td>17</td>\n",
       "      <td>...</td>\n",
       "      <td>NaN</td>\n",
       "      <td>NaN</td>\n",
       "      <td>NaN</td>\n",
       "      <td>NaN</td>\n",
       "      <td>NaN</td>\n",
       "      <td>NaN</td>\n",
       "      <td>NaN</td>\n",
       "      <td>NaN</td>\n",
       "      <td>NaN</td>\n",
       "      <td>NaN</td>\n",
       "    </tr>\n",
       "    <tr>\n",
       "      <th>2</th>\n",
       "      <td>1957</td>\n",
       "      <td>Нет</td>\n",
       "      <td>Исправный</td>\n",
       "      <td>60</td>\n",
       "      <td>8</td>\n",
       "      <td>48</td>\n",
       "      <td>NaN</td>\n",
       "      <td>D (Пониженный)</td>\n",
       "      <td>3</td>\n",
       "      <td>3</td>\n",
       "      <td>...</td>\n",
       "      <td>Вытяжная вентиляция</td>\n",
       "      <td>Внутренние водостоки</td>\n",
       "      <td>Центральное</td>\n",
       "      <td>Отсутствует</td>\n",
       "      <td>Центральное</td>\n",
       "      <td>Отсутствует</td>\n",
       "      <td>1103</td>\n",
       "      <td>2020</td>\n",
       "      <td>центральное</td>\n",
       "      <td>1 единиц</td>\n",
       "    </tr>\n",
       "    <tr>\n",
       "      <th>3</th>\n",
       "      <td>1979</td>\n",
       "      <td>Нет</td>\n",
       "      <td>Исправный</td>\n",
       "      <td>NaN</td>\n",
       "      <td>NaN</td>\n",
       "      <td>NaN</td>\n",
       "      <td>NaN</td>\n",
       "      <td>NaN</td>\n",
       "      <td>NaN</td>\n",
       "      <td>NaN</td>\n",
       "      <td>...</td>\n",
       "      <td>NaN</td>\n",
       "      <td>NaN</td>\n",
       "      <td>NaN</td>\n",
       "      <td>NaN</td>\n",
       "      <td>NaN</td>\n",
       "      <td>NaN</td>\n",
       "      <td>NaN</td>\n",
       "      <td>NaN</td>\n",
       "      <td>NaN</td>\n",
       "      <td>NaN</td>\n",
       "    </tr>\n",
       "    <tr>\n",
       "      <th>4</th>\n",
       "      <td>2021</td>\n",
       "      <td>Нет</td>\n",
       "      <td>Исправный</td>\n",
       "      <td>592</td>\n",
       "      <td>61</td>\n",
       "      <td>NaN</td>\n",
       "      <td>NaN</td>\n",
       "      <td>NaN</td>\n",
       "      <td>9</td>\n",
       "      <td>18</td>\n",
       "      <td>...</td>\n",
       "      <td>NaN</td>\n",
       "      <td>NaN</td>\n",
       "      <td>NaN</td>\n",
       "      <td>NaN</td>\n",
       "      <td>NaN</td>\n",
       "      <td>NaN</td>\n",
       "      <td>NaN</td>\n",
       "      <td>NaN</td>\n",
       "      <td>NaN</td>\n",
       "      <td>NaN</td>\n",
       "    </tr>\n",
       "  </tbody>\n",
       "</table>\n",
       "<p>5 rows × 70 columns</p>\n",
       "</div>"
      ],
      "text/plain": [
       "  Год ввода в эксплуатацию Дом признан аварийным Состояние дома  \\\n",
       "0                     2014                   Нет      Исправный   \n",
       "1                     2020                   Нет      Исправный   \n",
       "2                     1957                   Нет      Исправный   \n",
       "3                     1979                   Нет      Исправный   \n",
       "4                     2021                   Нет      Исправный   \n",
       "\n",
       "  Количество квартир Количество нежилых помещений Количество балконов  \\\n",
       "0                283                            1                  72   \n",
       "1               1303                           35                 NaN   \n",
       "2                 60                            8                  48   \n",
       "3                NaN                          NaN                 NaN   \n",
       "4                592                           61                 NaN   \n",
       "\n",
       "  Количество лоджий Класс энергетической эффективности Количество подъездов  \\\n",
       "0               304                     С (Нормальный)                    4   \n",
       "1               NaN                                NaN                    3   \n",
       "2               NaN                     D (Пониженный)                    3   \n",
       "3               NaN                                NaN                  NaN   \n",
       "4               NaN                                NaN                    9   \n",
       "\n",
       "  Количество лифтов  ...           Вентиляция    Система водостоков  \\\n",
       "0                 8  ...                  NaN                   NaN   \n",
       "1                17  ...                  NaN                   NaN   \n",
       "2                 3  ...  Вытяжная вентиляция  Внутренние водостоки   \n",
       "3               NaN  ...                  NaN                   NaN   \n",
       "4                18  ...                  NaN                   NaN   \n",
       "\n",
       "  Газоснабжение Система пожаротушения Электроснабжение Мусоропровод  \\\n",
       "0           NaN                   NaN              NaN          NaN   \n",
       "1           NaN                   NaN              NaN          NaN   \n",
       "2   Центральное           Отсутствует      Центральное  Отсутствует   \n",
       "3           NaN                   NaN              NaN          NaN   \n",
       "4           NaN                   NaN              NaN          NaN   \n",
       "\n",
       "  Площадь подвала, кв.м Год проведения последнего капитального ремонта  \\\n",
       "0                   NaN                                            NaN   \n",
       "1                   NaN                                            NaN   \n",
       "2                  1103                                           2020   \n",
       "3                   NaN                                            NaN   \n",
       "4                   NaN                                            NaN   \n",
       "\n",
       "  Тип системы газоснабжения Количество вводов системы газоснабжения  \n",
       "0                       NaN                                     NaN  \n",
       "1                       NaN                                     NaN  \n",
       "2               центральное                                1 единиц  \n",
       "3                       NaN                                     NaN  \n",
       "4                       NaN                                     NaN  \n",
       "\n",
       "[5 rows x 70 columns]"
      ]
     },
     "execution_count": 258,
     "metadata": {},
     "output_type": "execute_result"
    }
   ],
   "source": [
    "zz"
   ]
  }
 ],
 "metadata": {
  "kernelspec": {
   "display_name": ".venv",
   "language": "python",
   "name": "python3"
  },
  "language_info": {
   "codemirror_mode": {
    "name": "ipython",
    "version": 3
   },
   "file_extension": ".py",
   "mimetype": "text/x-python",
   "name": "python",
   "nbconvert_exporter": "python",
   "pygments_lexer": "ipython3",
   "version": "3.10.10"
  },
  "orig_nbformat": 4
 },
 "nbformat": 4,
 "nbformat_minor": 2
}
